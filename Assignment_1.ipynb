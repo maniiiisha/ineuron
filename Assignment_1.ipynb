{
  "nbformat": 4,
  "nbformat_minor": 0,
  "metadata": {
    "colab": {
      "provenance": []
    },
    "kernelspec": {
      "name": "python3",
      "display_name": "Python 3"
    },
    "language_info": {
      "name": "python"
    }
  },
  "cells": [
    {
      "cell_type": "markdown",
      "source": [
        "## **ASSIGNMENT-1**\n",
        "### Manisha Singh"
      ],
      "metadata": {
        "id": "5Nz5NMwATJWc"
      }
    },
    {
      "cell_type": "markdown",
      "source": [
        "**Q1. Find out all the types of error that we have encountered in our lecture and why? Also include the examples.**\n",
        "\n"
      ],
      "metadata": {
        "id": "QBuscSD_UrKn"
      }
    },
    {
      "cell_type": "code",
      "source": [
        "# syntax error\n",
        "Print(\"Hello\")\n",
        "\n",
        "print(Hello)\n",
        "\n",
        "print(\"Hello\n",
        "there!\")"
      ],
      "metadata": {
        "colab": {
          "base_uri": "https://localhost:8080/",
          "height": 130
        },
        "id": "jjklvu8Yhf2b",
        "outputId": "928b006d-fc51-48b6-9101-99987c8cc54f"
      },
      "execution_count": 9,
      "outputs": [
        {
          "output_type": "error",
          "ename": "SyntaxError",
          "evalue": "ignored",
          "traceback": [
            "\u001b[0;36m  File \u001b[0;32m\"<ipython-input-9-bd9b07f6c522>\"\u001b[0;36m, line \u001b[0;32m6\u001b[0m\n\u001b[0;31m    print(\"Hello\u001b[0m\n\u001b[0m                ^\u001b[0m\n\u001b[0;31mSyntaxError\u001b[0m\u001b[0;31m:\u001b[0m EOL while scanning string literal\n"
          ]
        }
      ]
    },
    {
      "cell_type": "markdown",
      "source": [
        "We can clearly see that the above examples contain name error and syntax error because it's not written in correct syntax and should be written as:"
      ],
      "metadata": {
        "id": "gxdCRacriJ_c"
      }
    },
    {
      "cell_type": "code",
      "source": [
        "print(\"Hello\")"
      ],
      "metadata": {
        "colab": {
          "base_uri": "https://localhost:8080/"
        },
        "id": "q0VwyxMUiiy2",
        "outputId": "c6ec1207-0543-4090-f5a2-a03aa5ee160a"
      },
      "execution_count": 10,
      "outputs": [
        {
          "output_type": "stream",
          "name": "stdout",
          "text": [
            "Hello\n"
          ]
        }
      ]
    },
    {
      "cell_type": "code",
      "source": [
        "# type error\n",
        "5 + \"minutes\""
      ],
      "metadata": {
        "colab": {
          "base_uri": "https://localhost:8080/",
          "height": 183
        },
        "id": "C0Fc-Ly9jEll",
        "outputId": "b943f56a-3c20-4e47-c262-796f5793af88"
      },
      "execution_count": 11,
      "outputs": [
        {
          "output_type": "error",
          "ename": "TypeError",
          "evalue": "ignored",
          "traceback": [
            "\u001b[0;31m---------------------------------------------------------------------------\u001b[0m",
            "\u001b[0;31mTypeError\u001b[0m                                 Traceback (most recent call last)",
            "\u001b[0;32m<ipython-input-11-169b95f21ade>\u001b[0m in \u001b[0;36m<module>\u001b[0;34m\u001b[0m\n\u001b[1;32m      1\u001b[0m \u001b[0;31m# type error\u001b[0m\u001b[0;34m\u001b[0m\u001b[0;34m\u001b[0m\u001b[0;34m\u001b[0m\u001b[0m\n\u001b[0;32m----> 2\u001b[0;31m \u001b[0;36m5\u001b[0m \u001b[0;34m+\u001b[0m \u001b[0;34m\"minutes\"\u001b[0m\u001b[0;34m\u001b[0m\u001b[0;34m\u001b[0m\u001b[0m\n\u001b[0m",
            "\u001b[0;31mTypeError\u001b[0m: unsupported operand type(s) for +: 'int' and 'str'"
          ]
        }
      ]
    },
    {
      "cell_type": "markdown",
      "source": [
        "The above example throws a type error because an integer cannot be added with a string. And not only addition, we cannot perform other operations as well with the combination of int and str datatype. "
      ],
      "metadata": {
        "id": "_uaBEwW5kBNa"
      }
    },
    {
      "cell_type": "code",
      "source": [
        "# type conversion\n"
      ],
      "metadata": {
        "id": "tnzNP7ymljZ5"
      },
      "execution_count": null,
      "outputs": []
    },
    {
      "cell_type": "markdown",
      "source": [
        "**Q2. Take input A and B and print their sum, mul, div, square of the nos.**"
      ],
      "metadata": {
        "id": "mMUEDyTHUvi_"
      }
    },
    {
      "cell_type": "code",
      "source": [
        "a = int(input(\"Enter the value of a: \"))\n",
        "b = int(input(\"Enter the value of b: \"))\n",
        "\n",
        "print(f\"Sum of a and b is {a+b}\")\n",
        "print(f\"Multiplication of a and b is {a*b}\")\n",
        "print(f\"Division of a and b is {a/b}\")\n",
        "print(f\"Square of a is {a**2} and square of b is {b**2}\")"
      ],
      "metadata": {
        "colab": {
          "base_uri": "https://localhost:8080/"
        },
        "id": "QGjzP_64WAhh",
        "outputId": "afd62201-d2b5-4340-a870-e8849880a381"
      },
      "execution_count": 2,
      "outputs": [
        {
          "output_type": "stream",
          "name": "stdout",
          "text": [
            "Enter the value of a: 2\n",
            "Enter the value of b: 3\n",
            "Sum of a and b is 5\n",
            "Multiplication of a and b is 6\n",
            "Division of a and b is 0.6666666666666666\n",
            "Square of a is 4 and square of b is 9\n"
          ]
        }
      ]
    },
    {
      "cell_type": "markdown",
      "source": [
        "**Q3. How many reserved keywords are there in python and why we should not use them as a variable name.**"
      ],
      "metadata": {
        "id": "iYB1TaSTXj_7"
      }
    },
    {
      "cell_type": "markdown",
      "source": [
        "Following are the reserved keywords in python:\n",
        "‘False’, ‘None’, ‘True’, ‘and’, ‘as’, ‘assert’, ‘async’, ‘await’, ‘break’, ‘class’, ‘continue’, ‘def’, ‘del’, ‘elif’, ‘else’, ‘except’, ‘finally’, ‘for’, ‘from’, ‘global’, ‘if’, ‘import’, ‘in’, ‘is’, ‘lambda’, ‘nonlocal’, ‘not’, ‘or’, ‘pass’, ‘raise’, ‘return’, ‘try’, ‘while’, ‘with’ and ‘yield’.\n",
        "\n",
        "The reserved keywords in python are already defined with predefined meaning and syntax and using those keywords as variable name conflicts the meaning and purpose of it. Therefore, reserved keywords cannot be used as a variable name."
      ],
      "metadata": {
        "id": "CW5xKobmXwmb"
      }
    },
    {
      "cell_type": "markdown",
      "source": [
        "**Q4. Create email ids with the user inputs in the following format - lastname.firstname@gmail.com**"
      ],
      "metadata": {
        "id": "8nhaFQp3bCro"
      }
    },
    {
      "cell_type": "code",
      "source": [
        "firstName = input(\"Enter your firstname: \")\n",
        "lastName = input(\"Enter your lastname: \")\n",
        "\n",
        "print(f\"Your email-id is {lastName}.{firstName}@gmail.com\")"
      ],
      "metadata": {
        "colab": {
          "base_uri": "https://localhost:8080/"
        },
        "id": "ZNGWSCEncEuy",
        "outputId": "5fea6238-7fc7-40c4-b1b4-07472231d2a7"
      },
      "execution_count": 3,
      "outputs": [
        {
          "output_type": "stream",
          "name": "stdout",
          "text": [
            "Enter your firstname: manisha\n",
            "Enter your lastname: singh\n",
            "Your email-id is singh.manisha@gmail.com\n"
          ]
        }
      ]
    },
    {
      "cell_type": "markdown",
      "source": [
        "**Q5. Try to print the following lines -**\n",
        "- Hi I'm Sunny\n",
        "- My address is 22\\3\n",
        "- I earn 20$ daily."
      ],
      "metadata": {
        "id": "Hvr--DMCdA55"
      }
    },
    {
      "cell_type": "code",
      "source": [
        "a = \"\"\"\n",
        "Hi I'm Sunny\n",
        "My address is 22\\3\n",
        "I earn 20$ daily\n",
        "\"\"\"\n",
        "\n",
        "print(a)"
      ],
      "metadata": {
        "colab": {
          "base_uri": "https://localhost:8080/"
        },
        "id": "JzIPfVYidNcm",
        "outputId": "4311d932-f947-479a-cb16-1aa1a2b9ea33"
      },
      "execution_count": 4,
      "outputs": [
        {
          "output_type": "stream",
          "name": "stdout",
          "text": [
            "\n",
            "Hi I'm Sunny\n",
            "My address is 22\u0003\n",
            "I earn 20$ daily\n",
            "\n"
          ]
        }
      ]
    },
    {
      "cell_type": "markdown",
      "source": [
        "**Q6. Take user input (name, address, date of birth etc) to fill a form for your college and print their email IDs**"
      ],
      "metadata": {
        "id": "IgtEVOixebX9"
      }
    },
    {
      "cell_type": "code",
      "source": [
        "firstName = input(\"Enter your firstname: \")\n",
        "lastName = input(\"Enter your lastname: \")\n",
        "address = input(\"Enter your address: \")\n",
        "dob = input(\"Enter your date of birth (dd-mm-yyyy): \")\n",
        "branch = input(\"Enter your branch (CSE, ME, ETC, CE): \")\n",
        "\n",
        "print(f\"Your email-id is {firstName}{lastName}.{branch.lower()}@gmail.com\")"
      ],
      "metadata": {
        "colab": {
          "base_uri": "https://localhost:8080/"
        },
        "id": "4BgI7djaeluW",
        "outputId": "635238a8-bcbc-4bf0-c918-dd40be281f14"
      },
      "execution_count": 6,
      "outputs": [
        {
          "output_type": "stream",
          "name": "stdout",
          "text": [
            "Enter your firstname: manisha\n",
            "Enter your lastname: singh\n",
            "Enter your address: Nagpur, Maharashtra\n",
            "Enter your date of birth (dd-mm-yyyy): 12-07-2000\n",
            "Enter your branch (CSE, ME, ETC, CE): CSE\n",
            "Your email-id is manishasingh.cse@gmail.com\n"
          ]
        }
      ]
    },
    {
      "cell_type": "markdown",
      "source": [
        "**Q7. Convert the following -**\n",
        "- \"22.4\" into integer\n",
        "- \"22\" into complex no."
      ],
      "metadata": {
        "id": "aCT7Ej5MgVyG"
      }
    },
    {
      "cell_type": "code",
      "source": [
        "# float to int\n",
        "a = 22.4\n",
        "a = int(a)\n",
        "\n",
        "print(a)"
      ],
      "metadata": {
        "colab": {
          "base_uri": "https://localhost:8080/"
        },
        "id": "jt7ccONWgcsK",
        "outputId": "97f8783d-08b9-43ce-cc22-9afc73e25d2d"
      },
      "execution_count": 7,
      "outputs": [
        {
          "output_type": "stream",
          "name": "stdout",
          "text": [
            "22\n"
          ]
        }
      ]
    },
    {
      "cell_type": "code",
      "source": [
        "# int to complex\n",
        "b = 22\n",
        "b = complex(b)\n",
        "\n",
        "print(b)"
      ],
      "metadata": {
        "colab": {
          "base_uri": "https://localhost:8080/"
        },
        "id": "RN9Eo3B6g2LX",
        "outputId": "f15f2426-6a6c-4817-e62f-40e7401fdde0"
      },
      "execution_count": 8,
      "outputs": [
        {
          "output_type": "stream",
          "name": "stdout",
          "text": [
            "(22+0j)\n"
          ]
        }
      ]
    }
  ]
}