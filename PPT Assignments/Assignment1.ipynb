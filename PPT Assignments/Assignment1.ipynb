{
 "cells": [
  {
   "attachments": {},
   "cell_type": "markdown",
   "metadata": {},
   "source": [
    "**Q1.**"
   ]
  },
  {
   "cell_type": "code",
   "execution_count": 2,
   "metadata": {},
   "outputs": [],
   "source": [
    "def indices(arr, target):\n",
    "    i = 0\n",
    "    j = 0\n",
    "\n",
    "    while i <= j:\n",
    "        if (arr[i] + arr[j]) == target:\n",
    "            return [i, j]\n",
    "        \n",
    "        elif j <= len(arr):\n",
    "            j += 1\n",
    "\n",
    "        else:\n",
    "            i += 1\n",
    "    "
   ]
  },
  {
   "cell_type": "code",
   "execution_count": 3,
   "metadata": {},
   "outputs": [
    {
     "data": {
      "text/plain": [
       "[0, 1]"
      ]
     },
     "execution_count": 3,
     "metadata": {},
     "output_type": "execute_result"
    }
   ],
   "source": [
    "indices([2, 7, 11, 15], 9)"
   ]
  },
  {
   "attachments": {},
   "cell_type": "markdown",
   "metadata": {},
   "source": [
    "**Q2.**"
   ]
  },
  {
   "cell_type": "code",
   "execution_count": 4,
   "metadata": {},
   "outputs": [],
   "source": [
    "def remove(nums, val):\n",
    "    count = 0\n",
    "    i = 0\n",
    "    j = len(nums)\n",
    "\n",
    "    while i<j:\n",
    "        if nums[i] == val:\n",
    "            nums.pop(i)\n",
    "            count += 1\n",
    "            i -= 1\n",
    "\n",
    "            nums.append('-')\n",
    "            j = len(nums)\n",
    "\n",
    "        elif i <= len(nums):\n",
    "            i += 1\n",
    "\n",
    "    return f'k = {len(nums) - count}',nums"
   ]
  },
  {
   "cell_type": "code",
   "execution_count": 5,
   "metadata": {},
   "outputs": [
    {
     "data": {
      "text/plain": [
       "('k = 2', [2, 2, '-', '-'])"
      ]
     },
     "execution_count": 5,
     "metadata": {},
     "output_type": "execute_result"
    }
   ],
   "source": [
    "remove([3,2,2,3], 3)"
   ]
  },
  {
   "attachments": {},
   "cell_type": "markdown",
   "metadata": {},
   "source": [
    "**Q3.**"
   ]
  },
  {
   "cell_type": "code",
   "execution_count": 6,
   "metadata": {},
   "outputs": [],
   "source": [
    "def searchInsert(nums, target):\n",
    "    i = 0\n",
    "    j = len(nums) - 1\n",
    "\n",
    "    while i <= j:\n",
    "        if target > nums[-1]:\n",
    "            return len(nums)\n",
    "        \n",
    "        elif nums[i] == target:\n",
    "            return i\n",
    "        \n",
    "        elif nums[i] <= target and nums[i+1] >= target:\n",
    "            return i+1\n",
    "        \n",
    "        elif nums[i] >= target:\n",
    "            return i\n",
    "    \n",
    "        else:\n",
    "            i += 1"
   ]
  },
  {
   "cell_type": "code",
   "execution_count": 7,
   "metadata": {},
   "outputs": [
    {
     "data": {
      "text/plain": [
       "2"
      ]
     },
     "execution_count": 7,
     "metadata": {},
     "output_type": "execute_result"
    }
   ],
   "source": [
    "searchInsert([1, 3, 5, 6], 5)"
   ]
  },
  {
   "attachments": {},
   "cell_type": "markdown",
   "metadata": {},
   "source": [
    "**Q4.**"
   ]
  },
  {
   "cell_type": "code",
   "execution_count": 8,
   "metadata": {},
   "outputs": [],
   "source": [
    "def large(digits):\n",
    "    i = 0\n",
    "    j = len(digits) - 1\n",
    "\n",
    "    while j >= 1:\n",
    "        digits[j] += 1\n",
    "\n",
    "        if digits[j] == 10:\n",
    "            digits[j] = 0\n",
    "\n",
    "        else:\n",
    "            return digits\n",
    "        \n",
    "        j -= 1"
   ]
  },
  {
   "cell_type": "code",
   "execution_count": 9,
   "metadata": {},
   "outputs": [
    {
     "data": {
      "text/plain": [
       "[1, 2, 4]"
      ]
     },
     "execution_count": 9,
     "metadata": {},
     "output_type": "execute_result"
    }
   ],
   "source": [
    "large([1, 2, 3])"
   ]
  },
  {
   "attachments": {},
   "cell_type": "markdown",
   "metadata": {},
   "source": [
    "**Q5.**"
   ]
  },
  {
   "cell_type": "code",
   "execution_count": 10,
   "metadata": {},
   "outputs": [],
   "source": [
    "def merge(nums1, m, nums2, n):\n",
    "    a = m-1\n",
    "    b = n-1\n",
    "\n",
    "    for i in range(m+n-1, -1, -1):\n",
    "        if a >= 0 and n >= 0:\n",
    "            if nums1[a] > nums2[b]:\n",
    "                nums1[i] = nums1[a]\n",
    "                a -= 1\n",
    "\n",
    "            elif b >= 0:\n",
    "                nums1[i] = nums2[b]\n",
    "                b -= 1\n",
    "\n",
    "            else:\n",
    "                break\n",
    "\n",
    "    return nums1"
   ]
  },
  {
   "cell_type": "code",
   "execution_count": 11,
   "metadata": {},
   "outputs": [
    {
     "data": {
      "text/plain": [
       "[1, 2, 2, 3, 5, 6]"
      ]
     },
     "execution_count": 11,
     "metadata": {},
     "output_type": "execute_result"
    }
   ],
   "source": [
    "merge([1,2,3,0,0,0], 3, [2,5,6], 3)"
   ]
  },
  {
   "attachments": {},
   "cell_type": "markdown",
   "metadata": {},
   "source": [
    "**Q6.**"
   ]
  },
  {
   "cell_type": "code",
   "execution_count": 12,
   "metadata": {},
   "outputs": [],
   "source": [
    "def twice(nums):\n",
    "    numset = set(nums)\n",
    "\n",
    "    if len(nums) != len(numset):\n",
    "        return True\n",
    "    \n",
    "    else:\n",
    "        return False"
   ]
  },
  {
   "cell_type": "code",
   "execution_count": 13,
   "metadata": {},
   "outputs": [
    {
     "data": {
      "text/plain": [
       "True"
      ]
     },
     "execution_count": 13,
     "metadata": {},
     "output_type": "execute_result"
    }
   ],
   "source": [
    "twice([1, 2, 3, 1])"
   ]
  },
  {
   "attachments": {},
   "cell_type": "markdown",
   "metadata": {},
   "source": [
    "**Q7.**"
   ]
  },
  {
   "cell_type": "code",
   "execution_count": 16,
   "metadata": {},
   "outputs": [],
   "source": [
    "def movezeros(nums):\n",
    "    sort = sorted(nums, reverse=True)\n",
    "    return sort"
   ]
  },
  {
   "cell_type": "code",
   "execution_count": 17,
   "metadata": {},
   "outputs": [
    {
     "data": {
      "text/plain": [
       "[12, 3, 1, 0, 0]"
      ]
     },
     "execution_count": 17,
     "metadata": {},
     "output_type": "execute_result"
    }
   ],
   "source": [
    "movezeros([0, 1, 0, 3, 12])"
   ]
  },
  {
   "attachments": {},
   "cell_type": "markdown",
   "metadata": {},
   "source": [
    "**Q8.**"
   ]
  },
  {
   "cell_type": "code",
   "execution_count": 24,
   "metadata": {},
   "outputs": [],
   "source": [
    "def missing(nums):\n",
    "    n = len(nums)\n",
    "    hastable = {}\n",
    "\n",
    "    for i in nums:\n",
    "        if i in hastable:\n",
    "            duplicate = i\n",
    "\n",
    "        else:\n",
    "            hastable[i] = 1\n",
    "\n",
    "    for j in range(1, n+1):\n",
    "        if j not in hastable:\n",
    "            missing = j\n",
    "        \n",
    "    return [duplicate, missing]\n"
   ]
  },
  {
   "cell_type": "code",
   "execution_count": 26,
   "metadata": {},
   "outputs": [
    {
     "data": {
      "text/plain": [
       "[2, 3]"
      ]
     },
     "execution_count": 26,
     "metadata": {},
     "output_type": "execute_result"
    }
   ],
   "source": [
    "missing([1,2,2,4])"
   ]
  }
 ],
 "metadata": {
  "kernelspec": {
   "display_name": "Python 3",
   "language": "python",
   "name": "python3"
  },
  "language_info": {
   "codemirror_mode": {
    "name": "ipython",
    "version": 3
   },
   "file_extension": ".py",
   "mimetype": "text/x-python",
   "name": "python",
   "nbconvert_exporter": "python",
   "pygments_lexer": "ipython3",
   "version": "3.9.5"
  },
  "orig_nbformat": 4
 },
 "nbformat": 4,
 "nbformat_minor": 2
}
