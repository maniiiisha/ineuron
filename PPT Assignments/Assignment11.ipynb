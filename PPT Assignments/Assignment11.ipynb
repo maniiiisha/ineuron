{
 "cells": [
  {
   "attachments": {},
   "cell_type": "markdown",
   "metadata": {},
   "source": [
    "## **Assignment 11**"
   ]
  },
  {
   "attachments": {},
   "cell_type": "markdown",
   "metadata": {},
   "source": [
    "**Q1.**"
   ]
  },
  {
   "cell_type": "code",
   "execution_count": 1,
   "metadata": {},
   "outputs": [],
   "source": [
    "def squareroot(number):\n",
    "    start = 0\n",
    "    end, ans = number, 1\n",
    "    \n",
    "    while start<=end:\n",
    "        mid = (start + end)//2\n",
    "\n",
    "        if (mid * mid == number):\n",
    "            ans = mid\n",
    "            break\n",
    "\n",
    "        elif (mid * mid < number):\n",
    "            start = mid + 1\n",
    "            ans = mid\n",
    "            \n",
    "        else:\n",
    "            end = mid - 1\n",
    "\n",
    "    return ans"
   ]
  },
  {
   "cell_type": "code",
   "execution_count": 2,
   "metadata": {},
   "outputs": [
    {
     "data": {
      "text/plain": [
       "2"
      ]
     },
     "execution_count": 2,
     "metadata": {},
     "output_type": "execute_result"
    }
   ],
   "source": [
    "squareroot(4)"
   ]
  },
  {
   "attachments": {},
   "cell_type": "markdown",
   "metadata": {},
   "source": [
    "**Q2.**"
   ]
  },
  {
   "cell_type": "code",
   "execution_count": 4,
   "metadata": {},
   "outputs": [],
   "source": [
    "def peak(arr):\n",
    "    start = 0\n",
    "    end = len(arr)-1\n",
    "    n = len(arr)\n",
    "\n",
    "    while start <= end:\n",
    "        mid = (start + end)//2\n",
    "\n",
    "        if((mid == 0 or arr[mid - 1] <= arr[mid]) and (mid == n - 1 or arr[mid + 1] <= arr[mid])):\n",
    "            break\n",
    "\n",
    "        elif mid > 0 and arr[mid - 1] > arr[mid]:\n",
    "            end = mid - 1\n",
    "\n",
    "        else:\n",
    "            start = mid +1\n",
    "\n",
    "    return mid"
   ]
  },
  {
   "cell_type": "code",
   "execution_count": 5,
   "metadata": {},
   "outputs": [
    {
     "data": {
      "text/plain": [
       "2"
      ]
     },
     "execution_count": 5,
     "metadata": {},
     "output_type": "execute_result"
    }
   ],
   "source": [
    "peak([1,2,3,1])"
   ]
  },
  {
   "attachments": {},
   "cell_type": "markdown",
   "metadata": {},
   "source": [
    "**Q3.**"
   ]
  },
  {
   "cell_type": "code",
   "execution_count": 6,
   "metadata": {},
   "outputs": [],
   "source": [
    "def missing(ar, size):\n",
    "    ar.sort()\n",
    "    a = 0\n",
    "    b = size - 1\n",
    "    mid = 0\n",
    "\n",
    "    while b > a + 1:\n",
    "        mid = (a + b) // 2\n",
    "        \n",
    "        if (ar[a] - a) != (ar[mid] - mid):\n",
    "            b = mid\n",
    "        elif (ar[b] - b) != (ar[mid] - mid):\n",
    "            a = mid\n",
    "\n",
    "    return ar[a] + 1"
   ]
  },
  {
   "cell_type": "code",
   "execution_count": 10,
   "metadata": {},
   "outputs": [
    {
     "data": {
      "text/plain": [
       "2"
      ]
     },
     "execution_count": 10,
     "metadata": {},
     "output_type": "execute_result"
    }
   ],
   "source": [
    "missing([3,0,1], len([3,0,1]))"
   ]
  },
  {
   "attachments": {},
   "cell_type": "markdown",
   "metadata": {},
   "source": [
    "**Q4.**"
   ]
  },
  {
   "cell_type": "code",
   "execution_count": 11,
   "metadata": {},
   "outputs": [],
   "source": [
    "def repeated(nums):\n",
    "    nums.sort()\n",
    "    left = 0\n",
    "    right = len(nums)-1\n",
    "\n",
    "    while left < right:\n",
    "        mid = (left + right)//2\n",
    "\n",
    "        if nums[mid] < (mid+1):\n",
    "            right = mid\n",
    "        else:\n",
    "            left = mid + 1\n",
    "            \n",
    "    return nums[left]"
   ]
  },
  {
   "cell_type": "code",
   "execution_count": 12,
   "metadata": {},
   "outputs": [
    {
     "data": {
      "text/plain": [
       "2"
      ]
     },
     "execution_count": 12,
     "metadata": {},
     "output_type": "execute_result"
    }
   ],
   "source": [
    "repeated([1,3,4,2,2])"
   ]
  },
  {
   "attachments": {},
   "cell_type": "markdown",
   "metadata": {},
   "source": [
    "**Q5.**"
   ]
  },
  {
   "cell_type": "code",
   "execution_count": 13,
   "metadata": {},
   "outputs": [],
   "source": [
    "def intersection(nums1, nums2):\n",
    "    \n",
    "    nums1set = set(nums1)\n",
    "    result = set()\n",
    "    \n",
    "    for num in nums2:\n",
    "        if num in nums1set:\n",
    "            result.add(num)\n",
    "            \n",
    "    return list(result)"
   ]
  },
  {
   "cell_type": "code",
   "execution_count": 14,
   "metadata": {},
   "outputs": [
    {
     "data": {
      "text/plain": [
       "[2]"
      ]
     },
     "execution_count": 14,
     "metadata": {},
     "output_type": "execute_result"
    }
   ],
   "source": [
    "intersection([1, 2, 2, 1], [2, 2])"
   ]
  },
  {
   "attachments": {},
   "cell_type": "markdown",
   "metadata": {},
   "source": [
    "**Q6.**"
   ]
  },
  {
   "cell_type": "code",
   "execution_count": 15,
   "metadata": {},
   "outputs": [],
   "source": [
    "def minelement(nums):\n",
    "    l, r = 0, len(nums)-1\n",
    "\n",
    "    while l <= r:\n",
    "        if nums[l] < nums[r]:\n",
    "            return nums[l]\n",
    "        \n",
    "        mid = l + (r - l)//2\n",
    "        if nums[mid] > nums[r]:\n",
    "            l = mid + 1\n",
    "        else:\n",
    "            r = mid - 1\n",
    "\n",
    "    return nums[l]"
   ]
  },
  {
   "cell_type": "code",
   "execution_count": 16,
   "metadata": {},
   "outputs": [
    {
     "data": {
      "text/plain": [
       "1"
      ]
     },
     "execution_count": 16,
     "metadata": {},
     "output_type": "execute_result"
    }
   ],
   "source": [
    "minelement([3,4,5,1,2])"
   ]
  },
  {
   "attachments": {},
   "cell_type": "markdown",
   "metadata": {},
   "source": [
    "**Q7.**"
   ]
  },
  {
   "cell_type": "code",
   "execution_count": 17,
   "metadata": {},
   "outputs": [],
   "source": [
    "def position(nums,target):\n",
    "    l, r = 0, len(nums)-1\n",
    "\n",
    "    while l <= r and len(nums) != 0:\n",
    "        mid = l + (r - l)//2\n",
    "\n",
    "        if nums[mid] == target and nums[mid+1] == target:\n",
    "            return [mid,mid+1]\n",
    "        \n",
    "        elif nums[mid] == target and nums[mid-1] == target:\n",
    "            return [mid-1,mid]\n",
    "        \n",
    "        elif nums[mid] < target:\n",
    "            l = mid+1\n",
    "\n",
    "        else:\n",
    "            r = mid - 1\n",
    "            \n",
    "    return [-1,-1]"
   ]
  },
  {
   "cell_type": "code",
   "execution_count": 18,
   "metadata": {},
   "outputs": [
    {
     "data": {
      "text/plain": [
       "[3, 4]"
      ]
     },
     "execution_count": 18,
     "metadata": {},
     "output_type": "execute_result"
    }
   ],
   "source": [
    "position([5,7,7,8,8,10], 8)"
   ]
  },
  {
   "attachments": {},
   "cell_type": "markdown",
   "metadata": {},
   "source": [
    "**Q8.**"
   ]
  },
  {
   "cell_type": "code",
   "execution_count": 19,
   "metadata": {},
   "outputs": [],
   "source": [
    "def intersect(nums1, nums2):  \n",
    "    result = []\n",
    "    count = {}\n",
    "    \n",
    "    for num in nums1:\n",
    "        if num in count:\n",
    "            count[num] += 1\n",
    "        \n",
    "        else:\n",
    "            count[num] = 1\n",
    "            \n",
    "    for num in nums2:\n",
    "        if num in count and count[num] > 0:\n",
    "            result.append(num)\n",
    "            count[num] -= 1\n",
    "            \n",
    "    return result"
   ]
  },
  {
   "cell_type": "code",
   "execution_count": 20,
   "metadata": {},
   "outputs": [
    {
     "data": {
      "text/plain": [
       "[2, 2]"
      ]
     },
     "execution_count": 20,
     "metadata": {},
     "output_type": "execute_result"
    }
   ],
   "source": [
    "intersect([1,2,2,1], [2,2])"
   ]
  }
 ],
 "metadata": {
  "kernelspec": {
   "display_name": "Python 3",
   "language": "python",
   "name": "python3"
  },
  "language_info": {
   "codemirror_mode": {
    "name": "ipython",
    "version": 3
   },
   "file_extension": ".py",
   "mimetype": "text/x-python",
   "name": "python",
   "nbconvert_exporter": "python",
   "pygments_lexer": "ipython3",
   "version": "3.9.5"
  },
  "orig_nbformat": 4
 },
 "nbformat": 4,
 "nbformat_minor": 2
}
