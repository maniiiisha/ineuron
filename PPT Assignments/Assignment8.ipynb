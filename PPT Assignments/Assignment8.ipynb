{
 "cells": [
  {
   "attachments": {},
   "cell_type": "markdown",
   "metadata": {},
   "source": [
    "## **Assignment 8**"
   ]
  },
  {
   "attachments": {},
   "cell_type": "markdown",
   "metadata": {},
   "source": [
    "**Q1.**"
   ]
  },
  {
   "cell_type": "code",
   "execution_count": 1,
   "metadata": {},
   "outputs": [],
   "source": [
    "def minideletesum(s1, s2):\n",
    "        m = len(s1)\n",
    "        n = len(s2)\n",
    "        \n",
    "        dp = [[0 for i in range(len(s1) + 1)] for j in range(len(s2) + 1)]\n",
    "\n",
    "        for i in range(len(s2) + 1):\n",
    "            for j in range(len(s1) + 1):\n",
    "                if i == 0 and j == 0: \n",
    "                    continue\n",
    "                elif i == 0:\n",
    "                    dp[i][j] += dp[i][j-1] + ord(s1[j-1])\n",
    "                elif j  == 0:\n",
    "                    dp[i][j] += dp[i-1][j] + ord(s2[i-1])\n",
    "                elif s1[j-1] == s2[i-1]:\n",
    "                    dp[i][j] = dp[i-1][j-1]\n",
    "                else:\n",
    "                    dp[i][j] = min(ord(s1[j-1]) + dp[i][j-1], ord(s2[i-1]) + dp[i-1][j])\n",
    "        \n",
    "        return dp[n][m]"
   ]
  },
  {
   "cell_type": "code",
   "execution_count": 2,
   "metadata": {},
   "outputs": [
    {
     "data": {
      "text/plain": [
       "231"
      ]
     },
     "execution_count": 2,
     "metadata": {},
     "output_type": "execute_result"
    }
   ],
   "source": [
    "minideletesum(\"sea\", \"eat\")"
   ]
  },
  {
   "attachments": {},
   "cell_type": "markdown",
   "metadata": {},
   "source": [
    "**Q2.**"
   ]
  },
  {
   "cell_type": "code",
   "execution_count": 3,
   "metadata": {},
   "outputs": [],
   "source": [
    "def validstring(sequence):\n",
    "    while True:\n",
    "        if '()' in sequence :\n",
    "            sequence = sequence.replace ( '()' , '' )\n",
    "\n",
    "        elif '{}' in sequence :\n",
    "            sequence = sequence.replace ( '{}' , '' )\n",
    "\n",
    "        elif '[]' in sequence :\n",
    "            sequence = sequence.replace ( '[]' , '' )\n",
    "            \n",
    "        else:\n",
    "            return not sequence"
   ]
  },
  {
   "cell_type": "code",
   "execution_count": 4,
   "metadata": {},
   "outputs": [
    {
     "data": {
      "text/plain": [
       "True"
      ]
     },
     "execution_count": 4,
     "metadata": {},
     "output_type": "execute_result"
    }
   ],
   "source": [
    "validstring(\"()\")"
   ]
  },
  {
   "attachments": {},
   "cell_type": "markdown",
   "metadata": {},
   "source": [
    "**Q3.**"
   ]
  },
  {
   "cell_type": "code",
   "execution_count": 5,
   "metadata": {},
   "outputs": [],
   "source": [
    "def minsteps(word1, word2):\n",
    "\n",
    "    len1 = len(word1)\n",
    "    len2 = len(word2)\n",
    "\n",
    "    dp = [[0] * (len2 + 1) for _ in range(len1 + 1)]\n",
    "\n",
    "    for i in range(1, len1 + 1):\n",
    "        for j in range(1, len2 + 1):\n",
    "            if word1[i - 1] == word2[j - 1]:\n",
    "                dp[i][j] = dp[i - 1][j - 1] + 1\n",
    "            else:\n",
    "                dp[i][j] = max(dp[i - 1][j], dp[i][j - 1])\n",
    "\n",
    "    lcs_length = dp[len1][len2]\n",
    "    min_steps = len1 + len2 - 2 * lcs_length\n",
    "\n",
    "    return min_steps"
   ]
  },
  {
   "cell_type": "code",
   "execution_count": 6,
   "metadata": {},
   "outputs": [
    {
     "data": {
      "text/plain": [
       "2"
      ]
     },
     "execution_count": 6,
     "metadata": {},
     "output_type": "execute_result"
    }
   ],
   "source": [
    "minsteps(\"sea\", \"eat\")"
   ]
  },
  {
   "attachments": {},
   "cell_type": "markdown",
   "metadata": {},
   "source": [
    "**Q4.**"
   ]
  },
  {
   "cell_type": "code",
   "execution_count": 7,
   "metadata": {},
   "outputs": [],
   "source": [
    "class Node:\n",
    "    def __init__(self, element):\n",
    "        self.data = element\n",
    "        self.left = None\n",
    "        self.right = None\n",
    "\n",
    "def preorder(root):\n",
    "    if (not root):\n",
    "        return\n",
    " \n",
    "    print(root.data, end = \" \")\n",
    "    preorder(root.left)\n",
    "    preorder(root.right)\n",
    "\n",
    "def constructTree(s):\n",
    "    root = Node(ord(s[0]) - ord('0'))\n",
    "    stk = []\n",
    "\n",
    "    for i in range(1,len(s)):\n",
    "        if (s[i] == '('):\n",
    "            stk.append(root)\n",
    "\n",
    "        elif (s[i] == ')'):\n",
    "            root = stk[-1]\n",
    "            del stk[-1]\n",
    "\n",
    "        else:\n",
    "            if (root.left == None):\n",
    "                left = Node(ord(s[i]) - ord('0'))\n",
    "                root.left = left\n",
    "                root = root.left\n",
    " \n",
    "            elif (root.right == None):\n",
    "                right =  Node(ord(s[i]) - ord('0'))\n",
    "                root.right = right\n",
    "                root = root.right\n",
    "\n",
    "    return root"
   ]
  },
  {
   "cell_type": "code",
   "execution_count": 9,
   "metadata": {},
   "outputs": [],
   "source": [
    "root = constructTree(\"4(2(3)(1))(6(5))\")"
   ]
  },
  {
   "cell_type": "code",
   "execution_count": 10,
   "metadata": {},
   "outputs": [
    {
     "name": "stdout",
     "output_type": "stream",
     "text": [
      "4 2 3 1 6 5 "
     ]
    }
   ],
   "source": [
    "preorder(root)"
   ]
  },
  {
   "attachments": {},
   "cell_type": "markdown",
   "metadata": {},
   "source": [
    "**Q5.**"
   ]
  },
  {
   "cell_type": "code",
   "execution_count": 11,
   "metadata": {},
   "outputs": [],
   "source": [
    "def compress(chars):\n",
    "    anchor = write = 0\n",
    "    n = len(chars)\n",
    "    \n",
    "    for read in range(n):\n",
    "        if read + 1 == n or chars[read] != chars[read + 1]:\n",
    "            chars[write] = chars[anchor]\n",
    "            write += 1\n",
    "\n",
    "            if read > anchor:\n",
    "                count = read - anchor + 1\n",
    "                count_str = str(count)\n",
    "\n",
    "                for c in count_str:\n",
    "                    chars[write] = c\n",
    "                    write += 1\n",
    "\n",
    "            anchor = read + 1\n",
    "\n",
    "    return write"
   ]
  },
  {
   "cell_type": "code",
   "execution_count": 12,
   "metadata": {},
   "outputs": [
    {
     "data": {
      "text/plain": [
       "6"
      ]
     },
     "execution_count": 12,
     "metadata": {},
     "output_type": "execute_result"
    }
   ],
   "source": [
    "compress([\"a\",\"a\",\"b\",\"b\",\"c\",\"c\",\"c\"])"
   ]
  },
  {
   "attachments": {},
   "cell_type": "markdown",
   "metadata": {},
   "source": [
    "**Q6.**"
   ]
  },
  {
   "cell_type": "code",
   "execution_count": 13,
   "metadata": {},
   "outputs": [],
   "source": [
    "from collections import Counter\n",
    "\n",
    "def anagrams(s, p):\n",
    "\n",
    "    result = []\n",
    "    p_count = Counter(p)\n",
    "    window_size = len(p)\n",
    "    window_count = Counter(s[:window_size])\n",
    "    \n",
    "    if window_count == p_count:\n",
    "        result.append(0)\n",
    "    \n",
    "    for i in range(1, len(s) - window_size + 1):\n",
    "        if window_count[s[i - 1]] == 1:\n",
    "            del window_count[s[i - 1]]\n",
    "\n",
    "        else:\n",
    "            window_count[s[i - 1]] -= 1\n",
    "        \n",
    "        window_count[s[i + window_size - 1]] += 1\n",
    "        \n",
    "        if window_count == p_count:\n",
    "            result.append(i)\n",
    "    \n",
    "    return result"
   ]
  },
  {
   "cell_type": "code",
   "execution_count": 14,
   "metadata": {},
   "outputs": [
    {
     "data": {
      "text/plain": [
       "[0, 6]"
      ]
     },
     "execution_count": 14,
     "metadata": {},
     "output_type": "execute_result"
    }
   ],
   "source": [
    "anagrams(\"cbaebabacd\", \"abc\")"
   ]
  },
  {
   "attachments": {},
   "cell_type": "markdown",
   "metadata": {},
   "source": [
    "**Q7.**"
   ]
  },
  {
   "cell_type": "code",
   "execution_count": 15,
   "metadata": {},
   "outputs": [],
   "source": [
    "def decodedstr(s):\n",
    "    stack = []\n",
    "    repetition_count = 0\n",
    "    decoded_string = ''\n",
    "\n",
    "    for char in s:\n",
    "        if char.isdigit():\n",
    "            repetition_count = repetition_count * 10 + int(char)\n",
    "\n",
    "        elif char == '[':\n",
    "            stack.append((repetition_count, decoded_string))\n",
    "            repetition_count = 0\n",
    "            decoded_string = ''\n",
    "\n",
    "        elif char == ']':\n",
    "            prev_repetition_count, prev_decoded_string = stack.pop()\n",
    "            decoded_string = prev_decoded_string + prev_repetition_count * decoded_string\n",
    "        \n",
    "        else:\n",
    "            decoded_string += char\n",
    "\n",
    "    return decoded_string"
   ]
  },
  {
   "cell_type": "code",
   "execution_count": 16,
   "metadata": {},
   "outputs": [
    {
     "data": {
      "text/plain": [
       "'aaabcbc'"
      ]
     },
     "execution_count": 16,
     "metadata": {},
     "output_type": "execute_result"
    }
   ],
   "source": [
    "decodedstr(\"3[a]2[bc]\")"
   ]
  },
  {
   "attachments": {},
   "cell_type": "markdown",
   "metadata": {},
   "source": [
    "**Q8.**"
   ]
  },
  {
   "cell_type": "code",
   "execution_count": 17,
   "metadata": {},
   "outputs": [],
   "source": [
    "def swapequal(s, goal):\n",
    "    if len(s) != len(goal):\n",
    "        return False\n",
    "\n",
    "    if s == goal and len(set(s)) < len(s):\n",
    "        return True\n",
    "\n",
    "    diff_positions = []\n",
    "    for i in range(len(s)):\n",
    "        if s[i] != goal[i]:\n",
    "            diff_positions.append(i)\n",
    "\n",
    "    if len(diff_positions) != 2:\n",
    "        return False\n",
    "\n",
    "    i, j = diff_positions\n",
    "    if s[i] == goal[j] and s[j] == goal[i]:\n",
    "        return True\n",
    "\n",
    "    return False"
   ]
  },
  {
   "cell_type": "code",
   "execution_count": 18,
   "metadata": {},
   "outputs": [
    {
     "data": {
      "text/plain": [
       "True"
      ]
     },
     "execution_count": 18,
     "metadata": {},
     "output_type": "execute_result"
    }
   ],
   "source": [
    "swapequal(\"ab\", \"ba\")"
   ]
  }
 ],
 "metadata": {
  "kernelspec": {
   "display_name": "Python 3",
   "language": "python",
   "name": "python3"
  },
  "language_info": {
   "codemirror_mode": {
    "name": "ipython",
    "version": 3
   },
   "file_extension": ".py",
   "mimetype": "text/x-python",
   "name": "python",
   "nbconvert_exporter": "python",
   "pygments_lexer": "ipython3",
   "version": "3.9.5"
  },
  "orig_nbformat": 4
 },
 "nbformat": 4,
 "nbformat_minor": 2
}
