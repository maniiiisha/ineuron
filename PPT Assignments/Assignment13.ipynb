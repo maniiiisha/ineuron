{
 "cells": [
  {
   "attachments": {},
   "cell_type": "markdown",
   "metadata": {},
   "source": [
    "## **Assignment 13**"
   ]
  },
  {
   "attachments": {},
   "cell_type": "markdown",
   "metadata": {},
   "source": [
    "**Q1.**"
   ]
  },
  {
   "cell_type": "code",
   "execution_count": 1,
   "metadata": {},
   "outputs": [],
   "source": [
    "class Node:\n",
    "    def __init__(self,data):\n",
    "        self.data = data\n",
    "        self.next = None\n",
    "\n",
    "class Linkedlist:\n",
    "    def __init__(self):\n",
    "        self.head = None\n",
    "        \n",
    "def newList(root1, root2): \n",
    "    ptr1 = root1\n",
    "    ptr2 = root2\n",
    "    \n",
    "    root = None\n",
    "    while (ptr1 != None) :\n",
    "        temp = Node(0)\n",
    "        temp.next = None\n",
    "    \n",
    "        if (ptr1.data < ptr2.data):\n",
    "            temp.data = ptr2.data\n",
    "        else:\n",
    "            temp.data = ptr1.data\n",
    "    \n",
    "        if (root == None):\n",
    "            root = temp\n",
    "        else :\n",
    "            ptr = root\n",
    "            while (ptr.next != None):\n",
    "                ptr = ptr.next\n",
    "\n",
    "            ptr.next = temp\n",
    "        ptr1 = ptr1.next\n",
    "        ptr2 = ptr2.next\n",
    "    \n",
    "    return root\n",
    "\n",
    "def display(root):\n",
    "    while (root != None) :\n",
    "        print(root.data, \"->\", end = \" \")\n",
    "        root = root.next\n",
    "     \n",
    "    print(\" \");"
   ]
  },
  {
   "cell_type": "code",
   "execution_count": 2,
   "metadata": {},
   "outputs": [],
   "source": [
    "first_head = Node(5)\n",
    "first_head.next = Node(2)\n",
    "first_head.next.next = Node(3)\n",
    "first_head.next.next.next = Node(8)\n",
    "\n",
    "second_head = Node(1)\n",
    "second_head.next = Node(7)\n",
    "second_head.next.next = Node(4)\n",
    "second_head.next.next.next = Node(5)"
   ]
  },
  {
   "cell_type": "code",
   "execution_count": 3,
   "metadata": {},
   "outputs": [
    {
     "name": "stdout",
     "output_type": "stream",
     "text": [
      "5 -> 2 -> 3 -> 8 ->  \n",
      "1 -> 7 -> 4 -> 5 ->  \n"
     ]
    }
   ],
   "source": [
    "display(first_head)\n",
    "display(second_head)"
   ]
  },
  {
   "cell_type": "code",
   "execution_count": 5,
   "metadata": {},
   "outputs": [],
   "source": [
    "root = newList(first_head,second_head)"
   ]
  },
  {
   "cell_type": "code",
   "execution_count": 7,
   "metadata": {},
   "outputs": [
    {
     "name": "stdout",
     "output_type": "stream",
     "text": [
      "5 -> 7 -> 4 -> 8 ->  \n"
     ]
    }
   ],
   "source": [
    "display(root)"
   ]
  },
  {
   "attachments": {},
   "cell_type": "markdown",
   "metadata": {},
   "source": [
    "**Q2.**"
   ]
  },
  {
   "cell_type": "code",
   "execution_count": 9,
   "metadata": {},
   "outputs": [],
   "source": [
    "class Node:\n",
    "    def __init__(self,data):\n",
    "        self.data = data\n",
    "        self.next = None\n",
    "\n",
    "class Linkedlist:\n",
    "    def __init__(self):\n",
    "        self.head = None\n",
    "        \n",
    "    def push(self, data):\n",
    "        new_node = Node(data)\n",
    "        new_node.next = self.head\n",
    "        self.head = new_node\n",
    "    \n",
    "    def __str__(self):\n",
    "        linkedListStr = \"\"\n",
    "        temp = self.head\n",
    "        while temp:\n",
    "            linkedListStr += str(temp.data) + \" -> \"\n",
    "            temp = temp.next\n",
    "        return linkedListStr + \"NULL\"\n",
    "    \n",
    "    def remove_duplicate(self):\n",
    "        temp = self.head\n",
    "        if temp is None:\n",
    "            return\n",
    "        while temp.next is not None:\n",
    "            if temp.data == temp.next.data:\n",
    "                new = temp.next.next\n",
    "                temp.next = None\n",
    "                temp.next = new\n",
    "            else:\n",
    "                temp = temp.next\n",
    "        \n",
    "        return self.head"
   ]
  },
  {
   "cell_type": "code",
   "execution_count": 10,
   "metadata": {},
   "outputs": [
    {
     "name": "stdout",
     "output_type": "stream",
     "text": [
      "Given Linked List\n",
      "11 -> 11 -> 11 -> 21 -> 43 -> 43 -> 60 -> NULL\n"
     ]
    }
   ],
   "source": [
    "linkedList = Linkedlist()\n",
    "linkedList.push(60)\n",
    "linkedList.push(43)\n",
    "linkedList.push(43)\n",
    "linkedList.push(21)\n",
    "linkedList.push(11)\n",
    "linkedList.push(11)\n",
    "linkedList.push(11)\n",
    "print(\"Given Linked List\")\n",
    "print(linkedList)"
   ]
  },
  {
   "cell_type": "code",
   "execution_count": 11,
   "metadata": {},
   "outputs": [
    {
     "name": "stdout",
     "output_type": "stream",
     "text": [
      "11 -> 21 -> 43 -> 60 -> NULL\n"
     ]
    }
   ],
   "source": [
    "linkedList.remove_duplicate()\n",
    "print(linkedList)"
   ]
  },
  {
   "attachments": {},
   "cell_type": "markdown",
   "metadata": {},
   "source": [
    "**Q3.**"
   ]
  },
  {
   "cell_type": "code",
   "execution_count": 13,
   "metadata": {},
   "outputs": [
    {
     "name": "stdout",
     "output_type": "stream",
     "text": [
      "Linked list before reversing: \n",
      "1 -> 2 -> 2 -> 4 -> 5 -> 6 -> 7 -> 8 -> \n",
      "Linked list after reversing: \n",
      "4 -> 2 -> 2 -> 1 -> 8 -> 7 -> 6 -> 5 -> \n"
     ]
    }
   ],
   "source": [
    "class Node:\n",
    "    def __init__(self, data):\n",
    "        self.data = data\n",
    "        self.next = None\n",
    "\n",
    "def reverse(head, k):\n",
    "    if head is None:\n",
    "        return None\n",
    "    \n",
    "    current = head\n",
    "    next = None\n",
    "    prev = None\n",
    "    count = 0\n",
    "\n",
    "    while current is not None and count < k:\n",
    "        next = current.next\n",
    "        current.next = prev\n",
    "        prev = current\n",
    "        current = next\n",
    "        count += 1\n",
    "\n",
    "    if next is not None:\n",
    "        head.next = reverse(next, k)\n",
    "\n",
    "    return prev\n",
    "\n",
    "def insert(root, item):\n",
    "    temp = Node(item)\n",
    "    temp.next = None\n",
    "\n",
    "    if root is None:\n",
    "        root = temp\n",
    "\n",
    "    else:\n",
    "        ptr = root\n",
    "        while ptr.next is not None:\n",
    "            ptr = ptr.next\n",
    "\n",
    "        ptr.next = temp\n",
    "\n",
    "    return root\n",
    "\n",
    "def display(root):\n",
    "    while root is not None:\n",
    "        print(root.data, end=\" -> \")\n",
    "        root = root.next\n",
    "\n",
    "    print()\n",
    "\n",
    "head = None\n",
    "\n",
    "head = insert(head, 1)\n",
    "head = insert(head, 2)\n",
    "head = insert(head, 2)\n",
    "head = insert(head, 4)\n",
    "head = insert(head, 5)\n",
    "head = insert(head, 6)\n",
    "head = insert(head, 7)\n",
    "head = insert(head, 8)\n",
    "\n",
    "print(\"Linked list before reversing: \")\n",
    "display(head)\n",
    "\n",
    "k = 4 \n",
    "head = reverse(head, k)\n",
    "\n",
    "print(\"Linked list after reversing: \")\n",
    "display(head)"
   ]
  },
  {
   "attachments": {},
   "cell_type": "markdown",
   "metadata": {},
   "source": [
    "**Q4.**"
   ]
  },
  {
   "cell_type": "code",
   "execution_count": 14,
   "metadata": {},
   "outputs": [
    {
     "name": "stdout",
     "output_type": "stream",
     "text": [
      "Linked list before reversing: \n",
      "1 -> 2 -> 3 -> 4 -> 5 -> 6 -> 7 -> 8 -> 9 -> \n",
      "Linked list after reversing: \n",
      "3 -> 2 -> 1 -> 4 -> 5 -> 6 -> 9 -> 8 -> 7 -> \n"
     ]
    }
   ],
   "source": [
    "class Node:\n",
    "    def __init__(self, data):\n",
    "        self.data = data\n",
    "        self.next = None\n",
    "\n",
    "def kAltReverse(head, k):\n",
    "    current = head\n",
    "    next = None\n",
    "    prev = None\n",
    "    count = 0\n",
    " \n",
    "    while current is not None and count < k:\n",
    "        next = current.next\n",
    "        current.next = prev\n",
    "        prev = current\n",
    "        current = next\n",
    "        count += 1\n",
    " \n",
    "    if head is not None:\n",
    "        head.next = current\n",
    " \n",
    "    count = 0\n",
    "    while count < k - 1 and current is not None:\n",
    "        current = current.next\n",
    "        count += 1\n",
    "\n",
    "    if current is not None:\n",
    "        current.next = kAltReverse(current.next, k)\n",
    "\n",
    "    return prev\n",
    "\n",
    "def insert(root, item):\n",
    "    temp = Node(item)\n",
    "    temp.next = None\n",
    "\n",
    "    if root is None:\n",
    "        root = temp\n",
    "    else:\n",
    "        ptr = root\n",
    "        while ptr.next is not None:\n",
    "            ptr = ptr.next\n",
    "\n",
    "        ptr.next = temp\n",
    "\n",
    "    return root\n",
    "\n",
    "def display(root):\n",
    "    while root is not None:\n",
    "        print(root.data, end=\" -> \")\n",
    "        root = root.next\n",
    "\n",
    "    print()\n",
    "\n",
    "head = None\n",
    "\n",
    "head = insert(head, 1)\n",
    "head = insert(head, 2)\n",
    "head = insert(head, 3)\n",
    "head = insert(head, 4)\n",
    "head = insert(head, 5)\n",
    "head = insert(head, 6)\n",
    "head = insert(head, 7)\n",
    "head = insert(head, 8)\n",
    "head = insert(head, 9)\n",
    "\n",
    "print(\"Linked list before reversing: \")\n",
    "display(head)\n",
    "\n",
    "k = 3 \n",
    "head = kAltReverse(head, k)\n",
    "\n",
    "print(\"Linked list after reversing: \")\n",
    "display(head)"
   ]
  },
  {
   "attachments": {},
   "cell_type": "markdown",
   "metadata": {},
   "source": [
    "**Q5.**"
   ]
  },
  {
   "cell_type": "code",
   "execution_count": 16,
   "metadata": {},
   "outputs": [],
   "source": [
    "class Node:\n",
    "    def __init__(self,data):\n",
    "        self.data = data\n",
    "        self.next = None\n",
    "\n",
    "class Linkedlist:\n",
    "    def __init__(self):\n",
    "        self.head = None\n",
    "        \n",
    "    def push(self, data):\n",
    "        new_node = Node(data)\n",
    "        new_node.next = self.head\n",
    "        self.head = new_node\n",
    "    \n",
    "    def __str__(self):\n",
    "        linkedListStr = \"\"\n",
    "        temp = self.head\n",
    "\n",
    "        while temp:\n",
    "            linkedListStr += str(temp.data) + \" -> \"\n",
    "            temp = temp.next\n",
    "\n",
    "        return linkedListStr + \"NULL\"\n",
    "    \n",
    "def delete_last_occurance(head,target):\n",
    "    temp = head.head\n",
    "    ptr = None\n",
    "    \n",
    "    while temp!= None:\n",
    "        if temp.data == target:\n",
    "            ptr = temp\n",
    "\n",
    "        temp = temp.next\n",
    "        \n",
    "    if (ptr != None and ptr.next == None):\n",
    "        temp = head\n",
    "        while (temp.next != ptr):\n",
    "            temp = temp.next\n",
    "\n",
    "        temp.next = None\n",
    "    \n",
    "    if (ptr != None and ptr.next != None): \n",
    "        ptr.data = ptr.next.data\n",
    "        temp = ptr.next\n",
    "        ptr.next = ptr.next.next\n",
    "        \n",
    "    return head"
   ]
  },
  {
   "cell_type": "code",
   "execution_count": 17,
   "metadata": {},
   "outputs": [
    {
     "name": "stdout",
     "output_type": "stream",
     "text": [
      "Given Linked List\n",
      "1 -> 2 -> 3 -> 5 -> 2 -> 10 -> NULL\n"
     ]
    }
   ],
   "source": [
    "linkedList = Linkedlist()\n",
    "linkedList.push(10)\n",
    "linkedList.push(2)\n",
    "linkedList.push(5)\n",
    "linkedList.push(3)\n",
    "linkedList.push(2)\n",
    "linkedList.push(1)\n",
    "print(\"Given Linked List\")\n",
    "print(linkedList)"
   ]
  },
  {
   "cell_type": "code",
   "execution_count": 18,
   "metadata": {},
   "outputs": [
    {
     "name": "stdout",
     "output_type": "stream",
     "text": [
      "1 -> 2 -> 3 -> 5 -> 10 -> NULL\n"
     ]
    }
   ],
   "source": [
    "target = 2\n",
    "delete_last_occurance(linkedList, target)\n",
    "print(linkedList)"
   ]
  },
  {
   "attachments": {},
   "cell_type": "markdown",
   "metadata": {},
   "source": [
    "**Q6.**"
   ]
  },
  {
   "cell_type": "code",
   "execution_count": 22,
   "metadata": {},
   "outputs": [],
   "source": [
    "class Node:\n",
    "    def __init__(self,data):\n",
    "        self.data = data\n",
    "        self.next = None\n",
    "\n",
    "class Linkedlist:\n",
    "    def __init__(self):\n",
    "        self.head = None\n",
    "        \n",
    "    def push(self, data):\n",
    "        new_node = Node(data)\n",
    "        new_node.next = self.head\n",
    "        self.head = new_node\n",
    "    \n",
    "    def __str__(self):\n",
    "        linkedListStr = \"\"\n",
    "        temp = self.head\n",
    "        while temp:\n",
    "            linkedListStr += str(temp.data) + \" -> \"\n",
    "            temp = temp.next\n",
    "\n",
    "        return linkedListStr + \"NULL\"\n",
    "    \n",
    "def merge_lists(first, second):\n",
    "    if not first:\n",
    "        return second\n",
    "    if not second:\n",
    "        return first\n",
    "        \n",
    "    if first.data < second.data:\n",
    "        first.next = merge_lists(first.next,second)\n",
    "        return first\n",
    "    \n",
    "    else:\n",
    "        second.next = merge_lists(first,second.next)\n",
    "        return second\n",
    "    \n",
    "def print_list(head):\n",
    "    current = head\n",
    "    while current:\n",
    "        print(current.data, end=\" -> \")\n",
    "        current = current.next"
   ]
  },
  {
   "cell_type": "code",
   "execution_count": 23,
   "metadata": {},
   "outputs": [
    {
     "name": "stdout",
     "output_type": "stream",
     "text": [
      "2 -> 3 -> 5 -> 10 -> 15 -> 20 -> "
     ]
    }
   ],
   "source": [
    "first_head = Node(5)\n",
    "first_head.next = Node(10)\n",
    "first_head.next.next = Node(15)\n",
    "\n",
    "second_head = Node(2)\n",
    "second_head.next = Node(3)\n",
    "second_head.next.next = Node(20)\n",
    "\n",
    "first_head = merge_lists(first_head, second_head)\n",
    "print_list(first_head)"
   ]
  },
  {
   "attachments": {},
   "cell_type": "markdown",
   "metadata": {},
   "source": [
    "**Q7.**"
   ]
  },
  {
   "cell_type": "code",
   "execution_count": 26,
   "metadata": {},
   "outputs": [],
   "source": [
    "class Node:\n",
    "    def __init__(self, data):\n",
    "        self.data = data\n",
    "        self.next = None\n",
    "        self.prev = None\n",
    " \n",
    "class DoublyLinkedList:\n",
    "    def __init__(self):\n",
    "        self.head = None\n",
    " \n",
    "    def reverse(self):\n",
    "        temp = None\n",
    "        current = self.head\n",
    "\n",
    "        while current is not None:\n",
    "            temp = current.prev\n",
    "            current.prev = current.next\n",
    "            current.next = temp\n",
    "            current = current.prev\n",
    " \n",
    "        if temp is not None:\n",
    "            self.head = temp.prev\n",
    " \n",
    "    def push(self, new_data):\n",
    "        new_node = Node(new_data)\n",
    "        new_node.next = self.head\n",
    "\n",
    "        if self.head is not None:\n",
    "            self.head.prev = new_node\n",
    " \n",
    "        self.head = new_node\n",
    " \n",
    "    def printList(self, node):\n",
    "        while(node is not None):\n",
    "            print(node.data, end=' ')\n",
    "            node = node.next"
   ]
  },
  {
   "cell_type": "code",
   "execution_count": 27,
   "metadata": {},
   "outputs": [
    {
     "name": "stdout",
     "output_type": "stream",
     "text": [
      "\n",
      "Original Linked List\n",
      "10 8 4 2 \n",
      "Reversed Linked List\n",
      "2 4 8 10 "
     ]
    }
   ],
   "source": [
    "dll = DoublyLinkedList()\n",
    "dll.push(2)\n",
    "dll.push(4)\n",
    "dll.push(8)\n",
    "dll.push(10)\n",
    " \n",
    "print(\"\\nOriginal Linked List\")\n",
    "dll.printList(dll.head)\n",
    "dll.reverse()\n",
    "print(\"\\nReversed Linked List\")\n",
    "dll.printList(dll.head)"
   ]
  },
  {
   "attachments": {},
   "cell_type": "markdown",
   "metadata": {},
   "source": [
    "**Q8.**"
   ]
  },
  {
   "cell_type": "code",
   "execution_count": 28,
   "metadata": {},
   "outputs": [
    {
     "name": "stdout",
     "output_type": "stream",
     "text": [
      "\n",
      " Original Linked List 10 8 4 2 \n",
      " Modified Linked List 8 4 2 "
     ]
    }
   ],
   "source": [
    "class Node:  \n",
    "    def __init__(self, data):\n",
    "        self.data = data \n",
    "        self.next = None\n",
    "        self.prev = None\n",
    "  \n",
    "class DoublyLinkedList:\n",
    "    def __init__(self):\n",
    "        self.head = None\n",
    "\n",
    "    def deleteNode(self, dele):\n",
    "        if self.head is None or dele is None:\n",
    "            return \n",
    "\n",
    "        if self.head == dele:\n",
    "            self.head = dele.next\n",
    "\n",
    "        if dele.next is not None:\n",
    "            dele.next.prev = dele.prev\n",
    "      \n",
    "        if dele.prev is not None:\n",
    "            dele.prev.next = dele.next\n",
    "  \n",
    "  \n",
    "    def push(self, new_data):\n",
    "        new_node = Node(new_data)\n",
    "        new_node.next = self.head\n",
    "\n",
    "        if self.head is not None:\n",
    "            self.head.prev = new_node\n",
    "   \n",
    "        self.head = new_node\n",
    "  \n",
    "    def printList(self, node):\n",
    "        while(node is not None):\n",
    "            print(node.data,end=' ')\n",
    "            node = node.next\n",
    "         \n",
    "dll = DoublyLinkedList() \n",
    "dll.push(2);\n",
    "dll.push(4);\n",
    "dll.push(8);\n",
    "dll.push(10);\n",
    "  \n",
    "print (\"\\n Original Linked List\", end=' ')\n",
    "dll.printList(dll.head)\n",
    "  \n",
    "\n",
    "dll.deleteNode(dll.head)\n",
    "print(\"\\n Modified Linked List\", end=' ')\n",
    "dll.printList(dll.head)"
   ]
  }
 ],
 "metadata": {
  "kernelspec": {
   "display_name": "Python 3",
   "language": "python",
   "name": "python3"
  },
  "language_info": {
   "codemirror_mode": {
    "name": "ipython",
    "version": 3
   },
   "file_extension": ".py",
   "mimetype": "text/x-python",
   "name": "python",
   "nbconvert_exporter": "python",
   "pygments_lexer": "ipython3",
   "version": "3.9.5"
  },
  "orig_nbformat": 4
 },
 "nbformat": 4,
 "nbformat_minor": 2
}
