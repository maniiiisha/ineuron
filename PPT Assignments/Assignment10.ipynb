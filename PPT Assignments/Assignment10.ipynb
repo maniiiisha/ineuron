{
 "cells": [
  {
   "attachments": {},
   "cell_type": "markdown",
   "metadata": {},
   "source": [
    "## **Assignment 10**"
   ]
  },
  {
   "attachments": {},
   "cell_type": "markdown",
   "metadata": {},
   "source": [
    "**Q1.**"
   ]
  },
  {
   "cell_type": "code",
   "execution_count": 1,
   "metadata": {},
   "outputs": [],
   "source": [
    "def powerofthree(n):\n",
    "    if n <= 0:\n",
    "        return False\n",
    "    \n",
    "    while n > 1:\n",
    "        if n % 3 != 0:\n",
    "            return False\n",
    "        n = n // 3\n",
    "        \n",
    "    return True"
   ]
  },
  {
   "cell_type": "code",
   "execution_count": 2,
   "metadata": {},
   "outputs": [
    {
     "data": {
      "text/plain": [
       "True"
      ]
     },
     "execution_count": 2,
     "metadata": {},
     "output_type": "execute_result"
    }
   ],
   "source": [
    "powerofthree(27)"
   ]
  },
  {
   "attachments": {},
   "cell_type": "markdown",
   "metadata": {},
   "source": [
    "**Q2.**"
   ]
  },
  {
   "cell_type": "code",
   "execution_count": 3,
   "metadata": {},
   "outputs": [],
   "source": [
    "def last(n):\n",
    "    if n == 1:\n",
    "        return 1\n",
    "    else:\n",
    "        return 2*(n//2+1 - last(n//2))"
   ]
  },
  {
   "cell_type": "code",
   "execution_count": 4,
   "metadata": {},
   "outputs": [
    {
     "data": {
      "text/plain": [
       "6"
      ]
     },
     "execution_count": 4,
     "metadata": {},
     "output_type": "execute_result"
    }
   ],
   "source": [
    "last(9)"
   ]
  },
  {
   "attachments": {},
   "cell_type": "markdown",
   "metadata": {},
   "source": [
    "**Q3.**"
   ]
  },
  {
   "cell_type": "code",
   "execution_count": 5,
   "metadata": {},
   "outputs": [],
   "source": [
    "def subsets(string, index, current):\n",
    "    \n",
    "    if index == len(string):\n",
    "        print(current)\n",
    "        return\n",
    "    \n",
    "    subsets(string, index + 1, current + string[index])\n",
    "    subsets(string, index + 1, current)"
   ]
  },
  {
   "cell_type": "code",
   "execution_count": 6,
   "metadata": {},
   "outputs": [
    {
     "name": "stdout",
     "output_type": "stream",
     "text": [
      "abc\n",
      "ab\n",
      "ac\n",
      "a\n",
      "bc\n",
      "b\n",
      "c\n",
      "\n"
     ]
    }
   ],
   "source": [
    "subsets(\"abc\", 0, \"\")"
   ]
  },
  {
   "attachments": {},
   "cell_type": "markdown",
   "metadata": {},
   "source": [
    "**Q4.**"
   ]
  },
  {
   "cell_type": "code",
   "execution_count": 7,
   "metadata": {},
   "outputs": [],
   "source": [
    "def length(string):\n",
    "    \n",
    "    if string == \"\":\n",
    "        return 0\n",
    "    else:\n",
    "        return 1 + length(string[1:])"
   ]
  },
  {
   "cell_type": "code",
   "execution_count": 8,
   "metadata": {},
   "outputs": [
    {
     "data": {
      "text/plain": [
       "4"
      ]
     },
     "execution_count": 8,
     "metadata": {},
     "output_type": "execute_result"
    }
   ],
   "source": [
    "length(\"abcd\")"
   ]
  },
  {
   "attachments": {},
   "cell_type": "markdown",
   "metadata": {},
   "source": [
    "**Q5.**"
   ]
  },
  {
   "cell_type": "code",
   "execution_count": 9,
   "metadata": {},
   "outputs": [],
   "source": [
    "def contiguous(string):\n",
    "    \n",
    "    result = 0\n",
    "    n = len(string)\n",
    "    \n",
    "    for i in range(n):\n",
    "        for j in range(i, n):\n",
    "            if string[i] == string[j]:\n",
    "                result += 1\n",
    "                \n",
    "    return result"
   ]
  },
  {
   "cell_type": "code",
   "execution_count": 10,
   "metadata": {},
   "outputs": [
    {
     "data": {
      "text/plain": [
       "7"
      ]
     },
     "execution_count": 10,
     "metadata": {},
     "output_type": "execute_result"
    }
   ],
   "source": [
    "contiguous(\"abcab\")"
   ]
  },
  {
   "attachments": {},
   "cell_type": "markdown",
   "metadata": {},
   "source": [
    "**Q6.**"
   ]
  },
  {
   "cell_type": "code",
   "execution_count": 11,
   "metadata": {},
   "outputs": [],
   "source": [
    "def towerofhanoi(n, source, destination, intermediate):\n",
    "    \n",
    "    if n == 1:\n",
    "        print(f\"Move disk 1 from pole {source} to pole {destination}\")\n",
    "        return\n",
    "    \n",
    "    towerofhanoi(n-1, source, intermediate, destination)\n",
    "    print(f\"Move disk {n} from pole {source} to pole {destination}\")\n",
    "    towerofhanoi(n-1, intermediate, destination, source)"
   ]
  },
  {
   "cell_type": "code",
   "execution_count": 12,
   "metadata": {},
   "outputs": [
    {
     "name": "stdout",
     "output_type": "stream",
     "text": [
      "Move disk 1 from pole 1 to pole 2\n",
      "Move disk 2 from pole 1 to pole 3\n",
      "Move disk 1 from pole 2 to pole 3\n"
     ]
    }
   ],
   "source": [
    "towerofhanoi(2, 1, 3, 2)"
   ]
  },
  {
   "attachments": {},
   "cell_type": "markdown",
   "metadata": {},
   "source": [
    "**Q7.**"
   ]
  },
  {
   "cell_type": "code",
   "execution_count": 13,
   "metadata": {},
   "outputs": [],
   "source": [
    "def permute(string, index, current):\n",
    "    \n",
    "    if index == len(string):\n",
    "        print(current)\n",
    "        return\n",
    "    \n",
    "    for i in range(index, len(string)):\n",
    "        string[index], string[i] = string[i], string[index]\n",
    "        permute(string, index + 1, current + string[index])\n",
    "        string[index], string[i] = string[i], string[index]"
   ]
  },
  {
   "cell_type": "code",
   "execution_count": 15,
   "metadata": {},
   "outputs": [
    {
     "name": "stdout",
     "output_type": "stream",
     "text": [
      "cd\n",
      "dc\n"
     ]
    }
   ],
   "source": [
    "permute(list(\"cd\"), 0, \"\")"
   ]
  },
  {
   "attachments": {},
   "cell_type": "markdown",
   "metadata": {},
   "source": [
    "**Q8.**"
   ]
  },
  {
   "cell_type": "code",
   "execution_count": 18,
   "metadata": {},
   "outputs": [],
   "source": [
    "def consonants(x): \n",
    "    return not (x == 'a' or x == 'e' or \n",
    "                x == 'i' or x == 'o' or \n",
    "                x == 'u' or x == ' ')\n",
    "  \n",
    "def countconsonants(string, n):  \n",
    "    if n == 1: \n",
    "        return consonants(string[0]) \n",
    "  \n",
    "    return countconsonants(string, n - 1) + consonants(string[n-1])"
   ]
  },
  {
   "cell_type": "code",
   "execution_count": 19,
   "metadata": {},
   "outputs": [
    {
     "data": {
      "text/plain": [
       "3"
      ]
     },
     "execution_count": 19,
     "metadata": {},
     "output_type": "execute_result"
    }
   ],
   "source": [
    "countconsonants(\"abc de\", len(\"abc de\"))"
   ]
  }
 ],
 "metadata": {
  "kernelspec": {
   "display_name": "Python 3",
   "language": "python",
   "name": "python3"
  },
  "language_info": {
   "codemirror_mode": {
    "name": "ipython",
    "version": 3
   },
   "file_extension": ".py",
   "mimetype": "text/x-python",
   "name": "python",
   "nbconvert_exporter": "python",
   "pygments_lexer": "ipython3",
   "version": "3.9.5"
  },
  "orig_nbformat": 4
 },
 "nbformat": 4,
 "nbformat_minor": 2
}
