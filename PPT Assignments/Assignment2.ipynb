{
 "cells": [
  {
   "attachments": {},
   "cell_type": "markdown",
   "metadata": {},
   "source": [
    "**Q1.**"
   ]
  },
  {
   "cell_type": "code",
   "execution_count": 2,
   "metadata": {},
   "outputs": [],
   "source": [
    "def maxsum(nums):\n",
    "    nums.sort()\n",
    "    result = 0\n",
    "\n",
    "    for i in range(0, len(nums), 2):\n",
    "        result += nums[i]\n",
    "\n",
    "    return result"
   ]
  },
  {
   "cell_type": "code",
   "execution_count": 3,
   "metadata": {},
   "outputs": [
    {
     "data": {
      "text/plain": [
       "4"
      ]
     },
     "execution_count": 3,
     "metadata": {},
     "output_type": "execute_result"
    }
   ],
   "source": [
    "maxsum([1, 4, 3, 2])"
   ]
  },
  {
   "attachments": {},
   "cell_type": "markdown",
   "metadata": {},
   "source": [
    "**Q2.**"
   ]
  },
  {
   "cell_type": "code",
   "execution_count": 4,
   "metadata": {},
   "outputs": [],
   "source": [
    "def candies(arr):\n",
    "    n = len(arr)\n",
    "    hashtable = {}\n",
    "\n",
    "    for i in arr:\n",
    "        if i not in hashtable:\n",
    "            hashtable[i] = 1\n",
    "\n",
    "    return min(len(hashtable), n//2)"
   ]
  },
  {
   "cell_type": "code",
   "execution_count": 5,
   "metadata": {},
   "outputs": [
    {
     "data": {
      "text/plain": [
       "3"
      ]
     },
     "execution_count": 5,
     "metadata": {},
     "output_type": "execute_result"
    }
   ],
   "source": [
    "candies([1, 1, 2, 2, 3, 3])"
   ]
  },
  {
   "attachments": {},
   "cell_type": "markdown",
   "metadata": {},
   "source": [
    "**Q3.**"
   ]
  },
  {
   "cell_type": "code",
   "execution_count": 6,
   "metadata": {},
   "outputs": [],
   "source": [
    "from collections import Counter\n",
    "\n",
    "def harmoniousarr(nums):\n",
    "    c = Counter(nums)\n",
    "    result = 0\n",
    "\n",
    "    for i in c:\n",
    "        if i+1 in c:\n",
    "            result = max(result, c[i] + c[i+1])\n",
    "\n",
    "    return result"
   ]
  },
  {
   "cell_type": "code",
   "execution_count": 7,
   "metadata": {},
   "outputs": [
    {
     "data": {
      "text/plain": [
       "5"
      ]
     },
     "execution_count": 7,
     "metadata": {},
     "output_type": "execute_result"
    }
   ],
   "source": [
    "harmoniousarr([1, 3, 2, 2, 5, 2, 3, 7])"
   ]
  },
  {
   "attachments": {},
   "cell_type": "markdown",
   "metadata": {},
   "source": [
    "**Q4.**"
   ]
  },
  {
   "cell_type": "code",
   "execution_count": 8,
   "metadata": {},
   "outputs": [],
   "source": [
    "def noadjacentflowers(flowerbed, n):\n",
    "    count = 0\n",
    "\n",
    "    for i in range(len(flowerbed)):\n",
    "        if flowerbed[i] == 0 and (i == 0 or flowerbed[i - 1] == 0) and (i == len(flowerbed) - 1 or flowerbed[i + 1] == 0):\n",
    "            count += 1\n",
    "            flowerbed[i] = 1\n",
    "            \n",
    "    return count >= n"
   ]
  },
  {
   "cell_type": "code",
   "execution_count": 9,
   "metadata": {},
   "outputs": [
    {
     "data": {
      "text/plain": [
       "True"
      ]
     },
     "execution_count": 9,
     "metadata": {},
     "output_type": "execute_result"
    }
   ],
   "source": [
    "noadjacentflowers([1, 0, 0, 0, 1], 1)"
   ]
  },
  {
   "attachments": {},
   "cell_type": "markdown",
   "metadata": {},
   "source": [
    "**Q5.**"
   ]
  },
  {
   "cell_type": "code",
   "execution_count": 10,
   "metadata": {},
   "outputs": [],
   "source": [
    "def maxproduct(nums):\n",
    "    nums.sort()\n",
    "    \n",
    "    return max(nums[-1] * nums[-2] * nums[-3], nums[0] * nums[1] * nums[-1])"
   ]
  },
  {
   "cell_type": "code",
   "execution_count": 11,
   "metadata": {},
   "outputs": [
    {
     "data": {
      "text/plain": [
       "378"
      ]
     },
     "execution_count": 11,
     "metadata": {},
     "output_type": "execute_result"
    }
   ],
   "source": [
    "maxproduct([1, 5, 6, 2, 2, 9, 2, 1, 7])"
   ]
  },
  {
   "attachments": {},
   "cell_type": "markdown",
   "metadata": {},
   "source": [
    "**Q6.**"
   ]
  },
  {
   "cell_type": "code",
   "execution_count": 14,
   "metadata": {},
   "outputs": [],
   "source": [
    "def search(nums, target):\n",
    "    start, end = 0, len(nums)\n",
    "\n",
    "    while start < end:\n",
    "        mid = start + (end - start) // 2\n",
    "\n",
    "        if nums[mid] == target:\n",
    "            return mid\n",
    "\n",
    "        elif nums[mid] > target:\n",
    "            end = mid\n",
    "\n",
    "        else:\n",
    "            start = mid + 1\n",
    "\n",
    "    return -1"
   ]
  },
  {
   "cell_type": "code",
   "execution_count": 15,
   "metadata": {},
   "outputs": [
    {
     "data": {
      "text/plain": [
       "4"
      ]
     },
     "execution_count": 15,
     "metadata": {},
     "output_type": "execute_result"
    }
   ],
   "source": [
    "search([-1, 0, 3, 5, 9, 12], 9)"
   ]
  },
  {
   "attachments": {},
   "cell_type": "markdown",
   "metadata": {},
   "source": [
    "**Q7.**"
   ]
  },
  {
   "cell_type": "code",
   "execution_count": 16,
   "metadata": {},
   "outputs": [],
   "source": [
    "def monotonic(nums):\n",
    "    flag = False\n",
    "\n",
    "    for i in range(len(nums)-1, -1, -1):\n",
    "        if i > 0:\n",
    "            if nums[i-1] == nums[i]+1 or nums[i-1] == nums[i]-1 or nums[i-1] == nums[i]:\n",
    "                flag = True\n",
    "            else:\n",
    "                return False\n",
    "            \n",
    "    return flag"
   ]
  },
  {
   "cell_type": "code",
   "execution_count": 19,
   "metadata": {},
   "outputs": [
    {
     "data": {
      "text/plain": [
       "True"
      ]
     },
     "execution_count": 19,
     "metadata": {},
     "output_type": "execute_result"
    }
   ],
   "source": [
    "monotonic([1, 2, 2, 3])"
   ]
  },
  {
   "attachments": {},
   "cell_type": "markdown",
   "metadata": {},
   "source": [
    "**Q8.**"
   ]
  },
  {
   "cell_type": "code",
   "execution_count": 23,
   "metadata": {},
   "outputs": [],
   "source": [
    "def smallest(nums, k):\n",
    "    minval = nums[0]\n",
    "    maxval = nums[-1]\n",
    "\n",
    "    for i in nums:\n",
    "        minval = min(minval, i-k)\n",
    "        maxval = max(maxval, i+k)\n",
    "\n",
    "    return max(0, maxval - minval)"
   ]
  }
 ],
 "metadata": {
  "kernelspec": {
   "display_name": "Python 3",
   "language": "python",
   "name": "python3"
  },
  "language_info": {
   "codemirror_mode": {
    "name": "ipython",
    "version": 3
   },
   "file_extension": ".py",
   "mimetype": "text/x-python",
   "name": "python",
   "nbconvert_exporter": "python",
   "pygments_lexer": "ipython3",
   "version": "3.9.5"
  },
  "orig_nbformat": 4
 },
 "nbformat": 4,
 "nbformat_minor": 2
}
