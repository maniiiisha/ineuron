{
 "cells": [
  {
   "attachments": {},
   "cell_type": "markdown",
   "metadata": {},
   "source": [
    "## **Assignment 14**"
   ]
  },
  {
   "attachments": {},
   "cell_type": "markdown",
   "metadata": {},
   "source": [
    "**Q1.**"
   ]
  },
  {
   "cell_type": "code",
   "execution_count": 1,
   "metadata": {},
   "outputs": [],
   "source": [
    "class Node:\n",
    "    def __init__(self,data):\n",
    "        self.data = data\n",
    "        self.next = None\n",
    "\n",
    "class Linkedlist:\n",
    "    def __init__(self):\n",
    "        self.head = None\n",
    "        \n",
    "    def push(self, data):\n",
    "        new_node = Node(data)\n",
    "        new_node.next = self.head\n",
    "        self.head = new_node\n",
    "    \n",
    "    def __str__(self):\n",
    "        linkedListStr = \"\"\n",
    "        temp = self.head\n",
    "        while temp:\n",
    "            linkedListStr += str(temp.data) + \" -> \"\n",
    "            temp = temp.next\n",
    "\n",
    "        return linkedListStr + \"NULL\"\n",
    "    \n",
    "    def detect_remove_loop(self):\n",
    "        if self.head is None:\n",
    "            return\n",
    "        \n",
    "        if self.head.next is None:\n",
    "            return\n",
    "        \n",
    "        slow = self.head\n",
    "        fast = self.head\n",
    "\n",
    "        while slow and fast and fast.next:\n",
    "            slow = slow.next\n",
    "            fast = fast.next.next\n",
    "\n",
    "            if slow == fast:\n",
    "                slow = self.head\n",
    "\n",
    "                while slow.next != fast.next:\n",
    "                    slow = slow.next\n",
    "                    fast = fast.next\n",
    "\n",
    "                fast.next = None\n",
    "\n",
    "    def printList(self):\n",
    "        temp = self.head\n",
    "\n",
    "        while(temp):\n",
    "            print(temp.data, end = ' ')\n",
    "            temp = temp.next"
   ]
  },
  {
   "cell_type": "code",
   "execution_count": 2,
   "metadata": {},
   "outputs": [
    {
     "name": "stdout",
     "output_type": "stream",
     "text": [
      "1 -> 3 -> 4 -> NULL\n"
     ]
    }
   ],
   "source": [
    "llist = Linkedlist()\n",
    "llist.push(4)\n",
    "llist.push(3)\n",
    "llist.push(1)\n",
    "print(llist)\n",
    "llist.head.next.next.next = llist.head.next"
   ]
  },
  {
   "cell_type": "code",
   "execution_count": 3,
   "metadata": {},
   "outputs": [
    {
     "name": "stdout",
     "output_type": "stream",
     "text": [
      "1 -> 3 -> 4 -> NULL\n"
     ]
    }
   ],
   "source": [
    "llist.detect_remove_loop()\n",
    "print(llist)"
   ]
  },
  {
   "attachments": {},
   "cell_type": "markdown",
   "metadata": {},
   "source": [
    "**Q2.**"
   ]
  },
  {
   "cell_type": "code",
   "execution_count": 4,
   "metadata": {},
   "outputs": [],
   "source": [
    "class Node:\n",
    "    def __init__(self,data):\n",
    "        self.data = data\n",
    "        self.next = None\n",
    "\n",
    "class Linkedlist:\n",
    "    def __init__(self):\n",
    "        self.head = None\n",
    "        \n",
    "    def push(self, data):\n",
    "        new_node = Node(data)\n",
    "        new_node.next = self.head\n",
    "        self.head = new_node\n",
    "    \n",
    "    def __str__(self):\n",
    "        linkedListStr = \"\"\n",
    "        temp = self.head\n",
    "\n",
    "        while temp:\n",
    "            linkedListStr += str(temp.data) + \"->\"\n",
    "            temp = temp.next\n",
    "\n",
    "        return linkedListStr + \"NULL\"\n",
    "\n",
    "def printList(head):\n",
    "    temp = head\n",
    "    \n",
    "    while(temp):\n",
    "        print(temp.data, end = ' ')\n",
    "        temp = temp.next"
   ]
  },
  {
   "cell_type": "code",
   "execution_count": 5,
   "metadata": {},
   "outputs": [],
   "source": [
    "def reverse_list(head):\n",
    "    if not head:\n",
    "        return\n",
    "    \n",
    "    currn = head\n",
    "    prevn = head\n",
    "    nextn = head.next\n",
    "    currn.next = None\n",
    "\n",
    "    while nextn:\n",
    "        currn = nextn\n",
    "        nextn = nextn.next\n",
    "        currn.next = prevn\n",
    "        prevn = currn\n",
    "        \n",
    "    return currn"
   ]
  },
  {
   "cell_type": "code",
   "execution_count": 6,
   "metadata": {},
   "outputs": [],
   "source": [
    "def add_one_to_list(head):\n",
    "    head = reverse_list(head)\n",
    "    k = head\n",
    "    carry = 0\n",
    "    prev = None\n",
    "    head.data+=1\n",
    "\n",
    "    while(head != None) and (head.data > 9 or carry > 0):\n",
    "        prev = head\n",
    "        head.data += carry\n",
    "        carry = head.data // 10\n",
    "        head.data = head.data % 10\n",
    "        head = head.next\n",
    "    \n",
    "    if carry > 0:\n",
    "        prev.next = Node(carry)\n",
    "        \n",
    "    return reverse_list(k)"
   ]
  },
  {
   "cell_type": "code",
   "execution_count": 7,
   "metadata": {},
   "outputs": [
    {
     "name": "stdout",
     "output_type": "stream",
     "text": [
      "1 9 9 9 "
     ]
    }
   ],
   "source": [
    "head = Node(1)\n",
    "head.next = Node(9)\n",
    "head.next.next = Node(9)\n",
    "head.next.next.next = Node(9)\n",
    "\n",
    "printList(head)"
   ]
  },
  {
   "cell_type": "code",
   "execution_count": 8,
   "metadata": {},
   "outputs": [
    {
     "name": "stdout",
     "output_type": "stream",
     "text": [
      "2 0 0 0 "
     ]
    }
   ],
   "source": [
    "add_one_to_list(head)\n",
    "printList(head)"
   ]
  },
  {
   "cell_type": "code",
   "execution_count": 9,
   "metadata": {},
   "outputs": [
    {
     "name": "stdout",
     "output_type": "stream",
     "text": [
      "1 9 9 1 "
     ]
    }
   ],
   "source": [
    "head = Node(1)\n",
    "head.next = Node(9)\n",
    "head.next.next = Node(9)\n",
    "head.next.next.next = Node(1)\n",
    "\n",
    "printList(head)"
   ]
  },
  {
   "cell_type": "code",
   "execution_count": 10,
   "metadata": {},
   "outputs": [
    {
     "name": "stdout",
     "output_type": "stream",
     "text": [
      "1 9 9 2 "
     ]
    }
   ],
   "source": [
    "add_one_to_list(head)\n",
    "printList(head)"
   ]
  },
  {
   "attachments": {},
   "cell_type": "markdown",
   "metadata": {},
   "source": [
    "**Q3.**"
   ]
  },
  {
   "cell_type": "code",
   "execution_count": 11,
   "metadata": {},
   "outputs": [],
   "source": [
    "class Node:\n",
    "    def __init__(self, data):\n",
    "        self.data = data\n",
    "        self.next = None\n",
    "        self.bottom = None\n",
    "\n",
    "\n",
    "def merge_lists(a, b):\n",
    "    dummy = Node(0)\n",
    "    merged = dummy\n",
    "\n",
    "    while a and b:\n",
    "        if a.data < b.data:\n",
    "            merged.bottom = a\n",
    "            a = a.bottom\n",
    "\n",
    "        else:\n",
    "            merged.bottom = b\n",
    "            b = b.bottom\n",
    "\n",
    "        merged = merged.bottom\n",
    "\n",
    "    if a:\n",
    "        merged.bottom = a\n",
    "    else:\n",
    "        merged.bottom = b\n",
    "\n",
    "    return dummy.bottom\n",
    "\n",
    "def flatten_list(head):\n",
    "    if not head or not head.next:\n",
    "        return head\n",
    "\n",
    "    head.next = flatten_list(head.next)\n",
    "    head = merge_lists(head, head.next)\n",
    "\n",
    "    return head"
   ]
  },
  {
   "cell_type": "code",
   "execution_count": 12,
   "metadata": {},
   "outputs": [
    {
     "name": "stdout",
     "output_type": "stream",
     "text": [
      "5 7 8 10 19 20 22 28 30 35 40 45 50 "
     ]
    }
   ],
   "source": [
    "head = Node(5)\n",
    "head.next = Node(10)\n",
    "head.next.next = Node(19)\n",
    "head.next.next.next = Node(28)\n",
    "\n",
    "head.bottom = Node(7)\n",
    "head.bottom.bottom = Node(8)\n",
    "head.bottom.bottom.bottom = Node(30)\n",
    "\n",
    "head.next.bottom = Node(20)\n",
    "\n",
    "head.next.next.bottom = Node(22)\n",
    "head.next.next.bottom.bottom = Node(50)\n",
    "\n",
    "head.next.next.next.bottom = Node(35)\n",
    "head.next.next.next.bottom.bottom = Node(40)\n",
    "head.next.next.next.bottom.bottom.bottom = Node(45)\n",
    "\n",
    "flattened_list = flatten_list(head)\n",
    "\n",
    "current = flattened_list\n",
    "while current:\n",
    "    print(current.data, end=\" \")\n",
    "    current = current.bottom"
   ]
  },
  {
   "attachments": {},
   "cell_type": "markdown",
   "metadata": {},
   "source": [
    "**Q4.**"
   ]
  },
  {
   "cell_type": "code",
   "execution_count": 13,
   "metadata": {},
   "outputs": [],
   "source": [
    "class Node:\n",
    "    def __init__(self, data):\n",
    "        self.data = data\n",
    "        self.next = None\n",
    "        self.random = None\n",
    "\n",
    "\n",
    "def copy_special_linked_list(head):\n",
    "    if not head:\n",
    "        return None\n",
    "\n",
    "    current = head\n",
    "\n",
    "    while current:\n",
    "        new_node = Node(current.data)\n",
    "        new_node.next = current.next\n",
    "        current.next = new_node\n",
    "        current = new_node.next\n",
    "\n",
    "    current = head\n",
    "\n",
    "    while current:\n",
    "        if current.random:\n",
    "            current.next.random = current.random.next\n",
    "\n",
    "        current = current.next.next\n",
    "\n",
    "    current = head\n",
    "    new_head = head.next\n",
    "    new_current = new_head\n",
    "\n",
    "    while current:\n",
    "        current.next = current.next.next\n",
    "\n",
    "        if new_current.next:\n",
    "            new_current.next = new_current.next.next\n",
    "            \n",
    "        current = current.next\n",
    "        new_current = new_current.next\n",
    "\n",
    "    return new_head"
   ]
  },
  {
   "cell_type": "code",
   "execution_count": 14,
   "metadata": {},
   "outputs": [
    {
     "name": "stdout",
     "output_type": "stream",
     "text": [
      "Node: 1 Random Pointer: 3\n",
      "Node: 2 Random Pointer: 5\n",
      "Node: 3 Random Pointer: 4\n",
      "Node: 4 Random Pointer: 2\n",
      "Node: 5 Random Pointer: 3\n"
     ]
    }
   ],
   "source": [
    "head = Node(1)\n",
    "head.next = Node(2)\n",
    "head.next.next = Node(3)\n",
    "head.next.next.next = Node(4)\n",
    "head.next.next.next.next = Node(5)\n",
    "\n",
    "head.random = head.next.next\n",
    "head.next.random = head.next.next.next.next\n",
    "head.next.next.random = head.next.next.next\n",
    "head.next.next.next.random = head.next\n",
    "head.next.next.next.next.random = head.next.next\n",
    "\n",
    "copied_head = copy_special_linked_list(head)\n",
    "current = copied_head\n",
    "\n",
    "while current:\n",
    "    print(\"Node:\", current.data, end=\" \")\n",
    "\n",
    "    if current.random:\n",
    "        print(\"Random Pointer:\", current.random.data)\n",
    "\n",
    "    else:\n",
    "        print(\"Random Pointer: None\")\n",
    "        \n",
    "    current = current.next"
   ]
  },
  {
   "attachments": {},
   "cell_type": "markdown",
   "metadata": {},
   "source": [
    "**Q5.**"
   ]
  },
  {
   "cell_type": "code",
   "execution_count": 15,
   "metadata": {},
   "outputs": [],
   "source": [
    "class ListNode:\n",
    "    def __init__(self, val=0, next=None):\n",
    "        self.val = val\n",
    "        self.next = next\n",
    "\n",
    "def odd_even_linked_list(head):\n",
    "    if not head or not head.next:\n",
    "        return head\n",
    "\n",
    "    odd_head = odd_tail = head\n",
    "    even_head = even_tail = head.next\n",
    "\n",
    "    while even_tail and even_tail.next:\n",
    "        odd_tail.next = even_tail.next\n",
    "        odd_tail = odd_tail.next\n",
    "        even_tail.next = odd_tail.next\n",
    "        even_tail = even_tail.next\n",
    "\n",
    "    odd_tail.next = even_head\n",
    "    return odd_head"
   ]
  },
  {
   "cell_type": "code",
   "execution_count": 16,
   "metadata": {},
   "outputs": [
    {
     "name": "stdout",
     "output_type": "stream",
     "text": [
      "1 3 5 2 4 "
     ]
    }
   ],
   "source": [
    "head = ListNode(1)\n",
    "head.next = ListNode(2)\n",
    "head.next.next = ListNode(3)\n",
    "head.next.next.next = ListNode(4)\n",
    "head.next.next.next.next = ListNode(5)\n",
    "\n",
    "reordered_head = odd_even_linked_list(head)\n",
    "current = reordered_head\n",
    "\n",
    "while current:\n",
    "    print(current.val, end=\" \")\n",
    "    current = current.next"
   ]
  },
  {
   "attachments": {},
   "cell_type": "markdown",
   "metadata": {},
   "source": [
    "**Q6.**"
   ]
  },
  {
   "cell_type": "code",
   "execution_count": 17,
   "metadata": {},
   "outputs": [],
   "source": [
    "class ListNode:\n",
    "    def __init__(self, val=0, next=None):\n",
    "        self.val = val\n",
    "        self.next = next\n",
    "\n",
    "def left_shift_linked_list(head, k):\n",
    "    if not head or not head.next or k <= 0:\n",
    "        return head\n",
    "\n",
    "    length = 0\n",
    "    current = head\n",
    "\n",
    "    while current:\n",
    "        length += 1\n",
    "        current = current.next\n",
    "\n",
    "    k %= length\n",
    "    if k == 0:\n",
    "        return head\n",
    "\n",
    "    current = head\n",
    "    for _ in range(k - 1):\n",
    "        current = current.next\n",
    "\n",
    "    new_head = current.next\n",
    "    current.next = None\n",
    "    current = new_head\n",
    "\n",
    "    while current.next:\n",
    "        current = current.next\n",
    "\n",
    "    current.next = head\n",
    "    return new_head"
   ]
  },
  {
   "cell_type": "code",
   "execution_count": 18,
   "metadata": {},
   "outputs": [
    {
     "name": "stdout",
     "output_type": "stream",
     "text": [
      "3 4 5 1 2 "
     ]
    }
   ],
   "source": [
    "head = ListNode(1)\n",
    "head.next = ListNode(2)\n",
    "head.next.next = ListNode(3)\n",
    "head.next.next.next = ListNode(4)\n",
    "head.next.next.next.next = ListNode(5)\n",
    "\n",
    "shifted_head = left_shift_linked_list(head, 2)\n",
    "current = shifted_head\n",
    "\n",
    "while current:\n",
    "    print(current.val, end=\" \")\n",
    "    current = current.next"
   ]
  },
  {
   "attachments": {},
   "cell_type": "markdown",
   "metadata": {},
   "source": [
    "**Q7.**"
   ]
  },
  {
   "cell_type": "code",
   "execution_count": 19,
   "metadata": {},
   "outputs": [],
   "source": [
    "class ListNode:\n",
    "    def __init__(self, val=0, next=None):\n",
    "        self.val = val\n",
    "        self.next = next\n",
    "\n",
    "def next_greater_node(head):\n",
    "    values = []\n",
    "    current = head\n",
    "\n",
    "    while current:\n",
    "        values.append(current.val)\n",
    "        current = current.next\n",
    "\n",
    "    stack = []\n",
    "    answer = [0] * len(values)\n",
    "\n",
    "    for i in range(len(values) - 1, -1, -1):\n",
    "        while stack and values[i] >= stack[-1]:\n",
    "            stack.pop()\n",
    "\n",
    "        if stack:\n",
    "            answer[i] = stack[-1]\n",
    "            \n",
    "        stack.append(values[i])\n",
    "\n",
    "    return answer"
   ]
  },
  {
   "cell_type": "code",
   "execution_count": 20,
   "metadata": {},
   "outputs": [
    {
     "name": "stdout",
     "output_type": "stream",
     "text": [
      "[7, 0, 5, 5, 0]\n"
     ]
    }
   ],
   "source": [
    "head = ListNode(2)\n",
    "head.next = ListNode(7)\n",
    "head.next.next = ListNode(4)\n",
    "head.next.next.next = ListNode(3)\n",
    "head.next.next.next.next = ListNode(5)\n",
    "\n",
    "result = next_greater_node(head)\n",
    "print(result)"
   ]
  },
  {
   "attachments": {},
   "cell_type": "markdown",
   "metadata": {},
   "source": [
    "**Q8.**"
   ]
  },
  {
   "cell_type": "code",
   "execution_count": 21,
   "metadata": {},
   "outputs": [],
   "source": [
    "class ListNode:\n",
    "    def __init__(self, val=0, next=None):\n",
    "        self.val = val\n",
    "        self.next = next\n",
    "\n",
    "\n",
    "def remove_zero_sum_sublists(head):\n",
    "    dummy = ListNode(0)\n",
    "    dummy.next = head\n",
    "\n",
    "    prefix_sum = {}\n",
    "    prefix_sum[0] = dummy\n",
    "\n",
    "    current = dummy\n",
    "    cumulative_sum = 0\n",
    "\n",
    "    while current.next:\n",
    "        cumulative_sum += current.next.val\n",
    "\n",
    "        if cumulative_sum in prefix_sum:\n",
    "            prev = prefix_sum[cumulative_sum]\n",
    "            temp_sum = cumulative_sum\n",
    "            temp = prev.next\n",
    "            \n",
    "            while temp != current.next:\n",
    "                temp_sum += temp.val\n",
    "                del prefix_sum[temp_sum]\n",
    "                temp = temp.next\n",
    "\n",
    "            prev.next = current.next.next\n",
    "\n",
    "        else:\n",
    "            prefix_sum[cumulative_sum] = current.next\n",
    "\n",
    "        current = current.next\n",
    "\n",
    "    return dummy.next"
   ]
  },
  {
   "cell_type": "code",
   "execution_count": 22,
   "metadata": {},
   "outputs": [
    {
     "name": "stdout",
     "output_type": "stream",
     "text": [
      "3 1 "
     ]
    }
   ],
   "source": [
    "head = ListNode(1)\n",
    "head.next = ListNode(2)\n",
    "head.next.next = ListNode(-3)\n",
    "head.next.next.next = ListNode(3)\n",
    "head.next.next.next.next = ListNode(1)\n",
    "\n",
    "result = remove_zero_sum_sublists(head)\n",
    "current = result\n",
    "\n",
    "while current:\n",
    "    print(current.val, end=\" \")\n",
    "    current = current.next"
   ]
  }
 ],
 "metadata": {
  "kernelspec": {
   "display_name": "Python 3",
   "language": "python",
   "name": "python3"
  },
  "language_info": {
   "codemirror_mode": {
    "name": "ipython",
    "version": 3
   },
   "file_extension": ".py",
   "mimetype": "text/x-python",
   "name": "python",
   "nbconvert_exporter": "python",
   "pygments_lexer": "ipython3",
   "version": "3.9.5"
  },
  "orig_nbformat": 4
 },
 "nbformat": 4,
 "nbformat_minor": 2
}
