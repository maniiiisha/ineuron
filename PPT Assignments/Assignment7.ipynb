{
 "cells": [
  {
   "attachments": {},
   "cell_type": "markdown",
   "metadata": {},
   "source": [
    "## **Assignment 7**"
   ]
  },
  {
   "attachments": {},
   "cell_type": "markdown",
   "metadata": {},
   "source": [
    "**Q1.**"
   ]
  },
  {
   "cell_type": "code",
   "execution_count": 1,
   "metadata": {},
   "outputs": [],
   "source": [
    "from collections import Counter\n",
    "\n",
    "def isomorphic(str1,str2):\n",
    "    \n",
    "    if len(str1) != len(str2):\n",
    "        return False\n",
    "    \n",
    "    str1count = Counter(str1)\n",
    "    str2count = Counter(str2)\n",
    "    \n",
    "    for i in range(len(str1)):\n",
    "        if str1count[str1[i]] != str2count[str2[i]]:\n",
    "            return False\n",
    "        \n",
    "    return True"
   ]
  },
  {
   "cell_type": "code",
   "execution_count": 2,
   "metadata": {},
   "outputs": [
    {
     "data": {
      "text/plain": [
       "True"
      ]
     },
     "execution_count": 2,
     "metadata": {},
     "output_type": "execute_result"
    }
   ],
   "source": [
    "isomorphic(\"egg\", \"add\")"
   ]
  },
  {
   "attachments": {},
   "cell_type": "markdown",
   "metadata": {},
   "source": [
    "**Q2.**"
   ]
  },
  {
   "cell_type": "code",
   "execution_count": 3,
   "metadata": {},
   "outputs": [],
   "source": [
    "def strobogrammatic(num):\n",
    "    strobodict = {\"0\":\"0\",\"1\":\"1\",\"6\":\"9\",\"8\":\"8\",\"9\":\"6\"}\n",
    "\n",
    "    if any(x for x in num  if x not in strobodict.keys()):\n",
    "        return False\n",
    "    \n",
    "    else:\n",
    "        tmp = [strobodict[i] for i in num]\n",
    "        s = ''.join(tmp[::-1])\n",
    "        \n",
    "        if num == s:\n",
    "            return True\n",
    "        else:\n",
    "            return False"
   ]
  },
  {
   "cell_type": "code",
   "execution_count": 4,
   "metadata": {},
   "outputs": [
    {
     "data": {
      "text/plain": [
       "True"
      ]
     },
     "execution_count": 4,
     "metadata": {},
     "output_type": "execute_result"
    }
   ],
   "source": [
    "strobogrammatic(\"69\")"
   ]
  },
  {
   "attachments": {},
   "cell_type": "markdown",
   "metadata": {},
   "source": [
    "**Q3.**"
   ]
  },
  {
   "cell_type": "code",
   "execution_count": 5,
   "metadata": {},
   "outputs": [],
   "source": [
    "def sum(str1, str2):\n",
    "    if len(str1) > len(str2):\n",
    "        t = str1\n",
    "        str1 = str2\n",
    "        str2 = t\n",
    "    \n",
    "    str_sum = ''\n",
    "    \n",
    "    n1 = len(str1)\n",
    "    n2 = len(str2)\n",
    "    \n",
    "    str1 = str1[::-1]\n",
    "    str2 = str2[::-1]\n",
    "    \n",
    "    carry = 0\n",
    "    \n",
    "    for i in range(n1):\n",
    "        tmp_sum = ((ord(str1[i]) - 48) +\n",
    "              ((ord(str2[i]) - 48) + carry))\n",
    "        str_sum+=chr(tmp_sum % 10 + 48)\n",
    "        \n",
    "        carry = int(tmp_sum / 10)\n",
    "    \n",
    "    for i in range(n1, n2):\n",
    "        tmp_sum = ((ord(str2[i]) - 48) + carry)\n",
    "        str_sum += chr(tmp_sum % 10 + 48)\n",
    "        carry = int(tmp_sum / 10)\n",
    "        \n",
    "    if (carry):\n",
    "        str_sum += chr(carry + 48)\n",
    "    \n",
    "    str_sum = str_sum[::-1]\n",
    "    \n",
    "    return str_sum"
   ]
  },
  {
   "cell_type": "code",
   "execution_count": 6,
   "metadata": {},
   "outputs": [
    {
     "data": {
      "text/plain": [
       "'134'"
      ]
     },
     "execution_count": 6,
     "metadata": {},
     "output_type": "execute_result"
    }
   ],
   "source": [
    "sum(\"11\", \"123\")"
   ]
  },
  {
   "attachments": {},
   "cell_type": "markdown",
   "metadata": {},
   "source": [
    "**Q4.**"
   ]
  },
  {
   "cell_type": "code",
   "execution_count": 7,
   "metadata": {},
   "outputs": [],
   "source": [
    "def reverse(s):\n",
    "\n",
    "    words = s.split()\n",
    "    reversedwords = []\n",
    "\n",
    "    for word in words:\n",
    "        reversedwords.append(word[::-1])\n",
    "    result = \" \".join(reversedwords)\n",
    "\n",
    "    return result"
   ]
  },
  {
   "cell_type": "code",
   "execution_count": 8,
   "metadata": {},
   "outputs": [
    {
     "data": {
      "text/plain": [
       "\"s'teL ekat edoCteeL tsetnoc\""
      ]
     },
     "execution_count": 8,
     "metadata": {},
     "output_type": "execute_result"
    }
   ],
   "source": [
    "reverse(\"Let's take LeetCode contest\")"
   ]
  },
  {
   "attachments": {},
   "cell_type": "markdown",
   "metadata": {},
   "source": [
    "**Q5.**"
   ]
  },
  {
   "cell_type": "code",
   "execution_count": 9,
   "metadata": {},
   "outputs": [],
   "source": [
    "def reversek(s,k):\n",
    "    i = 0\n",
    "    \n",
    "    while i < len(s): \n",
    "        if (i+k) > len(s):\n",
    "            break\n",
    "        \n",
    "        ss = s[i:i+k]\n",
    "        s = s[:i]+ss[::-1]+s[i + k:]\n",
    "        i += 2 * k\n",
    "        \n",
    "    return s"
   ]
  },
  {
   "cell_type": "code",
   "execution_count": 10,
   "metadata": {},
   "outputs": [
    {
     "data": {
      "text/plain": [
       "'bacdfeg'"
      ]
     },
     "execution_count": 10,
     "metadata": {},
     "output_type": "execute_result"
    }
   ],
   "source": [
    "reversek(\"abcdefg\", 2)"
   ]
  },
  {
   "attachments": {},
   "cell_type": "markdown",
   "metadata": {},
   "source": [
    "**Q6.**"
   ]
  },
  {
   "cell_type": "code",
   "execution_count": 11,
   "metadata": {},
   "outputs": [],
   "source": [
    "def rotation(s,goal):\n",
    "    for i in range(1,len(s)+1):\n",
    "        lfirst = s[0:i]\n",
    "        lsecond = s[i:]\n",
    "\n",
    "        if (lsecond+lfirst) == goal:\n",
    "            return True\n",
    "        \n",
    "    return False"
   ]
  },
  {
   "cell_type": "code",
   "execution_count": 12,
   "metadata": {},
   "outputs": [
    {
     "data": {
      "text/plain": [
       "True"
      ]
     },
     "execution_count": 12,
     "metadata": {},
     "output_type": "execute_result"
    }
   ],
   "source": [
    "rotation(\"abcde\", 'cdeab')"
   ]
  },
  {
   "attachments": {},
   "cell_type": "markdown",
   "metadata": {},
   "source": [
    "**Q7.**"
   ]
  },
  {
   "cell_type": "code",
   "execution_count": 13,
   "metadata": {},
   "outputs": [],
   "source": [
    "def texteditors(str1,str2):\n",
    "    str1_index = str1.index(\"#\")\n",
    "    str2_index = str2.index(\"#\")\n",
    "\n",
    "    if (str1[:str1_index-1]+str1[str1_index+1:]) == (str2[:str2_index-1]+str2[str2_index+1:]):\n",
    "        return True\n",
    "    \n",
    "    return False"
   ]
  },
  {
   "cell_type": "code",
   "execution_count": 14,
   "metadata": {},
   "outputs": [
    {
     "data": {
      "text/plain": [
       "True"
      ]
     },
     "execution_count": 14,
     "metadata": {},
     "output_type": "execute_result"
    }
   ],
   "source": [
    "texteditors(\"ab#c\", \"ad#c\")"
   ]
  },
  {
   "attachments": {},
   "cell_type": "markdown",
   "metadata": {},
   "source": [
    "**Q8.**"
   ]
  },
  {
   "cell_type": "code",
   "execution_count": 16,
   "metadata": {},
   "outputs": [],
   "source": [
    "def straightline(coordinates):\n",
    "    (x1, y1), (x2, y2) = coordinates[0], coordinates[1]\n",
    "\n",
    "    for x3, y3 in coordinates[2:]:\n",
    "        if (y2 - y1) * (x3 - x1) != (y3 - y1) * (x2 - x1):\n",
    "            return False\n",
    "        \n",
    "    return True"
   ]
  },
  {
   "cell_type": "code",
   "execution_count": 17,
   "metadata": {},
   "outputs": [
    {
     "data": {
      "text/plain": [
       "True"
      ]
     },
     "execution_count": 17,
     "metadata": {},
     "output_type": "execute_result"
    }
   ],
   "source": [
    "straightline([[1,2], [2,3], [3,4], [4,5], [5,6], [6,7]])"
   ]
  }
 ],
 "metadata": {
  "kernelspec": {
   "display_name": "Python 3",
   "language": "python",
   "name": "python3"
  },
  "language_info": {
   "codemirror_mode": {
    "name": "ipython",
    "version": 3
   },
   "file_extension": ".py",
   "mimetype": "text/x-python",
   "name": "python",
   "nbconvert_exporter": "python",
   "pygments_lexer": "ipython3",
   "version": "3.9.5"
  },
  "orig_nbformat": 4
 },
 "nbformat": 4,
 "nbformat_minor": 2
}
