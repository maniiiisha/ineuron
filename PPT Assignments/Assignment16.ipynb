{
 "cells": [
  {
   "attachments": {},
   "cell_type": "markdown",
   "metadata": {},
   "source": [
    "## **Assignment 16**"
   ]
  },
  {
   "attachments": {},
   "cell_type": "markdown",
   "metadata": {},
   "source": [
    "**Q1.**"
   ]
  },
  {
   "cell_type": "code",
   "execution_count": 1,
   "metadata": {},
   "outputs": [],
   "source": [
    "def find_nearest_higher_freq(arr):\n",
    "    freq = {}\n",
    "  \n",
    "    for x in arr:\n",
    "        freq[x] = freq.get(x, 0) + 1\n",
    "    \n",
    "    stack = []\n",
    "    output = [-1] * len(arr)\n",
    "   \n",
    "    for i in range(len(arr) - 1, -1, -1):\n",
    "        while stack and freq[arr[stack[-1]]] <= freq[arr[i]]:\n",
    "            stack.pop()\n",
    "      \n",
    "        if stack:\n",
    "            output[i] = arr[stack[-1]]\n",
    "        \n",
    "        stack.append(i)\n",
    "    \n",
    "    return output"
   ]
  },
  {
   "cell_type": "code",
   "execution_count": 2,
   "metadata": {},
   "outputs": [
    {
     "data": {
      "text/plain": [
       "[-1, -1, 1, 2, 2, 1, -1]"
      ]
     },
     "execution_count": 2,
     "metadata": {},
     "output_type": "execute_result"
    }
   ],
   "source": [
    "find_nearest_higher_freq([1, 1, 2, 3, 4, 2, 1])"
   ]
  },
  {
   "attachments": {},
   "cell_type": "markdown",
   "metadata": {},
   "source": [
    "**Q2.**"
   ]
  },
  {
   "cell_type": "code",
   "execution_count": 3,
   "metadata": {},
   "outputs": [],
   "source": [
    "def sort_stack(input_stack):\n",
    "  output_stack = []\n",
    "  \n",
    "  while input_stack:\n",
    "    temp = input_stack.pop()\n",
    " \n",
    "    while output_stack and output_stack[-1] > temp:\n",
    "      input_stack.append(output_stack.pop())\n",
    "    \n",
    "    output_stack.append(temp)\n",
    "\n",
    "  return output_stack"
   ]
  },
  {
   "cell_type": "code",
   "execution_count": 4,
   "metadata": {},
   "outputs": [
    {
     "data": {
      "text/plain": [
       "[1, 2, 3, 4, 5, 8]"
      ]
     },
     "execution_count": 4,
     "metadata": {},
     "output_type": "execute_result"
    }
   ],
   "source": [
    "sort_stack([3, 5, 1, 4, 2, 8])"
   ]
  },
  {
   "attachments": {},
   "cell_type": "markdown",
   "metadata": {},
   "source": [
    "**Q3.**"
   ]
  },
  {
   "cell_type": "code",
   "execution_count": 5,
   "metadata": {},
   "outputs": [],
   "source": [
    "def delete_middle(stack, count):\n",
    "    if not stack:\n",
    "        return\n",
    "  \n",
    "    temp = stack.pop()\n",
    "    delete_middle(stack, count - 1)\n",
    "    \n",
    "    if count != 0:\n",
    "        stack.append(temp)\n",
    "\n",
    "def delete_middle_element(stack):\n",
    "    delete_middle(stack, len(stack) // 2)\n",
    "    return stack"
   ]
  },
  {
   "cell_type": "code",
   "execution_count": 6,
   "metadata": {},
   "outputs": [
    {
     "data": {
      "text/plain": [
       "[1, 2, 4, 5, 6]"
      ]
     },
     "execution_count": 6,
     "metadata": {},
     "output_type": "execute_result"
    }
   ],
   "source": [
    "delete_middle_element([1, 2, 3, 4, 5, 6])"
   ]
  },
  {
   "attachments": {},
   "cell_type": "markdown",
   "metadata": {},
   "source": [
    "**Q4.**"
   ]
  },
  {
   "cell_type": "code",
   "execution_count": 7,
   "metadata": {},
   "outputs": [
    {
     "name": "stdout",
     "output_type": "stream",
     "text": [
      "False\n"
     ]
    }
   ],
   "source": [
    "from queue import Queue\n",
    "\n",
    "def can_sort(input_queue):\n",
    "  stack = []\n",
    "  output_queue = Queue()\n",
    "  expected = 1\n",
    "\n",
    "  while not input_queue.empty() and expected <= input_queue.qsize():\n",
    "    if input_queue.queue[0] == expected:\n",
    "      output_queue.put(input_queue.get())\n",
    "      expected += 1\n",
    "    \n",
    "    elif stack and stack[-1] == expected:\n",
    "      output_queue.put(stack.pop())\n",
    "      expected += 1\n",
    "\n",
    "    elif stack and stack[-1] < input_queue.queue[0]:\n",
    "      return False\n",
    "    \n",
    "    else:\n",
    "      stack.append(input_queue.get())\n",
    "  \n",
    "  if not stack:\n",
    "    return True\n",
    "  \n",
    "  else:\n",
    "    return False\n",
    "\n",
    "input_queue = Queue()\n",
    "input_queue.put(5)\n",
    "input_queue.put(1)\n",
    "input_queue.put(2)\n",
    "input_queue.put(6)\n",
    "input_queue.put(3)\n",
    "input_queue.put(4)\n",
    "print(can_sort(input_queue))"
   ]
  },
  {
   "attachments": {},
   "cell_type": "markdown",
   "metadata": {},
   "source": [
    "**Q5.**"
   ]
  },
  {
   "cell_type": "code",
   "execution_count": 8,
   "metadata": {},
   "outputs": [],
   "source": [
    "def reverse_number(number):\n",
    "    stack = []\n",
    "    string = \"\"\n",
    "    number = str(number)\n",
    "    \n",
    "    for char in number:\n",
    "        stack.append(char)\n",
    "   \n",
    "    while stack:\n",
    "        string += stack.pop()\n",
    "\n",
    "    return int(string)"
   ]
  },
  {
   "cell_type": "code",
   "execution_count": 9,
   "metadata": {},
   "outputs": [
    {
     "data": {
      "text/plain": [
       "9986"
      ]
     },
     "execution_count": 9,
     "metadata": {},
     "output_type": "execute_result"
    }
   ],
   "source": [
    "reverse_number(6899)"
   ]
  },
  {
   "attachments": {},
   "cell_type": "markdown",
   "metadata": {},
   "source": [
    "**Q6.**"
   ]
  },
  {
   "cell_type": "code",
   "execution_count": 10,
   "metadata": {},
   "outputs": [
    {
     "name": "stdout",
     "output_type": "stream",
     "text": [
      "50 40 30 20 10 60 70 80 90 100 "
     ]
    }
   ],
   "source": [
    "from queue import Queue\n",
    "\n",
    "def reverse_first_k(queue, k):\n",
    "    stack = []\n",
    "    other_queue = Queue()\n",
    "   \n",
    "    for i in range(k):\n",
    "        stack.append(queue.get())\n",
    "    \n",
    "    while stack:\n",
    "        other_queue.put(stack.pop())\n",
    "    \n",
    "    while not queue.empty():\n",
    "        other_queue.put(queue.get())\n",
    "   \n",
    "    return other_queue\n",
    "\n",
    "queue = Queue()\n",
    "queue.put(10)\n",
    "queue.put(20)\n",
    "queue.put(30)\n",
    "queue.put(40)\n",
    "queue.put(50)\n",
    "queue.put(60)\n",
    "queue.put(70)\n",
    "queue.put(80)\n",
    "queue.put(90)\n",
    "queue.put(100)\n",
    "\n",
    "k = 5\n",
    "other_queue = reverse_first_k(queue, k)\n",
    "\n",
    "while not other_queue.empty():\n",
    "    print(other_queue.get(), end=\" \")"
   ]
  },
  {
   "attachments": {},
   "cell_type": "markdown",
   "metadata": {},
   "source": [
    "**Q7.**"
   ]
  },
  {
   "cell_type": "code",
   "execution_count": 11,
   "metadata": {},
   "outputs": [],
   "source": [
    "def count_words(sequence):\n",
    "    stack = []\n",
    "    words = sequence.split()\n",
    "  \n",
    "    for word in words:\n",
    "        if stack and word == stack[-1]:\n",
    "            stack.pop()\n",
    "    \n",
    "        else:\n",
    "            stack.append(word)\n",
    "   \n",
    "    return len(stack)"
   ]
  },
  {
   "cell_type": "code",
   "execution_count": 12,
   "metadata": {},
   "outputs": [
    {
     "data": {
      "text/plain": [
       "3"
      ]
     },
     "execution_count": 12,
     "metadata": {},
     "output_type": "execute_result"
    }
   ],
   "source": [
    "count_words(\"ab aa aa bcd ab\")"
   ]
  },
  {
   "attachments": {},
   "cell_type": "markdown",
   "metadata": {},
   "source": [
    "**Q8.**"
   ]
  },
  {
   "cell_type": "code",
   "execution_count": 13,
   "metadata": {},
   "outputs": [],
   "source": [
    "def max_diff(arr):\n",
    "    left_stack = []\n",
    "    right_stack = []\n",
    "    left = []\n",
    "    right = []\n",
    "   \n",
    "    for i in range(len(arr)):\n",
    "        while left_stack and arr[left_stack[-1]] >= arr[i]:\n",
    "            left_stack.pop()\n",
    "        \n",
    "        if not left_stack:\n",
    "            left.append(-1)\n",
    "        \n",
    "        else:\n",
    "            left.append(left_stack[-1])\n",
    "            left_stack.append(i)\n",
    "\n",
    "    for i in range(len(arr) - 1, -1, -1):\n",
    "        while right_stack and arr[right_stack[-1]] >= arr[i]:\n",
    "            right_stack.pop()\n",
    "        \n",
    "        if not right_stack:\n",
    "            right.append(-1)\n",
    "\n",
    "        else:\n",
    "            right.append(right_stack[-1])\n",
    "        \n",
    "        right_stack.append(i)\n",
    "  \n",
    "    right.reverse()\n",
    "    max_diff = 0\n",
    "\n",
    "    for i in range(len(arr)):\n",
    "        if left[i] == -1 and right[i] == -1:\n",
    "            continue\n",
    "     \n",
    "        diff = abs(arr[left[i]] - arr[right[i]])\n",
    "        max_diff = max(max_diff, diff)\n",
    "  \n",
    "    return max_diff"
   ]
  },
  {
   "cell_type": "code",
   "execution_count": 14,
   "metadata": {},
   "outputs": [
    {
     "data": {
      "text/plain": [
       "4"
      ]
     },
     "execution_count": 14,
     "metadata": {},
     "output_type": "execute_result"
    }
   ],
   "source": [
    "max_diff([2, 4, 8, 7, 7, 9, 3])"
   ]
  }
 ],
 "metadata": {
  "kernelspec": {
   "display_name": "Python 3",
   "language": "python",
   "name": "python3"
  },
  "language_info": {
   "codemirror_mode": {
    "name": "ipython",
    "version": 3
   },
   "file_extension": ".py",
   "mimetype": "text/x-python",
   "name": "python",
   "nbconvert_exporter": "python",
   "pygments_lexer": "ipython3",
   "version": "3.9.5"
  },
  "orig_nbformat": 4
 },
 "nbformat": 4,
 "nbformat_minor": 2
}
