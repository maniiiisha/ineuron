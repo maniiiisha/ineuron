{
  "nbformat": 4,
  "nbformat_minor": 0,
  "metadata": {
    "colab": {
      "provenance": [],
      "collapsed_sections": []
    },
    "kernelspec": {
      "name": "python3",
      "display_name": "Python 3"
    },
    "language_info": {
      "name": "python"
    }
  },
  "cells": [
    {
      "cell_type": "markdown",
      "source": [
        "#**Assignment 3**\n",
        "\n",
        "Manisha Singh"
      ],
      "metadata": {
        "id": "qzmZ1SAbuBGo"
      }
    },
    {
      "cell_type": "markdown",
      "source": [
        "### Python String Manipulation"
      ],
      "metadata": {
        "id": "O1ppvXKwuoEs"
      }
    },
    {
      "cell_type": "markdown",
      "source": [
        "**Q1. Count the number of times `iNeuron` appears in the string.**\n",
        "```python\n",
        "text = \"Welcome to iNeuron, You are a part of FSDS Bootcamp 2 in iNeuron. I hope you are enjoying the course by iNeuron\"\n",
        "```"
      ],
      "metadata": {
        "id": "nDM7Rhzhu2Gm"
      }
    },
    {
      "cell_type": "code",
      "execution_count": 3,
      "metadata": {
        "colab": {
          "base_uri": "https://localhost:8080/"
        },
        "id": "w_TRGnGXt73O",
        "outputId": "8f812955-9f6d-4f02-bb0f-90b9da1d5f98"
      },
      "outputs": [
        {
          "output_type": "execute_result",
          "data": {
            "text/plain": [
              "3"
            ]
          },
          "metadata": {},
          "execution_count": 3
        }
      ],
      "source": [
        "text = \"Welcome to iNeuron, You are a part of FSDS Bootcamp 2 in iNeuron. I hope you are enjoying the course by iNeuron\"\n",
        "\n",
        "text.count(\"iNeuron\")"
      ]
    },
    {
      "cell_type": "markdown",
      "source": [
        "**Q2. Check if position `5` to `11` ends with the phrase `iNeuron.` in the string.**\n",
        "```python\n",
        "txt = \"Hello, welcome to FSDS 2.0 at iNeuron.\"\n",
        "```"
      ],
      "metadata": {
        "id": "nBU5zdQ4vl-I"
      }
    },
    {
      "cell_type": "code",
      "source": [
        "txt = \"Hello, welcome to FSDS 2.0 at iNeuron.\"\n",
        "\n",
        "txt[4:11].endswith(\"iNeuron.\")"
      ],
      "metadata": {
        "colab": {
          "base_uri": "https://localhost:8080/"
        },
        "id": "G_Nfepu1vlag",
        "outputId": "f30f70e9-a4a7-440a-a24e-0b78c47ab99d"
      },
      "execution_count": 39,
      "outputs": [
        {
          "output_type": "execute_result",
          "data": {
            "text/plain": [
              "False"
            ]
          },
          "metadata": {},
          "execution_count": 39
        }
      ]
    },
    {
      "cell_type": "markdown",
      "source": [
        "**Q3. Write a program that takes your full name as input and displays the abbreviations of the first and middle names except the last name which is displayed as it is. For example, if your name is Sunny Bhaveen Chandra, then the output should be S.B.Chandra.**"
      ],
      "metadata": {
        "id": "MG406l0Yw4Wq"
      }
    },
    {
      "cell_type": "code",
      "source": [
        "fullName = input(\"Enter your full name: \")\n",
        "\n",
        "firstName, middleName, lastName = fullName.split(\" \")\n",
        "print(f\"{firstName[0]}.{middleName[0]}.{lastName}\")"
      ],
      "metadata": {
        "colab": {
          "base_uri": "https://localhost:8080/"
        },
        "id": "FSm4wJtcw-Fi",
        "outputId": "b006382b-7d58-4595-c516-c62f7ec02f9d"
      },
      "execution_count": 13,
      "outputs": [
        {
          "output_type": "stream",
          "name": "stdout",
          "text": [
            "Enter your full name: Manisha Ajit Singh\n",
            "M.A.Singh\n"
          ]
        }
      ]
    },
    {
      "cell_type": "markdown",
      "source": [
        "**Q4. Join all items in a list into a string, using a hash(`#`) character as separator:**\n",
        "```python\n",
        "LIST = [\"My\", \"name\", \"is\", \"Rishav\", \"Dash\"]\n",
        "```"
      ],
      "metadata": {
        "id": "uJPZLzqt2rV6"
      }
    },
    {
      "cell_type": "code",
      "source": [
        "LIST = [\"My\", \"name\", \"is\", \"Rishav\", \"Dash\"]\n",
        "\n",
        "\"#\".join(LIST)"
      ],
      "metadata": {
        "colab": {
          "base_uri": "https://localhost:8080/",
          "height": 35
        },
        "id": "gPwgAJkU1WDz",
        "outputId": "1dda98ae-0b8c-418c-8f4f-3ea8a6762875"
      },
      "execution_count": 14,
      "outputs": [
        {
          "output_type": "execute_result",
          "data": {
            "text/plain": [
              "'My#name#is#Rishav#Dash'"
            ],
            "application/vnd.google.colaboratory.intrinsic+json": {
              "type": "string"
            }
          },
          "metadata": {},
          "execution_count": 14
        }
      ]
    },
    {
      "cell_type": "markdown",
      "source": [
        "**Q5. Write example for the following string manipulation functions.**\n",
        "```Python\n",
        "- isdecimal()\n",
        "- islower()\n",
        "- isupper()\n",
        "- isalpha()\n",
        "- isnumeric()\n",
        "```"
      ],
      "metadata": {
        "id": "oh24j0-93n7V"
      }
    },
    {
      "cell_type": "code",
      "source": [
        "# isdecimal()\n",
        "a = \"34\"\n",
        "print(a.isdecimal())\n",
        "\n",
        "b = \"hello\"\n",
        "print(b.isdecimal())"
      ],
      "metadata": {
        "colab": {
          "base_uri": "https://localhost:8080/"
        },
        "id": "Bxq45Xkb3gc9",
        "outputId": "a7e31170-dc89-4ff8-ac4b-9d81e5232a98"
      },
      "execution_count": 17,
      "outputs": [
        {
          "output_type": "stream",
          "name": "stdout",
          "text": [
            "True\n",
            "False\n"
          ]
        }
      ]
    },
    {
      "cell_type": "code",
      "source": [
        "# islower()\n",
        "\n",
        "a = \"goodbye\"\n",
        "print(a.islower())\n",
        "\n",
        "b = \"Goodbye\"\n",
        "print(b.islower())"
      ],
      "metadata": {
        "colab": {
          "base_uri": "https://localhost:8080/"
        },
        "id": "Pqd0y5SP4Ytv",
        "outputId": "df1e3b7a-88f7-41ff-fb9e-36984c5a38c5"
      },
      "execution_count": 19,
      "outputs": [
        {
          "output_type": "stream",
          "name": "stdout",
          "text": [
            "True\n",
            "False\n"
          ]
        }
      ]
    },
    {
      "cell_type": "code",
      "source": [
        "# isupper()\n",
        "\n",
        "a = \"LAST\"\n",
        "print(a.isupper())\n",
        "\n",
        "b = \"Last\"\n",
        "print(b.isupper())"
      ],
      "metadata": {
        "colab": {
          "base_uri": "https://localhost:8080/"
        },
        "id": "HLs7skmE478W",
        "outputId": "e49a9264-6ad6-43cb-c905-ec055b92def5"
      },
      "execution_count": 20,
      "outputs": [
        {
          "output_type": "stream",
          "name": "stdout",
          "text": [
            "True\n",
            "False\n"
          ]
        }
      ]
    },
    {
      "cell_type": "code",
      "source": [
        "# isalpha()\n",
        "\n",
        "a = \"Text\"\n",
        "print(a.isalpha())\n",
        "\n",
        "b = \"Text123\"\n",
        "print(b.isalpha())"
      ],
      "metadata": {
        "colab": {
          "base_uri": "https://localhost:8080/"
        },
        "id": "rX1wLJwT5T3J",
        "outputId": "9cec9ba9-5702-41b6-a49d-d3a931a46f23"
      },
      "execution_count": 21,
      "outputs": [
        {
          "output_type": "stream",
          "name": "stdout",
          "text": [
            "True\n",
            "False\n"
          ]
        }
      ]
    },
    {
      "cell_type": "code",
      "source": [
        "# isnumeric()\n",
        "\n",
        "a = \"12345\"\n",
        "print(a.isnumeric())\n",
        "\n",
        "b = \"123huh\"\n",
        "print(b.isnumeric())"
      ],
      "metadata": {
        "colab": {
          "base_uri": "https://localhost:8080/"
        },
        "id": "T0HI-FdN5i5G",
        "outputId": "21be3c30-f834-4782-fd21-10d162fd66c5"
      },
      "execution_count": 22,
      "outputs": [
        {
          "output_type": "stream",
          "name": "stdout",
          "text": [
            "True\n",
            "False\n"
          ]
        }
      ]
    },
    {
      "cell_type": "markdown",
      "source": [
        "**Q6. Indian PAN card format follows the following formats -**\n",
        "  - `AYEPC7894X`\n",
        "  - `ABCDE9999Y` \n",
        "\n",
        "**Take user input for PAN_CARD and validate as per the above example.**"
      ],
      "metadata": {
        "id": "LjGCzCNU5zai"
      }
    },
    {
      "cell_type": "code",
      "source": [
        "panNumber = input(\"Enter you Indian PAN number: \")\n",
        "\n",
        "if panNumber.isalnum()==True:\n",
        "  if panNumber[0:5].isalpha()==True and panNumber[5:9].isdigit()==True and panNumber[-1].isalpha()==True:\n",
        "    print(\"Entered PAN number is valid.\")\n",
        "  else:\n",
        "    print(\"Entered PAN number is invalid.\")\n",
        "\n",
        "else:\n",
        "  print(\"Entered PAN number is invalid.\")"
      ],
      "metadata": {
        "colab": {
          "base_uri": "https://localhost:8080/"
        },
        "id": "qXZV-TdE5yGm",
        "outputId": "87329b4c-6e05-4113-9c89-0474b8b49370"
      },
      "execution_count": 31,
      "outputs": [
        {
          "output_type": "stream",
          "name": "stdout",
          "text": [
            "Enter you Indian PAN number: AYEP47894X\n",
            "Entered PAN number is invalid.\n"
          ]
        }
      ]
    }
  ]
}
