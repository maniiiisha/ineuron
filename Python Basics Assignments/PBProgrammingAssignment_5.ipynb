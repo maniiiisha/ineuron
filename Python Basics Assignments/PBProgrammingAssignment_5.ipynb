{
 "cells": [
  {
   "attachments": {},
   "cell_type": "markdown",
   "metadata": {},
   "source": [
    "# **PYTHON BASICS PROGRAMMING ASSIGNMENT 5**"
   ]
  },
  {
   "attachments": {},
   "cell_type": "markdown",
   "metadata": {},
   "source": [
    "**Manisha Singh**"
   ]
  },
  {
   "attachments": {},
   "cell_type": "markdown",
   "metadata": {},
   "source": [
    "**Q1. Write a Python Program to Find LCM.**"
   ]
  },
  {
   "cell_type": "code",
   "execution_count": 1,
   "metadata": {},
   "outputs": [
    {
     "name": "stdout",
     "output_type": "stream",
     "text": [
      "The LCM of 8 and 6 is 24\n"
     ]
    }
   ],
   "source": [
    "num1 = int(input(\"Enter the first number: \"))\n",
    "num2 = int(input(\"Enter the second number: \"))\n",
    "\n",
    "if num1 > num2:\n",
    "    bigger = num1\n",
    "else:\n",
    "    bigger = num2\n",
    "    \n",
    "while(True):\n",
    "    if bigger % num1 == 0 and bigger % num2 == 0 :\n",
    "        lcm = bigger\n",
    "        break\n",
    "    bigger+=1\n",
    "    \n",
    "print(f\"The LCM of {num1} and {num2} is {lcm}\")"
   ]
  },
  {
   "attachments": {},
   "cell_type": "markdown",
   "metadata": {},
   "source": [
    "**Q2. Write a Python Program to Find HCF.**"
   ]
  },
  {
   "cell_type": "code",
   "execution_count": 2,
   "metadata": {},
   "outputs": [
    {
     "name": "stdout",
     "output_type": "stream",
     "text": [
      "The HCF of 15 and 20 is 5\n"
     ]
    }
   ],
   "source": [
    "a = int(input(\"Enter the first number: \"))\n",
    "b = int(input(\"Enter the second number: \"))\n",
    "\n",
    "if a < b:\n",
    "    smaller = a\n",
    "else:\n",
    "    smaller = b\n",
    "\n",
    "hcf = 0   \n",
    "for i in range(1, smaller+1):\n",
    "    if a % i == 0 and b % i == 0:\n",
    "        hcf = i\n",
    "    \n",
    "print(f\"The HCF of {a} and {b} is {hcf}\")"
   ]
  },
  {
   "attachments": {},
   "cell_type": "markdown",
   "metadata": {},
   "source": [
    "**Q3. Write a Python Program to Convert Decimal to Binary, Octal and Hexadecimal.**"
   ]
  },
  {
   "cell_type": "code",
   "execution_count": 3,
   "metadata": {},
   "outputs": [
    {
     "name": "stdout",
     "output_type": "stream",
     "text": [
      "179 in Binary is 0b10110011\n",
      "179 in Octal is 0o263\n",
      "179 in Hexadecimal is 0xb3\n"
     ]
    }
   ],
   "source": [
    "x = int(input(\"Enter a number: \"))\n",
    "\n",
    "print(f\"{x} in Binary is {bin(x)}\")\n",
    "print(f\"{x} in Octal is {oct(x)}\")\n",
    "print(f\"{x} in Hexadecimal is {hex(x)}\")"
   ]
  },
  {
   "attachments": {},
   "cell_type": "markdown",
   "metadata": {},
   "source": [
    "**Q4. Write a Python Program To Find ASCII value of a character.**"
   ]
  },
  {
   "cell_type": "code",
   "execution_count": 4,
   "metadata": {},
   "outputs": [
    {
     "name": "stdout",
     "output_type": "stream",
     "text": [
      "ASCII value of a is 97\n"
     ]
    }
   ],
   "source": [
    "char = input(\"Enter a character: \")\n",
    "\n",
    "print(f\"ASCII value of {char} is {ord(char)}\")"
   ]
  },
  {
   "attachments": {},
   "cell_type": "markdown",
   "metadata": {},
   "source": [
    "**Q5. Write a Python Program to Make a Simple Calculator with 4 basic mathematical operations.**"
   ]
  },
  {
   "cell_type": "code",
   "execution_count": 5,
   "metadata": {},
   "outputs": [
    {
     "name": "stdout",
     "output_type": "stream",
     "text": [
      "3.0 * 5.0 = 15.0\n"
     ]
    }
   ],
   "source": [
    "p = float(input(\"Enter first number: \"))\n",
    "q = float(input(\"Enter second number: \"))\n",
    "op = input(input(\"Enter the operation to perform(+, -, *, /): \"))\n",
    "\n",
    "if op=='+':\n",
    "    print(f\"{p} + {q} = {p+q}\")\n",
    "\n",
    "elif op=='-':\n",
    "    print(f\"{p} - {q} = {p-q}\")\n",
    "\n",
    "elif op=='*':\n",
    "    print(f\"{p} * {q} = {p*q}\")\n",
    "\n",
    "else:\n",
    "    print(f\"{p} / {q} = {p/q}\")\n"
   ]
  }
 ],
 "metadata": {
  "kernelspec": {
   "display_name": "Python 3",
   "language": "python",
   "name": "python3"
  },
  "language_info": {
   "codemirror_mode": {
    "name": "ipython",
    "version": 3
   },
   "file_extension": ".py",
   "mimetype": "text/x-python",
   "name": "python",
   "nbconvert_exporter": "python",
   "pygments_lexer": "ipython3",
   "version": "3.9.5"
  },
  "orig_nbformat": 4,
  "vscode": {
   "interpreter": {
    "hash": "1f28ccaed3b8b67c5baa16ecb763f64465046625536619bc420e057ae9fc3c6d"
   }
  }
 },
 "nbformat": 4,
 "nbformat_minor": 2
}
