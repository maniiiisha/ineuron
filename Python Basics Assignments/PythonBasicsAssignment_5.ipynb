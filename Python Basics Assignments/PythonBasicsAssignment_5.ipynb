{
  "nbformat": 4,
  "nbformat_minor": 0,
  "metadata": {
    "colab": {
      "provenance": [],
      "collapsed_sections": []
    },
    "kernelspec": {
      "name": "python3",
      "display_name": "Python 3"
    },
    "language_info": {
      "name": "python"
    }
  },
  "cells": [
    {
      "cell_type": "markdown",
      "source": [
        "#**PYTHON BASICS ASSIGNMENT 5**\n",
        "**Manisha Singh**"
      ],
      "metadata": {
        "id": "wiztxo91Wery"
      }
    },
    {
      "cell_type": "markdown",
      "source": [
        "**Q1. What does an empty dictionary's code look like?**"
      ],
      "metadata": {
        "id": "pjR4TRBzW4VQ"
      }
    },
    {
      "cell_type": "markdown",
      "source": [
        "An empty dictionary without any items is written with just two curly braces i.e., {}."
      ],
      "metadata": {
        "id": "a_P0mJUYfaR-"
      }
    },
    {
      "cell_type": "markdown",
      "source": [
        "**Q2. What is the value of a dictionary value with the key &#39;foo&#39; and the value 42?**"
      ],
      "metadata": {
        "id": "e5Mbw8utfqCW"
      }
    },
    {
      "cell_type": "markdown",
      "source": [
        "The value of a dictionary value with the key 'foo' and the value 42 is {'foo': 42}."
      ],
      "metadata": {
        "id": "arCHyBJ8fuMN"
      }
    },
    {
      "cell_type": "markdown",
      "source": [
        "**Q3. What is the most significant distinction between a dictionary and a list?**"
      ],
      "metadata": {
        "id": "OFHnQkMIhCgl"
      }
    },
    {
      "cell_type": "markdown",
      "source": [
        "The list is an ordered collection of data, whereas the dictionaries store the data in the form of key-value pairs using the hashtable structure."
      ],
      "metadata": {
        "id": "Tkqd1eaDiRpz"
      }
    },
    {
      "cell_type": "markdown",
      "source": [
        "**Q4. What happens if you try to access spam['foo'] if spam is {'bar': 100}?**"
      ],
      "metadata": {
        "id": "qRyr7gb6iVaJ"
      }
    },
    {
      "cell_type": "code",
      "execution_count": 1,
      "metadata": {
        "colab": {
          "base_uri": "https://localhost:8080/",
          "height": 183
        },
        "id": "5t4ipOekV46t",
        "outputId": "01147adb-be35-4963-ad77-0720d86ae016"
      },
      "outputs": [
        {
          "output_type": "error",
          "ename": "KeyError",
          "evalue": "ignored",
          "traceback": [
            "\u001b[0;31m---------------------------------------------------------------------------\u001b[0m",
            "\u001b[0;31mKeyError\u001b[0m                                  Traceback (most recent call last)",
            "\u001b[0;32m<ipython-input-1-a6efe2f90084>\u001b[0m in \u001b[0;36m<module>\u001b[0;34m\u001b[0m\n\u001b[1;32m      1\u001b[0m \u001b[0mspam\u001b[0m \u001b[0;34m=\u001b[0m \u001b[0;34m{\u001b[0m\u001b[0;34m'bar'\u001b[0m\u001b[0;34m:\u001b[0m \u001b[0;36m100\u001b[0m\u001b[0;34m}\u001b[0m\u001b[0;34m\u001b[0m\u001b[0;34m\u001b[0m\u001b[0m\n\u001b[0;32m----> 2\u001b[0;31m \u001b[0mprint\u001b[0m\u001b[0;34m(\u001b[0m\u001b[0mspam\u001b[0m\u001b[0;34m[\u001b[0m\u001b[0;34m'foo'\u001b[0m\u001b[0;34m]\u001b[0m\u001b[0;34m)\u001b[0m\u001b[0;34m\u001b[0m\u001b[0;34m\u001b[0m\u001b[0m\n\u001b[0m",
            "\u001b[0;31mKeyError\u001b[0m: 'foo'"
          ]
        }
      ],
      "source": [
        "spam = {'bar': 100}\n",
        "print(spam['foo'])"
      ]
    },
    {
      "cell_type": "markdown",
      "source": [
        "It will give a key error."
      ],
      "metadata": {
        "id": "l-FCZ-xLjWsH"
      }
    },
    {
      "cell_type": "markdown",
      "source": [
        "**Q5. If a dictionary is stored in spam, what is the difference between the expressions 'cat' in spam and 'cat' in spam.keys()?**"
      ],
      "metadata": {
        "id": "CcxF4ep6jgvb"
      }
    },
    {
      "cell_type": "markdown",
      "source": [
        "There is no difference. The 'in' operator checks whether a value exists as a key in the dictionary."
      ],
      "metadata": {
        "id": "j9aZiF24lRUO"
      }
    },
    {
      "cell_type": "markdown",
      "source": [
        "**Q6. If a dictionary is stored in spam, what is the difference between the expressions 'cat' in spam and 'cat' in spam.values()?**"
      ],
      "metadata": {
        "id": "lmjjIEG8llCO"
      }
    },
    {
      "cell_type": "markdown",
      "source": [
        "The 'cat' in spam checks whether there is a 'cat' key in the dictionary, while 'cat' in spam.values() checks whether there is a value 'cat' for one of the keys in spam."
      ],
      "metadata": {
        "id": "Wr81PfSXmLjF"
      }
    },
    {
      "cell_type": "markdown",
      "source": [
        "**Q7. What is a shortcut for the following code?**\n",
        "```\n",
        "if 'color' not in spam:\n",
        "spam['color'] = 'black'\n",
        "```"
      ],
      "metadata": {
        "id": "so3IV5_qmSIE"
      }
    },
    {
      "cell_type": "markdown",
      "source": [
        "```\n",
        "spam.setdefault('color','black')\n",
        "```"
      ],
      "metadata": {
        "id": "wYiC9pFEmmaG"
      }
    },
    {
      "cell_type": "markdown",
      "source": [
        "**Q8. How do you \"pretty print\" dictionary values using which module and function?**"
      ],
      "metadata": {
        "id": "rZbms1QRnuyd"
      }
    },
    {
      "cell_type": "markdown",
      "source": [
        "To pretty print a dictionary iwe can use the dump() function of the yaml module. It serves the same purpose as the json.dumps() function but in YAML format instead of JSON."
      ],
      "metadata": {
        "id": "me9JNWwAo_j7"
      }
    }
  ]
}