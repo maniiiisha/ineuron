{
 "cells": [
  {
   "cell_type": "markdown",
   "metadata": {},
   "source": [
    "# **PYTHON BASICS PROGRAMMING ASSIGNMENT 12**"
   ]
  },
  {
   "cell_type": "markdown",
   "metadata": {},
   "source": [
    "**Manisha Singh**"
   ]
  },
  {
   "cell_type": "markdown",
   "metadata": {},
   "source": [
    "**Q1. Write a Python program to Extract Unique values dictionary values.**"
   ]
  },
  {
   "cell_type": "code",
   "execution_count": 1,
   "metadata": {},
   "outputs": [
    {
     "name": "stdout",
     "output_type": "stream",
     "text": [
      "dict_values(['Alpha', 'Beta', 'Gamma', 'Alpha'])\n",
      "Unique values: ['Gamma', 'Beta', 'Alpha']\n"
     ]
    }
   ],
   "source": [
    "dict = {1:'Alpha', 2:'Beta', 3:'Gamma', 4:'Alpha'}\n",
    "print(dict.values())\n",
    "print(f'Unique values: {list(set(dict.values()))}')"
   ]
  },
  {
   "cell_type": "markdown",
   "metadata": {},
   "source": [
    "**Q2. Write a Python program to find the sum of all items in a dictionary.**"
   ]
  },
  {
   "cell_type": "code",
   "execution_count": 2,
   "metadata": {},
   "outputs": [
    {
     "name": "stdout",
     "output_type": "stream",
     "text": [
      "Sum: 300\n"
     ]
    }
   ],
   "source": [
    "dict = {'Apple':10, 'Mango':20, 'Banana':30, 'Guava':40, 'PineApple':200}\n",
    "print('Sum:', sum(dict.values()))"
   ]
  },
  {
   "cell_type": "markdown",
   "metadata": {},
   "source": [
    "**Q3. Write a Python program to Merging two Dictionaries.**"
   ]
  },
  {
   "cell_type": "code",
   "execution_count": 3,
   "metadata": {},
   "outputs": [
    {
     "name": "stdout",
     "output_type": "stream",
     "text": [
      "{'x': 1, 'y': [2, 3]}\n"
     ]
    }
   ],
   "source": [
    "a = {'x':1}\n",
    "b = {'y':[2,3]}\n",
    "a.update(b)\n",
    "print(a)"
   ]
  },
  {
   "cell_type": "markdown",
   "metadata": {},
   "source": [
    "**Q4. Write a Python program to convert key-values list to flat dictionary.**"
   ]
  },
  {
   "cell_type": "code",
   "execution_count": 1,
   "metadata": {},
   "outputs": [
    {
     "name": "stdout",
     "output_type": "stream",
     "text": [
      "Original dictionary: {'month': [1, 2, 3], 'name': ['Jan', 'Feb', 'March']}\n",
      "Flattened dictionary: {1: 'Jan', 2: 'Feb', 3: 'March'}\n"
     ]
    }
   ],
   "source": [
    "testdict = {'month': [1, 2, 3],\n",
    "            'name': ['Jan', 'Feb', 'March']}\n",
    "  \n",
    "print(\"Original dictionary: \" + str(testdict))\n",
    "res = dict(zip(testdict['month'], testdict['name']))\n",
    "print(\"Flattened dictionary: \" + str(res)) "
   ]
  },
  {
   "cell_type": "markdown",
   "metadata": {},
   "source": [
    "**Q5. Write a Python program to insertion at the beginning in OrderedDict.**"
   ]
  },
  {
   "cell_type": "code",
   "execution_count": 2,
   "metadata": {},
   "outputs": [
    {
     "data": {
      "text/plain": [
       "OrderedDict([('Jan', '1'), ('Feb', '2'), ('Mar', '3')])"
      ]
     },
     "execution_count": 2,
     "metadata": {},
     "output_type": "execute_result"
    }
   ],
   "source": [
    "from collections import OrderedDict\n",
    "  \n",
    "inordereddict = OrderedDict([('Feb', '2'), ('Mar', '3')])\n",
    "\n",
    "inordereddict.update({'Jan':'1'})\n",
    "inordereddict.move_to_end('Jan', last = False)\n",
    "inordereddict"
   ]
  },
  {
   "cell_type": "markdown",
   "metadata": {},
   "source": [
    "**Q6. Write a Python program to check order of character in string using OrderedDict().**"
   ]
  },
  {
   "cell_type": "code",
   "execution_count": 3,
   "metadata": {},
   "outputs": [
    {
     "name": "stdout",
     "output_type": "stream",
     "text": [
      "Initial list: {'a': 11, 'f': 66, 'd': 44, 'c': 33, 'b': 22, 'e': 55}\n",
      "Final list: OrderedDict([('a', 11), ('b', 22), ('c', 33), ('d', 44), ('e', 55), ('f', 66)])\n"
     ]
    }
   ],
   "source": [
    "from collections import OrderedDict\n",
    "\n",
    "initiallist = {'a': 11, 'f': 66, 'd': 44, 'c': 33, 'b': 22, 'e': 55}\n",
    "print(f\"Initial list: {initiallist}\")\n",
    "\n",
    "finallist = OrderedDict(dict(sorted(initiallist.items())))\n",
    "print(f\"Final list: {finallist}\")"
   ]
  },
  {
   "cell_type": "markdown",
   "metadata": {},
   "source": [
    "**Q7. Write a Python program to sort Python Dictionaries by Key or Value.**"
   ]
  },
  {
   "cell_type": "code",
   "execution_count": 4,
   "metadata": {},
   "outputs": [
    {
     "name": "stdout",
     "output_type": "stream",
     "text": [
      "{'Grapes': 13, 'PineApple': 22, 'Banana': 60, 'Mango': 100}\n"
     ]
    }
   ],
   "source": [
    "dictitems = {'Mango':100, 'PineApple':22, 'Banana':60, 'Grapes':13}\n",
    "\n",
    "def sortdict(indict, sorttype):\n",
    "    if sorttype == 'key':\n",
    "        print(dict(sorted(indict.items(), key=lambda x:x[0], reverse=False)))\n",
    "    else:\n",
    "        print(dict(sorted(indict.items(), key=lambda x:x[1], reverse=False)))\n",
    "      \n",
    "sortdict(dictitems,'value')"
   ]
  }
 ],
 "metadata": {
  "kernelspec": {
   "display_name": "Python 3",
   "language": "python",
   "name": "python3"
  },
  "language_info": {
   "codemirror_mode": {
    "name": "ipython",
    "version": 3
   },
   "file_extension": ".py",
   "mimetype": "text/x-python",
   "name": "python",
   "nbconvert_exporter": "python",
   "pygments_lexer": "ipython3",
   "version": "3.9.5"
  },
  "orig_nbformat": 4
 },
 "nbformat": 4,
 "nbformat_minor": 2
}
