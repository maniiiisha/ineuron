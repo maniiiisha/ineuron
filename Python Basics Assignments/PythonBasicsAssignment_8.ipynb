{
  "nbformat": 4,
  "nbformat_minor": 0,
  "metadata": {
    "colab": {
      "provenance": []
    },
    "kernelspec": {
      "name": "python3",
      "display_name": "Python 3"
    },
    "language_info": {
      "name": "python"
    }
  },
  "cells": [
    {
      "cell_type": "markdown",
      "source": [
        "#**PYTHON BASICS ASSIGNMENT 8**\n",
        "**Manisha Singh**"
      ],
      "metadata": {
        "id": "xET7uDhpCOEL"
      }
    },
    {
      "cell_type": "markdown",
      "source": [
        "**Q1. Is the Python Standard Library included with PyInputPlus?**"
      ],
      "metadata": {
        "id": "lJLq1iLUCYh9"
      }
    },
    {
      "cell_type": "markdown",
      "source": [
        "No, PyInputPlus is not a part of the Python Standard Library, so you must install it separately using Pip."
      ],
      "metadata": {
        "id": "2riRu879DLMw"
      }
    },
    {
      "cell_type": "markdown",
      "source": [
        "**Q2. Why is PyInputPlus commonly imported with import pyinputplus as pypi?**"
      ],
      "metadata": {
        "id": "sMqEmBjFDPUA"
      }
    },
    {
      "cell_type": "markdown",
      "source": [
        "Pyinputplus is commonly imported as pyip so that we can enter a shorter name when calling the module’s functions."
      ],
      "metadata": {
        "id": "_sv_N762EAWG"
      }
    },
    {
      "cell_type": "markdown",
      "source": [
        "**Q3. How do you distinguish between inputInt() and inputFloat()?**"
      ],
      "metadata": {
        "id": "gYAs9vLiEVCY"
      }
    },
    {
      "cell_type": "markdown",
      "source": [
        "The difference is in the datatype. When we use inputInt() the program expects an integer value as input but in inputFloat() it expects a float value i.e., number containing a decimal."
      ],
      "metadata": {
        "id": "LMxVrRh2EZ6x"
      }
    },
    {
      "cell_type": "markdown",
      "source": [
        "**Q4. Using PyInputPlus, how do you ensure that the user enters a whole number between 0 and 99?**"
      ],
      "metadata": {
        "id": "Txz_itPmFSPL"
      }
    },
    {
      "cell_type": "markdown",
      "source": [
        "In inputInt() we can set min=0 and max=99 to ensure that the user enters number between 0 and 99."
      ],
      "metadata": {
        "id": "nfkNKBAgHyGm"
      }
    },
    {
      "cell_type": "markdown",
      "source": [
        "**Q5. What is transferred to the keyword arguments allowRegexes and blockRegexes?**"
      ],
      "metadata": {
        "id": "OZ8QPnKhIAIX"
      }
    },
    {
      "cell_type": "markdown",
      "source": [
        "The allowRegexes and blockRegexes keyword arguments take a list of regular expression strings to determine what the PyInputPlus function will accept or \n",
        "reject as valid input."
      ],
      "metadata": {
        "id": "h0wqDXDeIGOJ"
      }
    },
    {
      "cell_type": "markdown",
      "source": [
        "**Q6. If a blank input is entered three times, what does inputStr(limit=3) do?**"
      ],
      "metadata": {
        "id": "o49E_ZMsIqvL"
      }
    },
    {
      "cell_type": "markdown",
      "source": [
        "The function will raise RetryLimitException."
      ],
      "metadata": {
        "id": "2p8hEGoIIwqN"
      }
    },
    {
      "cell_type": "markdown",
      "source": [
        "**Q7. If blank input is entered three times, what does inputStr(limit=3, default='hello') do?**"
      ],
      "metadata": {
        "id": "rO7Z8VBqJGix"
      }
    },
    {
      "cell_type": "markdown",
      "source": [
        "When you use limit keyword arguments and also pass a default keyword argument, the function returns the default value instead of raising an exception."
      ],
      "metadata": {
        "id": "kajLb8YgJSQK"
      }
    }
  ]
}