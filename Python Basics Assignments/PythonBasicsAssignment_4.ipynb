{
  "nbformat": 4,
  "nbformat_minor": 0,
  "metadata": {
    "colab": {
      "provenance": [],
      "collapsed_sections": []
    },
    "kernelspec": {
      "name": "python3",
      "display_name": "Python 3"
    },
    "language_info": {
      "name": "python"
    }
  },
  "cells": [
    {
      "cell_type": "markdown",
      "source": [
        "#**PYTHON BASICS ASSIGNMENT 4**\n",
        "**Manisha Singh**"
      ],
      "metadata": {
        "id": "RvkIstJbFm1R"
      }
    },
    {
      "cell_type": "markdown",
      "source": [
        "**Q1. What exactly is []?**"
      ],
      "metadata": {
        "id": "miOkZF9eGkje"
      }
    },
    {
      "cell_type": "markdown",
      "source": [
        "[] represents a list in Python and is created by placing elements inside square brackets [], separated by commas."
      ],
      "metadata": {
        "id": "6DU6I94PGrNe"
      }
    },
    {
      "cell_type": "markdown",
      "source": [
        "**Q2. In a list of values stored in a variable called spam, how would you assign the value 'hello' as the third value? (Assume [2, 4, 6, 8, 10] are in spam.)**"
      ],
      "metadata": {
        "id": "8FH-zse9JXM7"
      }
    },
    {
      "cell_type": "code",
      "execution_count": 1,
      "metadata": {
        "colab": {
          "base_uri": "https://localhost:8080/"
        },
        "id": "CuxwHb9tFj82",
        "outputId": "940795b4-5037-4027-d696-0b60aded340d"
      },
      "outputs": [
        {
          "output_type": "stream",
          "name": "stdout",
          "text": [
            "[2, 4, 'hello', 8, 10]\n"
          ]
        }
      ],
      "source": [
        "spam = [2, 4, 6, 8, 10]\n",
        "spam[2] = 'hello'\n",
        "print(spam)"
      ]
    },
    {
      "cell_type": "markdown",
      "source": [
        "**Let's pretend the spam includes the list ['a', 'b', 'c', 'd'] for the next three queries.**"
      ],
      "metadata": {
        "id": "1beO7aFCMoAl"
      }
    },
    {
      "cell_type": "code",
      "source": [
        "spam = ['a', 'b', 'c', 'd']"
      ],
      "metadata": {
        "id": "cyoegaBEMyHm"
      },
      "execution_count": 2,
      "outputs": []
    },
    {
      "cell_type": "markdown",
      "source": [
        "**Q3. What is the value of spam[int(int('3' * 2) / 11)]?**"
      ],
      "metadata": {
        "id": "-wi_HjqiMDZ7"
      }
    },
    {
      "cell_type": "code",
      "source": [
        "spam[int(int('3' * 2) / 11)]"
      ],
      "metadata": {
        "colab": {
          "base_uri": "https://localhost:8080/",
          "height": 35
        },
        "id": "aZYbBDo7LnGd",
        "outputId": "cc473f46-b67c-4c31-bd7d-489b6a470cc0"
      },
      "execution_count": 3,
      "outputs": [
        {
          "output_type": "execute_result",
          "data": {
            "text/plain": [
              "'d'"
            ],
            "application/vnd.google.colaboratory.intrinsic+json": {
              "type": "string"
            }
          },
          "metadata": {},
          "execution_count": 3
        }
      ]
    },
    {
      "cell_type": "markdown",
      "source": [
        "**Q4. What is the value of spam[-1]?**"
      ],
      "metadata": {
        "id": "kbO00sI7NIt8"
      }
    },
    {
      "cell_type": "code",
      "source": [
        "spam[-1]"
      ],
      "metadata": {
        "colab": {
          "base_uri": "https://localhost:8080/",
          "height": 35
        },
        "id": "SUx81UvdM4Nl",
        "outputId": "f7ca047b-3cdd-47b4-c8b4-c46c6918c26b"
      },
      "execution_count": 4,
      "outputs": [
        {
          "output_type": "execute_result",
          "data": {
            "text/plain": [
              "'d'"
            ],
            "application/vnd.google.colaboratory.intrinsic+json": {
              "type": "string"
            }
          },
          "metadata": {},
          "execution_count": 4
        }
      ]
    },
    {
      "cell_type": "markdown",
      "source": [
        "**Q5. What is the value of spam[:2]?**"
      ],
      "metadata": {
        "id": "xdjseZIkNX9K"
      }
    },
    {
      "cell_type": "code",
      "source": [
        "spam[:2]"
      ],
      "metadata": {
        "colab": {
          "base_uri": "https://localhost:8080/"
        },
        "id": "0ikAt_KdNReP",
        "outputId": "44a38da9-3130-4415-e5d1-3cde05beb9c7"
      },
      "execution_count": 5,
      "outputs": [
        {
          "output_type": "execute_result",
          "data": {
            "text/plain": [
              "['a', 'b']"
            ]
          },
          "metadata": {},
          "execution_count": 5
        }
      ]
    },
    {
      "cell_type": "markdown",
      "source": [
        "**Let's pretend bacon has the list [3.14, 'cat,' 11, 'cat,' True] for the next three questions.**"
      ],
      "metadata": {
        "id": "wnWrgRsSNh2w"
      }
    },
    {
      "cell_type": "code",
      "source": [
        "bacon = [3.14, 'cat', 11, 'cat', True]"
      ],
      "metadata": {
        "id": "S_0fxvo8NgU2"
      },
      "execution_count": 8,
      "outputs": []
    },
    {
      "cell_type": "markdown",
      "source": [
        "**Q6. What is the value of bacon.index('cat')?**"
      ],
      "metadata": {
        "id": "2ui5LGr7OEhj"
      }
    },
    {
      "cell_type": "code",
      "source": [
        "bacon.index('cat')"
      ],
      "metadata": {
        "colab": {
          "base_uri": "https://localhost:8080/"
        },
        "id": "sVPMXw3bN5Nb",
        "outputId": "29edf2f7-cf80-4a90-cc84-84b2ed63dc1f"
      },
      "execution_count": 9,
      "outputs": [
        {
          "output_type": "execute_result",
          "data": {
            "text/plain": [
              "1"
            ]
          },
          "metadata": {},
          "execution_count": 9
        }
      ]
    },
    {
      "cell_type": "markdown",
      "source": [
        "**Q7. How does bacon.append(99) change the look of the list value in bacon?**"
      ],
      "metadata": {
        "id": "QUvuqTZgOWNq"
      }
    },
    {
      "cell_type": "code",
      "source": [
        "bacon.append(99)\n",
        "bacon"
      ],
      "metadata": {
        "colab": {
          "base_uri": "https://localhost:8080/"
        },
        "id": "zZUC3XOeOPZK",
        "outputId": "e7d16276-f091-4557-d6d8-9c1f0aa35e14"
      },
      "execution_count": 10,
      "outputs": [
        {
          "output_type": "execute_result",
          "data": {
            "text/plain": [
              "[3.14, 'cat', 11, 'cat', True, 99]"
            ]
          },
          "metadata": {},
          "execution_count": 10
        }
      ]
    },
    {
      "cell_type": "markdown",
      "source": [
        "It will add '99' at the end of the list."
      ],
      "metadata": {
        "id": "jpCJ5hkqOj1R"
      }
    },
    {
      "cell_type": "markdown",
      "source": [
        "**Q8. How does bacon.remove(&#39;cat&#39;) change the look of the list in bacon?**"
      ],
      "metadata": {
        "id": "DPDJ-E4SP4fT"
      }
    },
    {
      "cell_type": "code",
      "source": [
        "bacon.remove('cat')\n",
        "bacon"
      ],
      "metadata": {
        "colab": {
          "base_uri": "https://localhost:8080/"
        },
        "id": "zlpL6mTnOhJn",
        "outputId": "f627044d-328d-489f-8857-eb6743a65a37"
      },
      "execution_count": 11,
      "outputs": [
        {
          "output_type": "execute_result",
          "data": {
            "text/plain": [
              "[3.14, 11, 'cat', True, 99]"
            ]
          },
          "metadata": {},
          "execution_count": 11
        }
      ]
    },
    {
      "cell_type": "markdown",
      "source": [
        "As 'cat' was at two indexes, so it will remove from the first index."
      ],
      "metadata": {
        "id": "DEFVDI27QGV0"
      }
    },
    {
      "cell_type": "markdown",
      "source": [
        "**Q9. What are the list concatenation and list replication operators?**"
      ],
      "metadata": {
        "id": "JSeFnoOIQQ5m"
      }
    },
    {
      "cell_type": "markdown",
      "source": [
        "The operator for list concatenation is '+', while the operator for replication is '*'."
      ],
      "metadata": {
        "id": "SML5hSkeR0xU"
      }
    },
    {
      "cell_type": "markdown",
      "source": [
        "**Q10. What is difference between the list methods append() and insert()?**"
      ],
      "metadata": {
        "id": "5hcuxGf7R9eI"
      }
    },
    {
      "cell_type": "markdown",
      "source": [
        "The append() method will add the given element to the end of the list by increasing the length of list by 1 while with the insert() method we can create a new entry exactly at the position we want."
      ],
      "metadata": {
        "id": "7KL7fs8QSolK"
      }
    },
    {
      "cell_type": "markdown",
      "source": [
        "**Q11. What are the two methods for removing items from a list?**"
      ],
      "metadata": {
        "id": "DhoVrldWTc3G"
      }
    },
    {
      "cell_type": "markdown",
      "source": [
        "list.remove() - to remove an item by its value\n",
        "\n",
        "list.pop() - to remove an item by its index position\n",
        "\n",
        "del list[] - to remove an item by its index position or index slice"
      ],
      "metadata": {
        "id": "puvRrVT3Yde4"
      }
    },
    {
      "cell_type": "markdown",
      "source": [
        "**Q12. Describe how list values and string values are identical.**"
      ],
      "metadata": {
        "id": "ZHB8_8-hY91P"
      }
    },
    {
      "cell_type": "markdown",
      "source": [
        "- Lists and strings both are iterable.\n",
        "\n",
        "- Lists and strings both have indexes and we can perform slicing operations on them.\n",
        "\n",
        "- For loop can be used on both list and string.\n",
        "\n",
        "- '+' operator can be used for concatenation on both string and list.\n",
        "\n",
        "- '*' operator can be used for repetition on both string and list."
      ],
      "metadata": {
        "id": "yZc6aJ8UbkLc"
      }
    },
    {
      "cell_type": "markdown",
      "source": [
        "**Q13. What's the difference between tuples and lists?**"
      ],
      "metadata": {
        "id": "QcGDOELvb79j"
      }
    },
    {
      "cell_type": "markdown",
      "source": [
        "Tuple | List\n",
        "-----|-----\n",
        "- Tuple is immutable. | - List is mutable.\n",
        "- Tuple iteration is faster. | - List iteration is slower and is time consuming\n",
        "- Tuple is useful for read-only operations like accessing elements. | - List is useful for insertion and deletion operations.\n",
        "- Tuples consumes less memory. | - Lists consumes more memory.\n",
        "- Tuples have less in-built methods. | - Lists provides many in-built methods."
      ],
      "metadata": {
        "id": "vVuUDb6FcGuO"
      }
    },
    {
      "cell_type": "markdown",
      "source": [
        "**Q14. How do you type a tuple value that only contains the integer 42?**"
      ],
      "metadata": {
        "id": "QPUsv2MneX0X"
      }
    },
    {
      "cell_type": "code",
      "source": [
        "a = (42,)\n",
        "type(a)"
      ],
      "metadata": {
        "colab": {
          "base_uri": "https://localhost:8080/"
        },
        "id": "dmt1aN2-QCFJ",
        "outputId": "ba33108e-16a4-4a0f-8227-44bbc69018c9"
      },
      "execution_count": 12,
      "outputs": [
        {
          "output_type": "execute_result",
          "data": {
            "text/plain": [
              "tuple"
            ]
          },
          "metadata": {},
          "execution_count": 12
        }
      ]
    },
    {
      "cell_type": "markdown",
      "source": [
        "**Q15. How do you get a list value's tuple form? How do you get a tuple value's list form?**"
      ],
      "metadata": {
        "id": "eNrvDTfNfA33"
      }
    },
    {
      "cell_type": "markdown",
      "source": [
        "We can use tuple() function to convert list to tuple and similarly we can use list() method to convert tuple to list."
      ],
      "metadata": {
        "id": "1L-ngDaSf77B"
      }
    },
    {
      "cell_type": "markdown",
      "source": [
        "**Q16. Variables that \"contain\" list values are not necessarily lists themselves. Instead, what do they contain?**"
      ],
      "metadata": {
        "id": "MJ0FpFo9gJSr"
      }
    },
    {
      "cell_type": "markdown",
      "source": [
        "They contain references to all the list values."
      ],
      "metadata": {
        "id": "mqmIghtbj-Cr"
      }
    },
    {
      "cell_type": "markdown",
      "source": [
        "**Q17. How do you distinguish between copy.copy() and copy.deepcopy()?**"
      ],
      "metadata": {
        "id": "TbmVSBlOkt-P"
      }
    },
    {
      "cell_type": "markdown",
      "source": [
        "In copy.copy() a reference of an object is copied into another object. It means that any changes made to a copy of an object do reflect in the original object.\n",
        "\n",
        "In copy.deepcopy() a copy of the object is copied into another object. It means that any changes made to a copy of the object do not reflect in the original object."
      ],
      "metadata": {
        "id": "L4l-hReglebx"
      }
    }
  ]
}