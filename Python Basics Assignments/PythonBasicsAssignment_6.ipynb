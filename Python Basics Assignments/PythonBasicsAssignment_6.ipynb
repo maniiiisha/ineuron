{
  "nbformat": 4,
  "nbformat_minor": 0,
  "metadata": {
    "colab": {
      "provenance": [],
      "collapsed_sections": []
    },
    "kernelspec": {
      "name": "python3",
      "display_name": "Python 3"
    },
    "language_info": {
      "name": "python"
    }
  },
  "cells": [
    {
      "cell_type": "markdown",
      "source": [
        "#**PYTHON BASICS ASSIGNMENT 6**\n",
        "**Manisha Singh**"
      ],
      "metadata": {
        "id": "3wfF_DypkKIN"
      }
    },
    {
      "cell_type": "markdown",
      "source": [
        "**Q1. What are escape characters, and how do you use them?**"
      ],
      "metadata": {
        "id": "8WP-seWxkRrO"
      }
    },
    {
      "cell_type": "markdown",
      "source": [
        "The escape character in Python (and a few other programming languages) is the standard backslash. Placing a ‘\\’ in front of one of these special or reserved characters will tell Python to just treat it as text, ensuring your code is valid and behaves as you’d expect."
      ],
      "metadata": {
        "id": "DsseZVvalCaN"
      }
    },
    {
      "cell_type": "markdown",
      "source": [
        "**Q2. What do the escape characters n and t stand for?**"
      ],
      "metadata": {
        "id": "wj7l9ZlVldMp"
      }
    },
    {
      "cell_type": "markdown",
      "source": [
        "\\n (Newline) – This command moves the cursor control to a new line. \n",
        "\n",
        "\\t (Tab) – This command moves the cursor to control a couple of spaces (usually 4) to the right in the same line."
      ],
      "metadata": {
        "id": "bCqudCNIlj2V"
      }
    },
    {
      "cell_type": "markdown",
      "source": [
        "**Q3. What is the way to include backslash characters in a string?**"
      ],
      "metadata": {
        "id": "vCSoLyb4m8jp"
      }
    },
    {
      "cell_type": "markdown",
      "source": [
        "The ' \\ ' escape character will represent the backslash character in a string."
      ],
      "metadata": {
        "id": "GumYEpCqqxU-"
      }
    },
    {
      "cell_type": "markdown",
      "source": [
        "**Q4. The string \"Howl's Moving Castle\" is a correct value. Why isn't the single quote character in the word Howl's not escaped a problem?**"
      ],
      "metadata": {
        "id": "n9uIFPUVr-w0"
      }
    },
    {
      "cell_type": "markdown",
      "source": [
        "The single quote in Howl's is fine because we've used double quotes to mark the beginning and end of the string."
      ],
      "metadata": {
        "id": "Dz-b0Y6dtanp"
      }
    },
    {
      "cell_type": "markdown",
      "source": [
        "**Q5. How do you write a string of newlines if you don&#39;t want to use the n character?**"
      ],
      "metadata": {
        "id": "8behXsC6tf1u"
      }
    },
    {
      "cell_type": "markdown",
      "source": [
        "We can use triple-quoted string literals, instead of n character."
      ],
      "metadata": {
        "id": "zeX0u9xbxBD9"
      }
    },
    {
      "cell_type": "markdown",
      "source": [
        "**Q6. What are the values of the given expressions?**\n",
        "\n",
        "'Hello, world!'[1] \n",
        "\n",
        "'Hello, world!'[0:5] \n",
        "\n",
        "'Hello, world!'[:5] \n",
        "\n",
        "'Hello, world!'[3:]"
      ],
      "metadata": {
        "id": "dFgQYqFYxHkp"
      }
    },
    {
      "cell_type": "code",
      "execution_count": 1,
      "metadata": {
        "colab": {
          "base_uri": "https://localhost:8080/"
        },
        "id": "iCtpGb-SkE_I",
        "outputId": "c9ca81f6-8288-480d-d1e8-a0967fb5b398"
      },
      "outputs": [
        {
          "output_type": "stream",
          "name": "stdout",
          "text": [
            "e\n",
            "Hello\n",
            "Hello\n",
            "lo, world!\n"
          ]
        }
      ],
      "source": [
        "a = 'Hello, world!'\n",
        "\n",
        "print(a[1])\n",
        "print(a[0:5])\n",
        "print(a[:5])\n",
        "print(a[3:])"
      ]
    },
    {
      "cell_type": "markdown",
      "source": [
        "**Q7. What are the values of the following expressions?** \n",
        "\n",
        "'Hello'.upper() \n",
        "\n",
        "'Hello'.upper().isupper() \n",
        "\n",
        "'Hello'.upper().lower()"
      ],
      "metadata": {
        "id": "dgkJRMY8yXLE"
      }
    },
    {
      "cell_type": "code",
      "source": [
        "b = 'Hello'\n",
        "\n",
        "print(b.upper())\n",
        "print(b.upper().isupper())\n",
        "print(b.upper().lower())"
      ],
      "metadata": {
        "colab": {
          "base_uri": "https://localhost:8080/"
        },
        "id": "_BxhyDwmyI70",
        "outputId": "63585ac1-0497-4aec-81a1-b735c3bc5b6e"
      },
      "execution_count": 2,
      "outputs": [
        {
          "output_type": "stream",
          "name": "stdout",
          "text": [
            "HELLO\n",
            "True\n",
            "hello\n"
          ]
        }
      ]
    },
    {
      "cell_type": "markdown",
      "source": [
        "**Q8. What are the values of the following expressions?** \n",
        "\n",
        "'Remember, remember, the fifith of July.'.split() \n",
        "\n",
        "'-'.join('There can only one'.split())"
      ],
      "metadata": {
        "id": "wKoIF3Wyzj2v"
      }
    },
    {
      "cell_type": "code",
      "source": [
        "'Remember, remember, the fifith of July.'.split()"
      ],
      "metadata": {
        "colab": {
          "base_uri": "https://localhost:8080/"
        },
        "id": "Mdbz8KAzy8zr",
        "outputId": "2b13c3c9-8cbc-4268-e785-74ce7704d063"
      },
      "execution_count": 3,
      "outputs": [
        {
          "output_type": "execute_result",
          "data": {
            "text/plain": [
              "['Remember,', 'remember,', 'the', 'fifith', 'of', 'July.']"
            ]
          },
          "metadata": {},
          "execution_count": 3
        }
      ]
    },
    {
      "cell_type": "code",
      "source": [
        "'-'.join('There can only one'.split())"
      ],
      "metadata": {
        "colab": {
          "base_uri": "https://localhost:8080/",
          "height": 35
        },
        "id": "Aqn3wXV0z9Pm",
        "outputId": "34adb92f-f32d-4d78-bd3c-30c79efad244"
      },
      "execution_count": 4,
      "outputs": [
        {
          "output_type": "execute_result",
          "data": {
            "text/plain": [
              "'There-can-only-one'"
            ],
            "application/vnd.google.colaboratory.intrinsic+json": {
              "type": "string"
            }
          },
          "metadata": {},
          "execution_count": 4
        }
      ]
    },
    {
      "cell_type": "markdown",
      "source": [
        "**Q9. What are the methods for right-justifying, left-justifying, and centering a string?**"
      ],
      "metadata": {
        "id": "HDeYmjG20KJU"
      }
    },
    {
      "cell_type": "markdown",
      "source": [
        "The methods for right-justifying is rjust(), for left-justifying is ljust() and for centering is center()."
      ],
      "metadata": {
        "id": "jCDulcqS0_bu"
      }
    },
    {
      "cell_type": "markdown",
      "source": [
        "**Q10. What is the best way to remove whitespace characters from the start or end?**"
      ],
      "metadata": {
        "id": "6KuIPE6I1WCh"
      }
    },
    {
      "cell_type": "markdown",
      "source": [
        "The rstrip() method removes whitespace at the end of a string and lstrip() method removes whitespace at the beginning of a string."
      ],
      "metadata": {
        "id": "4zJ-1xdY2JSE"
      }
    }
  ]
}