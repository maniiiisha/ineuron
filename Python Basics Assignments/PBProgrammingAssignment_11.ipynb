{
 "cells": [
  {
   "cell_type": "markdown",
   "metadata": {},
   "source": [
    "# **PYTHON BASICS PROGRAMMING ASSIGNMENT 11**"
   ]
  },
  {
   "cell_type": "markdown",
   "metadata": {},
   "source": [
    "**Manisha Singh**"
   ]
  },
  {
   "cell_type": "markdown",
   "metadata": {},
   "source": [
    "**Q1. Write a Python program to find words which are greater than given length k.**"
   ]
  },
  {
   "cell_type": "code",
   "execution_count": 3,
   "metadata": {},
   "outputs": [
    {
     "name": "stdout",
     "output_type": "stream",
     "text": [
      "Words greater than 3 in This is definately the end is/are:\n",
      " This, definately.\n"
     ]
    }
   ],
   "source": [
    "def lenofstr():\n",
    "    string = input(\"Enter the string: \")\n",
    "    length = int(input('Enter the length of the string: '))\n",
    "    res = []\n",
    "\n",
    "    for str in string.split(\" \"):\n",
    "        if len(str) > length:\n",
    "            res.append(str)\n",
    "    print(f\"Words greater than {length} in {string} is/are:\\n {', '.join(res)}.\")\n",
    "\n",
    "lenofstr()"
   ]
  },
  {
   "cell_type": "markdown",
   "metadata": {},
   "source": [
    "**Q2. Write a Python program for removing i-th character from a string.**"
   ]
  },
  {
   "cell_type": "code",
   "execution_count": 5,
   "metadata": {},
   "outputs": [
    {
     "name": "stdout",
     "output_type": "stream",
     "text": [
      "poion\n"
     ]
    }
   ],
   "source": [
    "def removechar():\n",
    "    string = input(\"Enter the string: \")\n",
    "    incharnum = int(input(\"Enter the i-th character: \"))\n",
    "    res = ''\n",
    "\n",
    "    for ele in range(len(string)):\n",
    "        if ele != incharnum:\n",
    "            res = res + string[ele]\n",
    "    print(res)\n",
    "    \n",
    "removechar()"
   ]
  },
  {
   "cell_type": "markdown",
   "metadata": {},
   "source": [
    "**Q3. Write a Python program to split and join a string.**"
   ]
  },
  {
   "cell_type": "code",
   "execution_count": 6,
   "metadata": {},
   "outputs": [
    {
     "name": "stdout",
     "output_type": "stream",
     "text": [
      "Split string: ['cruel', 'summer', 'by', 'taylor', 'swift']\n",
      "Join string: cruel summer by taylor swift\n"
     ]
    }
   ],
   "source": [
    "def splitjoin():\n",
    "    string = input('Enter the string: ')\n",
    "    print(f\"Split string: {string.split(' ')}\")\n",
    "    print(f\"Join string: {' '.join(string.split(' '))}\")\n",
    "\n",
    "splitjoin()"
   ]
  },
  {
   "cell_type": "markdown",
   "metadata": {},
   "source": [
    "**Q4. Write a Python to check if a given string is binary string or not.**"
   ]
  },
  {
   "cell_type": "code",
   "execution_count": 8,
   "metadata": {},
   "outputs": [
    {
     "name": "stdout",
     "output_type": "stream",
     "text": [
      "01011110 is binary.\n"
     ]
    }
   ],
   "source": [
    "def checkbinary(str):\n",
    "    binary = '01'\n",
    "\n",
    "    for i in range(len(str)):\n",
    "        if str[i] not in binary:\n",
    "            print(f'{str} is not binary.')\n",
    "            break\n",
    "    else:\n",
    "        print(f'{str} is binary.')\n",
    "        \n",
    "str = input(\"Enter the string: \")\n",
    "checkbinary(str)  "
   ]
  },
  {
   "cell_type": "markdown",
   "metadata": {},
   "source": [
    "**Q5. Write a Python program to find uncommon words from two Strings.**"
   ]
  },
  {
   "cell_type": "code",
   "execution_count": 10,
   "metadata": {},
   "outputs": [
    {
     "name": "stdout",
     "output_type": "stream",
     "text": [
      "Uncommon words in {'this', 'is', 'fun'} and {'at', 'this', 'fun', 'all', 'is', 'not'} is/are {'not', 'all', 'at'}.\n"
     ]
    }
   ],
   "source": [
    "def uncommonwords():\n",
    "    str1 = set(input(\"Enter the first string: \").split(' '))\n",
    "    str2 = set(input(\"Enter the second string: \").split(' '))\n",
    "    res = (str1.union(str2)).difference(str1.intersection(str2))\n",
    "    print(f\"Uncommon words in {str1} and {str2} is/are {res}.\")\n",
    "\n",
    "uncommonwords()"
   ]
  },
  {
   "cell_type": "markdown",
   "metadata": {},
   "source": [
    "**Q6. Write a Python to find all duplicate characters in string.**"
   ]
  },
  {
   "cell_type": "code",
   "execution_count": 11,
   "metadata": {},
   "outputs": [
    {
     "name": "stdout",
     "output_type": "stream",
     "text": [
      "Duplicate characters in summer is/are ['m'].\n"
     ]
    }
   ],
   "source": [
    "str = input(\"Enter the string: \").lower()\n",
    "duplicate = []\n",
    "\n",
    "for i in str:\n",
    "    if str.count(i) > 1 :\n",
    "        if i not in duplicate:\n",
    "            duplicate.append(i)\n",
    "        \n",
    "print(f\"Duplicate characters in {str} is/are {duplicate}.\")"
   ]
  },
  {
   "cell_type": "markdown",
   "metadata": {},
   "source": [
    "**Q7. Write a Python Program to check if a string contains any special character.**"
   ]
  },
  {
   "cell_type": "code",
   "execution_count": 12,
   "metadata": {},
   "outputs": [
    {
     "name": "stdout",
     "output_type": "stream",
     "text": [
      "huh? no way! has special charecter/s: ['?', '!']\n"
     ]
    }
   ],
   "source": [
    "import string\n",
    "\n",
    "char = string.punctuation\n",
    "spchar = []\n",
    "\n",
    "str = input(\"Enter the string: \").lower()\n",
    "for i in str:\n",
    "    if i in char:\n",
    "        spchar.append(i)\n",
    "\n",
    "if len(spchar) > 0:\n",
    "    print(\"{} has special charecter/s: {}\".format(str,spchar))"
   ]
  }
 ],
 "metadata": {
  "kernelspec": {
   "display_name": "Python 3",
   "language": "python",
   "name": "python3"
  },
  "language_info": {
   "codemirror_mode": {
    "name": "ipython",
    "version": 3
   },
   "file_extension": ".py",
   "mimetype": "text/x-python",
   "name": "python",
   "nbconvert_exporter": "python",
   "pygments_lexer": "ipython3",
   "version": "3.9.5"
  },
  "orig_nbformat": 4
 },
 "nbformat": 4,
 "nbformat_minor": 2
}
