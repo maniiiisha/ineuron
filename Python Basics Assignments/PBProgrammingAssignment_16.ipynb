{
 "cells": [
  {
   "cell_type": "markdown",
   "metadata": {},
   "source": [
    "# **PYTHON BASICS PROGRAMMING ASSIGNMENT 16**"
   ]
  },
  {
   "cell_type": "markdown",
   "metadata": {},
   "source": [
    "**Manisha Singh**"
   ]
  },
  {
   "cell_type": "markdown",
   "metadata": {},
   "source": [
    "**Q1. Write a function that stutters a word as if someone is struggling to read it. The first two letters are repeated twice with an ellipsis ... and space after each, and then the word is pronounced with a question mark ?.**"
   ]
  },
  {
   "cell_type": "code",
   "execution_count": 1,
   "metadata": {},
   "outputs": [
    {
     "name": "stdout",
     "output_type": "stream",
     "text": [
      "in... in... incredible?\n"
     ]
    }
   ],
   "source": [
    "def stutter(word):\n",
    "    return (2*(word[:2] + '... ')) + word + '?'\n",
    "\n",
    "word = input('Enter the word: ')\n",
    "print(stutter(word))"
   ]
  },
  {
   "cell_type": "markdown",
   "metadata": {},
   "source": [
    "**Q2. Create a function that takes an angle in radians and returns the corresponding angle in degrees rounded to one decimal place.**"
   ]
  },
  {
   "cell_type": "code",
   "execution_count": 2,
   "metadata": {},
   "outputs": [
    {
     "data": {
      "text/plain": [
       "1145.9165581759555"
      ]
     },
     "execution_count": 2,
     "metadata": {},
     "output_type": "execute_result"
    }
   ],
   "source": [
    "def radtodeg(radian):\n",
    "    pi = 3.14159\n",
    "    degree = radian * (180/pi)\n",
    "    return degree\n",
    "\n",
    "radian = float(input('Enter the angle(in radians): '))\n",
    "radtodeg(radian)"
   ]
  },
  {
   "cell_type": "markdown",
   "metadata": {},
   "source": [
    "**Q3. In this challenge, establish if a given integer num is a Curzon number. If 1 plus 2 elevated to num is exactly divisible by 1 plus 2 multiplied by num, then num is a Curzon number.**\n",
    "\n",
    "**Given a non-negative integer num, implement a function that returns True if num is a Curzon number, or False otherwise.**"
   ]
  },
  {
   "cell_type": "code",
   "execution_count": 3,
   "metadata": {},
   "outputs": [
    {
     "name": "stdout",
     "output_type": "stream",
     "text": [
      "5 is a Curzon Number.\n"
     ]
    }
   ],
   "source": [
    "def checkcurzon():\n",
    "    num = int(input(\"Enter a number: \"))\n",
    "\n",
    "    if (pow(2, num)+1)%((2* num)+1) == 0:\n",
    "        print(f'{num} is a Curzon Number.')\n",
    "\n",
    "    else:\n",
    "        print(f'{num} is not a Curzon Number.')\n",
    "\n",
    "checkcurzon()"
   ]
  },
  {
   "cell_type": "markdown",
   "metadata": {},
   "source": [
    "**Q4. Given the side length x find the area of a hexagon.**"
   ]
  },
  {
   "cell_type": "code",
   "execution_count": 4,
   "metadata": {},
   "outputs": [
    {
     "name": "stdout",
     "output_type": "stream",
     "text": [
      "Area for Hexagon of sidelength 2 is 10.4.\n"
     ]
    }
   ],
   "source": [
    "import math\n",
    "\n",
    "def areaofhex():\n",
    "    num = int(input('Enter the side length of a Hexagon: '))\n",
    "    res = ((3 * math.sqrt(3)) / 2) * (pow(num, 2))\n",
    "\n",
    "    print(f'Area for Hexagon of sidelength {num} is {res:.1f}.')\n",
    "\n",
    "areaofhex()"
   ]
  },
  {
   "cell_type": "markdown",
   "metadata": {},
   "source": [
    "**Q5. Create a function that returns a base-2 (binary) representation of a base-10 (decimal) string number. To convert is simple: ((2) means base-2 and (10) means base-10) 010101001(2) = 1 + 8 + 32 + 128.**\n",
    "\n",
    "**Going from right to left, the value of the most right bit is 1, now from that every bit to the left will be x2 the value, value of an 8 bit binary numbers are (256, 128, 64, 32, 16, 8, 4, 2, 1).**"
   ]
  },
  {
   "cell_type": "code",
   "execution_count": 5,
   "metadata": {},
   "outputs": [
    {
     "name": "stdout",
     "output_type": "stream",
     "text": [
      "Binary of 5 is 101.\n"
     ]
    }
   ],
   "source": [
    "def getbinary():\n",
    "    num = int(input(\"Enter a number: \"))\n",
    "    res = bin(num).replace('0b','') \n",
    "    print(f'Binary of {num} is {res}.')\n",
    "\n",
    "getbinary()"
   ]
  }
 ],
 "metadata": {
  "kernelspec": {
   "display_name": "Python 3",
   "language": "python",
   "name": "python3"
  },
  "language_info": {
   "codemirror_mode": {
    "name": "ipython",
    "version": 3
   },
   "file_extension": ".py",
   "mimetype": "text/x-python",
   "name": "python",
   "nbconvert_exporter": "python",
   "pygments_lexer": "ipython3",
   "version": "3.9.5"
  },
  "orig_nbformat": 4
 },
 "nbformat": 4,
 "nbformat_minor": 2
}
