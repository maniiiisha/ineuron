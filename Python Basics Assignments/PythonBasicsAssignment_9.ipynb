{
 "cells": [
  {
   "attachments": {},
   "cell_type": "markdown",
   "metadata": {},
   "source": [
    "# PYTHON BASICS ASSIGNMENT 9\n",
    "**Manisha Singh**"
   ]
  },
  {
   "attachments": {},
   "cell_type": "markdown",
   "metadata": {},
   "source": [
    "**Q1. To what does a relative path refer?**"
   ]
  },
  {
   "attachments": {},
   "cell_type": "markdown",
   "metadata": {},
   "source": [
    "The relative path is the path to some file with respect to your current working directory (PWD)."
   ]
  },
  {
   "attachments": {},
   "cell_type": "markdown",
   "metadata": {},
   "source": [
    "**Q2. What does an absolute path start with your operating system?**"
   ]
  },
  {
   "attachments": {},
   "cell_type": "markdown",
   "metadata": {},
   "source": [
    "Absolute path in my operating system starts with C:"
   ]
  },
  {
   "attachments": {},
   "cell_type": "markdown",
   "metadata": {},
   "source": [
    "**Q3. What do the functions os.getcwd() and os.chdir() do?**"
   ]
  },
  {
   "attachments": {},
   "cell_type": "markdown",
   "metadata": {},
   "source": [
    "The os.getcwd() function returns the current working directory and the os.chdir() function changes the current working directory."
   ]
  },
  {
   "attachments": {},
   "cell_type": "markdown",
   "metadata": {},
   "source": [
    "**Q4. What are the . and .. folders?**"
   ]
  },
  {
   "attachments": {},
   "cell_type": "markdown",
   "metadata": {},
   "source": [
    ". represents current working directory and .. represents parent directory of current working directory."
   ]
  },
  {
   "attachments": {},
   "cell_type": "markdown",
   "metadata": {},
   "source": [
    "**Q5. In C:\\bacon\\eggs\\spam.txt, which part is the dir name, and which part is the base name?**"
   ]
  },
  {
   "attachments": {},
   "cell_type": "markdown",
   "metadata": {},
   "source": [
    "C:\\bacon\\eggs is the dir name, while spam.txt is the base name."
   ]
  },
  {
   "attachments": {},
   "cell_type": "markdown",
   "metadata": {},
   "source": [
    "**Q6. What are the three “mode” arguments that can be passed to the open() function?**"
   ]
  },
  {
   "attachments": {},
   "cell_type": "markdown",
   "metadata": {},
   "source": [
    "Below are three main mode which can be passed to open():\n",
    "\n",
    "* r - read mode, default mode. file is opened in read mode pointer is at the beginning of the file.\n",
    "\n",
    "* w - write mode. This mode will overwrite any existing content. If file does not exists it creates a new file.\n",
    "\n",
    "* a - append mode. similar to write mode, only difference is user can append the required data without overwriting the exisiting content.\n",
    "\n",
    "There are also three additional mode:\n",
    "\n",
    "* r+ - read and write mode\n",
    "\n",
    "* a+ - append and read mode\n",
    "\n",
    "* x - Creating mode, this is used for creating new files."
   ]
  },
  {
   "attachments": {},
   "cell_type": "markdown",
   "metadata": {},
   "source": [
    "**Q7. What happens if an existing file is opened in write mode?**"
   ]
  },
  {
   "attachments": {},
   "cell_type": "markdown",
   "metadata": {},
   "source": [
    "Opening the existing file in write mode will overwrite all the existing content from the file."
   ]
  },
  {
   "attachments": {},
   "cell_type": "markdown",
   "metadata": {},
   "source": [
    "**Q8. How do you tell the difference between read() and readlines()?**"
   ]
  },
  {
   "attachments": {},
   "cell_type": "markdown",
   "metadata": {},
   "source": [
    "read() reads the file as an individual string all at the same time whereas readlines() reads the file one line at a time and returns list of lines."
   ]
  },
  {
   "attachments": {},
   "cell_type": "markdown",
   "metadata": {},
   "source": [
    "**Q9. What data structure does a shelf value resemble?**"
   ]
  },
  {
   "attachments": {},
   "cell_type": "markdown",
   "metadata": {},
   "source": [
    "A shelf value resembles a dictionary value; it has keys and values, along with keys() and values() methods that work similarly to the dictionary methods of the same names."
   ]
  }
 ],
 "metadata": {
  "kernelspec": {
   "display_name": "Python 3",
   "language": "python",
   "name": "python3"
  },
  "language_info": {
   "codemirror_mode": {
    "name": "ipython",
    "version": 3
   },
   "file_extension": ".py",
   "mimetype": "text/x-python",
   "name": "python",
   "nbconvert_exporter": "python",
   "pygments_lexer": "ipython3",
   "version": "3.9.5"
  },
  "orig_nbformat": 4,
  "vscode": {
   "interpreter": {
    "hash": "1f28ccaed3b8b67c5baa16ecb763f64465046625536619bc420e057ae9fc3c6d"
   }
  }
 },
 "nbformat": 4,
 "nbformat_minor": 2
}
