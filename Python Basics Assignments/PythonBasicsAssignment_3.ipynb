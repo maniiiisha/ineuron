{
  "nbformat": 4,
  "nbformat_minor": 0,
  "metadata": {
    "colab": {
      "provenance": [],
      "collapsed_sections": []
    },
    "kernelspec": {
      "name": "python3",
      "display_name": "Python 3"
    },
    "language_info": {
      "name": "python"
    }
  },
  "cells": [
    {
      "cell_type": "markdown",
      "source": [
        "#**PYTHON BASICS ASSIGNMENT 3**\n",
        "**Manisha Singh**"
      ],
      "metadata": {
        "id": "3fVqmJd7O4Ab"
      }
    },
    {
      "cell_type": "markdown",
      "source": [
        "**Q1. Why are functions advantageous to have in your programs?**"
      ],
      "metadata": {
        "id": "1vnQUURnPERV"
      }
    },
    {
      "cell_type": "markdown",
      "source": [
        "Functions are advantageous to have in our program because of the following reasons:\n",
        "\n",
        "- Using functions, we can avoid rewriting the same logic/code again and again in a program.\n",
        "\n",
        "- We can call functions multiple times in a program and anywhere in a program.\n",
        "\n",
        "- We can track a large program easily when it is divided into multiple functions.\n",
        "\n",
        "- Reusability is the main achievement of functions."
      ],
      "metadata": {
        "id": "SEKaIw7hPLzo"
      }
    },
    {
      "cell_type": "markdown",
      "source": [
        "**Q2. When does the code in a function run: when it&#39;s specified or when it&#39;s called?**"
      ],
      "metadata": {
        "id": "ofbn1hoKRDN3"
      }
    },
    {
      "cell_type": "markdown",
      "source": [
        "The code in a function only runs when it is called."
      ],
      "metadata": {
        "id": "MWyTo6LVRLyR"
      }
    },
    {
      "cell_type": "markdown",
      "source": [
        "**Q3. What statement creates a function?**"
      ],
      "metadata": {
        "id": "_V2rMPpjgqEq"
      }
    },
    {
      "cell_type": "markdown",
      "source": [
        "We can create a function using the def keyword."
      ],
      "metadata": {
        "id": "lKeyNVDQgwDm"
      }
    },
    {
      "cell_type": "markdown",
      "source": [
        "**Q4. What is the difference between a function and a function call?**"
      ],
      "metadata": {
        "id": "KJ-4ZPgshQ1R"
      }
    },
    {
      "cell_type": "markdown",
      "source": [
        "A function is a block of code that does a particular operation and returns a result whereas a function call is the code that is used to pass the control to a function."
      ],
      "metadata": {
        "id": "arS669_xhWqG"
      }
    },
    {
      "cell_type": "markdown",
      "source": [
        "**Q5. How many global scopes are there in a Python program? How many local scopes?**"
      ],
      "metadata": {
        "id": "JXNHT3kAiWD3"
      }
    },
    {
      "cell_type": "markdown",
      "source": [
        "For any python program, there can be only one global scope. The global scope is created once the program starts and gets destroyed with the termination of the python program.\n",
        "\n",
        "Local scope is the scope of a variable defined within a function. Its scope lies only with the function and is not accessible outside of the function. New local scope is created whenever a function is called, so the numbers of total local scopes depend on the number of function calls."
      ],
      "metadata": {
        "id": "Tr74rcWLih60"
      }
    },
    {
      "cell_type": "markdown",
      "source": [
        "**Q6. What happens to variables in a local scope when the function call returns?**"
      ],
      "metadata": {
        "id": "OM1RsAWFkn_S"
      }
    },
    {
      "cell_type": "markdown",
      "source": [
        "A variable only exists while the function is being executed — we call this its lifetime. When the execution of the function terminates (returns), the local variables are destroyed."
      ],
      "metadata": {
        "id": "X12fIfM2kyMD"
      }
    },
    {
      "cell_type": "markdown",
      "source": [
        "**Q7. What is the concept of a return value? Is it possible to have a return value in an expression?**"
      ],
      "metadata": {
        "id": "AIJ40FCmlgvk"
      }
    },
    {
      "cell_type": "markdown",
      "source": [
        "A return statement is used to end the execution of the function call and “returns” the result (value of the expression following the return keyword) to the caller. If we define a function with an explicit return statement that has an explicit return value, then we can use that return value in any expression."
      ],
      "metadata": {
        "id": "LPEnpdCclmh-"
      }
    },
    {
      "cell_type": "markdown",
      "source": [
        "**Q8. If a function does not have a return statement, what is the return value of a call to that function?**"
      ],
      "metadata": {
        "id": "oDhvzSe3ocBF"
      }
    },
    {
      "cell_type": "markdown",
      "source": [
        "If a function doesn't specify a return value, it returns None."
      ],
      "metadata": {
        "id": "IABTTJzqokie"
      }
    },
    {
      "cell_type": "markdown",
      "source": [
        "**Q9. How do you make a function variable refer to the global variable?**"
      ],
      "metadata": {
        "id": "GgCjS8fUo_DI"
      }
    },
    {
      "cell_type": "markdown",
      "source": [
        "Global variables are accessible throughout the program. If we want to make the function variable global and allow it to use outside of the function's local scope then we can use the keyword global to force the function variable to act as a global variable."
      ],
      "metadata": {
        "id": "sop08fI8pE3d"
      }
    },
    {
      "cell_type": "markdown",
      "source": [
        "**Q10. What is the data type of None?**"
      ],
      "metadata": {
        "id": "70mxg_x-r_-Q"
      }
    },
    {
      "cell_type": "markdown",
      "source": [
        "None is a data type of its own (NoneType) and only None can be None."
      ],
      "metadata": {
        "id": "xpKmmauqsFov"
      }
    },
    {
      "cell_type": "markdown",
      "source": [
        "**Q11. What does the sentence import areallyourpetsnamederic do?**"
      ],
      "metadata": {
        "id": "VJ39U8amtJUK"
      }
    },
    {
      "cell_type": "markdown",
      "source": [
        "The sentence \"import areallyourpetsnamederic\" imports the module \"areallyourpetsnamederic\"."
      ],
      "metadata": {
        "id": "HWiKmrOgtnoq"
      }
    },
    {
      "cell_type": "markdown",
      "source": [
        "**Q12. If you had a bacon() feature in a spam module, what would you call it after importing spam?**"
      ],
      "metadata": {
        "id": "CJuYam5mt2l5"
      }
    },
    {
      "cell_type": "markdown",
      "source": [
        "By using the code below:\n",
        "\n",
        "```\n",
        "import spam\n",
        "spam.bacon()\n",
        "```"
      ],
      "metadata": {
        "id": "Arg8w2HuvGyE"
      }
    },
    {
      "cell_type": "markdown",
      "source": [
        "**Q13. What can you do to save a programme from crashing if it encounters an error?**"
      ],
      "metadata": {
        "id": "MmW0iQfcvWsx"
      }
    },
    {
      "cell_type": "markdown",
      "source": [
        "We can enclose the code which is causing error in a 'try' and use 'except' to catch and handle the error."
      ],
      "metadata": {
        "id": "ZKiTl2QCw94a"
      }
    },
    {
      "cell_type": "markdown",
      "source": [
        "**Q14. What is the purpose of the try clause? What is the purpose of the except clause?**"
      ],
      "metadata": {
        "id": "d_E-uxP0xEVf"
      }
    },
    {
      "cell_type": "markdown",
      "source": [
        "The try block is used to check some code for errors i.e the code inside the try block will execute when there is no error in the program. Whereas the code inside the except block will execute whenever the program encounters some error in the preceding try block."
      ],
      "metadata": {
        "id": "iKmJhIqDxJlu"
      }
    }
  ]
}