{
 "cells": [
  {
   "cell_type": "markdown",
   "metadata": {},
   "source": [
    "# **PYTHON BASICS ASSIGNMENT 21**"
   ]
  },
  {
   "cell_type": "markdown",
   "metadata": {},
   "source": [
    "**Manisha Singh**"
   ]
  },
  {
   "cell_type": "markdown",
   "metadata": {},
   "source": [
    "**Q1. Add the current date to the text file today.txt as a string.**"
   ]
  },
  {
   "cell_type": "code",
   "execution_count": 1,
   "metadata": {},
   "outputs": [
    {
     "name": "stdout",
     "output_type": "stream",
     "text": [
      "18.07.2023\n"
     ]
    }
   ],
   "source": [
    "import datetime\n",
    "\n",
    "file = open('today.txt', 'w')\n",
    "file.write(datetime.datetime.now().strftime(\"%d.%m.%Y\"))\n",
    "file.close()\n",
    "\n",
    "file = open('today.txt', 'r')\n",
    "print(file.read())\n",
    "file.close()"
   ]
  },
  {
   "cell_type": "markdown",
   "metadata": {},
   "source": [
    "**Q2. Read the text file today.txt into the string today_string.**"
   ]
  },
  {
   "cell_type": "code",
   "execution_count": 2,
   "metadata": {},
   "outputs": [
    {
     "name": "stdout",
     "output_type": "stream",
     "text": [
      "18.07.2023\n"
     ]
    }
   ],
   "source": [
    "file = open('today.txt', 'r')\n",
    "today_string = file.read()\n",
    "print(today_string)"
   ]
  },
  {
   "cell_type": "markdown",
   "metadata": {},
   "source": [
    "**Q3. Parse the date from today_string.**"
   ]
  },
  {
   "cell_type": "code",
   "execution_count": 5,
   "metadata": {},
   "outputs": [
    {
     "name": "stdout",
     "output_type": "stream",
     "text": [
      "2023-07-18 00:00:00\n"
     ]
    }
   ],
   "source": [
    "from datetime import datetime\n",
    "\n",
    "parseddata = datetime.strptime(today_string, '%d.%m.%Y')\n",
    "print(parseddata)"
   ]
  },
  {
   "cell_type": "markdown",
   "metadata": {},
   "source": [
    "**Q4. List the files in your current directory.**"
   ]
  },
  {
   "cell_type": "code",
   "execution_count": 7,
   "metadata": {},
   "outputs": [
    {
     "data": {
      "text/plain": [
       "['.ipynb_checkpoints',\n",
       " '.vscode',\n",
       " 'Assignment_1.ipynb',\n",
       " 'Assignment_2.ipynb',\n",
       " 'Assignment_3.ipynb',\n",
       " 'Assignment_4.ipynb',\n",
       " 'Assignment_5.ipynb',\n",
       " 'books.csv',\n",
       " 'books.db',\n",
       " 'hellothere.docx',\n",
       " 'ineuron.code-workspace',\n",
       " 'PBProgrammingAssignment_1.ipynb',\n",
       " 'PBProgrammingAssignment_2.ipynb',\n",
       " 'PBProgrammingAssignment_3.ipynb',\n",
       " 'PBProgrammingAssignment_4.ipynb',\n",
       " 'PBProgrammingAssignment_5.ipynb',\n",
       " 'PythonAdvancedAssignment_1.ipynb',\n",
       " 'PythonAdvancedAssignment_10.ipynb',\n",
       " 'PythonAdvancedAssignment_11.ipynb',\n",
       " 'PythonAdvancedAssignment_12.ipynb',\n",
       " 'PythonAdvancedAssignment_13.ipynb',\n",
       " 'PythonAdvancedAssignment_14.ipynb',\n",
       " 'PythonAdvancedAssignment_15.ipynb',\n",
       " 'PythonAdvancedAssignment_16.ipynb',\n",
       " 'PythonAdvancedAssignment_2.ipynb',\n",
       " 'PythonAdvancedAssignment_3.ipynb',\n",
       " 'PythonAdvancedAssignment_4.ipynb',\n",
       " 'PythonAdvancedAssignment_5.ipynb',\n",
       " 'PythonAdvancedAssignment_6.ipynb',\n",
       " 'PythonAdvancedAssignment_7.ipynb',\n",
       " 'PythonAdvancedAssignment_8.ipynb',\n",
       " 'PythonAdvancedAssignment_9.ipynb',\n",
       " 'PythonBasicsAssignment.ipynb',\n",
       " 'PythonBasicsAssignment_1.ipynb',\n",
       " 'PythonBasicsAssignment_10.ipynb',\n",
       " 'PythonBasicsAssignment_11.ipynb',\n",
       " 'PythonBasicsAssignment_12.ipynb',\n",
       " 'PythonBasicsAssignment_13.ipynb',\n",
       " 'PythonBasicsAssignment_14.ipynb',\n",
       " 'PythonBasicsAssignment_15.ipynb',\n",
       " 'PythonBasicsAssignment_16.ipynb',\n",
       " 'PythonBasicsAssignment_17.ipynb',\n",
       " 'PythonBasicsAssignment_18.ipynb',\n",
       " 'PythonBasicsAssignment_19.ipynb',\n",
       " 'PythonBasicsAssignment_2.ipynb',\n",
       " 'PythonBasicsAssignment_20.ipynb',\n",
       " 'PythonBasicsAssignment_3.ipynb',\n",
       " 'PythonBasicsAssignment_4.ipynb',\n",
       " 'PythonBasicsAssignment_9.ipynb',\n",
       " 'test.txt',\n",
       " 'today.txt',\n",
       " 'zoo.py',\n",
       " '__pycache__']"
      ]
     },
     "execution_count": 7,
     "metadata": {},
     "output_type": "execute_result"
    }
   ],
   "source": [
    "import os\n",
    "os.listdir('.')"
   ]
  },
  {
   "cell_type": "markdown",
   "metadata": {},
   "source": [
    "**Q5. Create a list of all of the files in your parent directory (minimum five files should be available).**"
   ]
  },
  {
   "cell_type": "code",
   "execution_count": 9,
   "metadata": {},
   "outputs": [
    {
     "data": {
      "text/plain": [
       "['.ipynb_checkpoints',\n",
       " '.vscode',\n",
       " 'Assignment_1.ipynb',\n",
       " 'Assignment_2.ipynb',\n",
       " 'Assignment_3.ipynb',\n",
       " 'Assignment_4.ipynb',\n",
       " 'Assignment_5.ipynb',\n",
       " 'books.csv',\n",
       " 'books.db',\n",
       " 'hellothere.docx',\n",
       " 'ineuron.code-workspace',\n",
       " 'PBProgrammingAssignment_1.ipynb',\n",
       " 'PBProgrammingAssignment_2.ipynb',\n",
       " 'PBProgrammingAssignment_3.ipynb',\n",
       " 'PBProgrammingAssignment_4.ipynb',\n",
       " 'PBProgrammingAssignment_5.ipynb',\n",
       " 'PythonAdvancedAssignment_1.ipynb',\n",
       " 'PythonAdvancedAssignment_10.ipynb',\n",
       " 'PythonAdvancedAssignment_11.ipynb',\n",
       " 'PythonAdvancedAssignment_12.ipynb',\n",
       " 'PythonAdvancedAssignment_13.ipynb',\n",
       " 'PythonAdvancedAssignment_14.ipynb',\n",
       " 'PythonAdvancedAssignment_15.ipynb',\n",
       " 'PythonAdvancedAssignment_16.ipynb',\n",
       " 'PythonAdvancedAssignment_2.ipynb',\n",
       " 'PythonAdvancedAssignment_3.ipynb',\n",
       " 'PythonAdvancedAssignment_4.ipynb',\n",
       " 'PythonAdvancedAssignment_5.ipynb',\n",
       " 'PythonAdvancedAssignment_6.ipynb',\n",
       " 'PythonAdvancedAssignment_7.ipynb',\n",
       " 'PythonAdvancedAssignment_8.ipynb',\n",
       " 'PythonAdvancedAssignment_9.ipynb',\n",
       " 'PythonBasicsAssignment.ipynb',\n",
       " 'PythonBasicsAssignment_1.ipynb',\n",
       " 'PythonBasicsAssignment_10.ipynb',\n",
       " 'PythonBasicsAssignment_11.ipynb',\n",
       " 'PythonBasicsAssignment_12.ipynb',\n",
       " 'PythonBasicsAssignment_13.ipynb',\n",
       " 'PythonBasicsAssignment_14.ipynb',\n",
       " 'PythonBasicsAssignment_15.ipynb',\n",
       " 'PythonBasicsAssignment_16.ipynb',\n",
       " 'PythonBasicsAssignment_17.ipynb',\n",
       " 'PythonBasicsAssignment_18.ipynb',\n",
       " 'PythonBasicsAssignment_19.ipynb',\n",
       " 'PythonBasicsAssignment_2.ipynb',\n",
       " 'PythonBasicsAssignment_20.ipynb',\n",
       " 'PythonBasicsAssignment_3.ipynb',\n",
       " 'PythonBasicsAssignment_4.ipynb',\n",
       " 'PythonBasicsAssignment_9.ipynb',\n",
       " 'test.txt',\n",
       " 'today.txt',\n",
       " 'zoo.py',\n",
       " '__pycache__']"
      ]
     },
     "execution_count": 9,
     "metadata": {},
     "output_type": "execute_result"
    }
   ],
   "source": [
    "os.listdir()"
   ]
  },
  {
   "cell_type": "markdown",
   "metadata": {},
   "source": [
    "**Q6. Use multiprocessing to create three separate processes. Make each one wait a random number of seconds between one and five, print the current time, and then exit.**"
   ]
  },
  {
   "cell_type": "code",
   "execution_count": 1,
   "metadata": {},
   "outputs": [],
   "source": [
    "import multiprocessing\n",
    "\n",
    "def printsec(seconds):\n",
    "    from datetime import datetime\n",
    "    from time import sleep\n",
    "    sleep(seconds)\n",
    "    print('wait:', seconds,'seconds, time:', datetime.utcnow())\n",
    "    \n",
    "if __name__ == '__main__':\n",
    "    import random    \n",
    "    for n in range(3):\n",
    "        seconds = random.random()\n",
    "        proc = multiprocessing.Process(target=printsec, args=(seconds,))\n",
    "        proc.start()"
   ]
  },
  {
   "cell_type": "code",
   "execution_count": 3,
   "metadata": {},
   "outputs": [
    {
     "name": "stdout",
     "output_type": "stream",
     "text": [
      "wait: 0.08228608481569877 seconds, time: 2023-07-18 11:23:17.806843\n",
      "wait: 0.6306022112233757 seconds, time: 2023-07-18 11:23:18.347947\n",
      "wait: 0.9938509338872493 seconds, time: 2023-07-18 11:23:18.708629\n"
     ]
    }
   ],
   "source": [
    "!python multi.py"
   ]
  },
  {
   "cell_type": "markdown",
   "metadata": {},
   "source": [
    "**Q7. Create a date object of your day of birth.**"
   ]
  },
  {
   "cell_type": "code",
   "execution_count": 5,
   "metadata": {},
   "outputs": [
    {
     "name": "stdout",
     "output_type": "stream",
     "text": [
      "2000-11-10 00:00:00 <class 'datetime.datetime'>\n"
     ]
    }
   ],
   "source": [
    "from datetime import datetime\n",
    "\n",
    "dob = datetime.strptime('10.11.2000','%d.%m.%Y')\n",
    "print(dob, type(dob))"
   ]
  },
  {
   "cell_type": "markdown",
   "metadata": {},
   "source": [
    "**Q8. What day of the week was your day of birth?**"
   ]
  },
  {
   "cell_type": "code",
   "execution_count": 6,
   "metadata": {},
   "outputs": [
    {
     "data": {
      "text/plain": [
       "'Friday'"
      ]
     },
     "execution_count": 6,
     "metadata": {},
     "output_type": "execute_result"
    }
   ],
   "source": [
    "dob.strftime(\"%A\")"
   ]
  },
  {
   "cell_type": "markdown",
   "metadata": {},
   "source": [
    "**Q9. When will you be (or when were you) 10,000 days old?**"
   ]
  },
  {
   "cell_type": "code",
   "execution_count": 7,
   "metadata": {},
   "outputs": [
    {
     "data": {
      "text/plain": [
       "datetime.datetime(2028, 3, 28, 0, 0)"
      ]
     },
     "execution_count": 7,
     "metadata": {},
     "output_type": "execute_result"
    }
   ],
   "source": [
    "from datetime import timedelta\n",
    "\n",
    "tenthousand = dob + timedelta(days=10000)\n",
    "tenthousand"
   ]
  }
 ],
 "metadata": {
  "kernelspec": {
   "display_name": "Python 3",
   "language": "python",
   "name": "python3"
  },
  "language_info": {
   "codemirror_mode": {
    "name": "ipython",
    "version": 3
   },
   "file_extension": ".py",
   "mimetype": "text/x-python",
   "name": "python",
   "nbconvert_exporter": "python",
   "pygments_lexer": "ipython3",
   "version": "3.9.5"
  },
  "orig_nbformat": 4
 },
 "nbformat": 4,
 "nbformat_minor": 2
}
