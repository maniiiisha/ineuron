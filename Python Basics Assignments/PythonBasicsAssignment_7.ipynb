{
  "nbformat": 4,
  "nbformat_minor": 0,
  "metadata": {
    "colab": {
      "provenance": []
    },
    "kernelspec": {
      "name": "python3",
      "display_name": "Python 3"
    },
    "language_info": {
      "name": "python"
    }
  },
  "cells": [
    {
      "cell_type": "markdown",
      "source": [
        "#**PYTHON BASICS ASSIGNMENT 7**\n",
        "**Manisha Singh**"
      ],
      "metadata": {
        "id": "6fa2WFdQsEXL"
      }
    },
    {
      "cell_type": "markdown",
      "source": [
        "**Q1. What is the name of the feature responsible for generating Regex objects?**"
      ],
      "metadata": {
        "id": "eZuYm4L2sWkB"
      }
    },
    {
      "cell_type": "markdown",
      "source": [
        "The re.compile() function returns Regex objects."
      ],
      "metadata": {
        "id": "4nSBawVZ6qTY"
      }
    },
    {
      "cell_type": "markdown",
      "source": [
        "**Q2. Why do raw strings often appear in Regex objects?**"
      ],
      "metadata": {
        "id": "fqFouFDp6uNK"
      }
    },
    {
      "cell_type": "markdown",
      "source": [
        "Regular expressions use the backslash character to indicate special forms or to allow special characters to be used without invoking their special meaning. This collides with Python’s usage of the same character for the same purpose in string literals. Hence, Raw strings are used (e.g., r\"\\n\") so that backslashes do not have to be escaped."
      ],
      "metadata": {
        "id": "G3jHOnkI7KGN"
      }
    },
    {
      "cell_type": "markdown",
      "source": [
        "**Q3. What is the return value of the search() method?**"
      ],
      "metadata": {
        "id": "DEFDn8Ve94E9"
      }
    },
    {
      "cell_type": "markdown",
      "source": [
        "The return value of the search() method in Python is 'None'."
      ],
      "metadata": {
        "id": "1qLr94Ue-VZ1"
      }
    },
    {
      "cell_type": "markdown",
      "source": [
        "**Q4. From a Match item, how do you get the actual strings that match the pattern?**"
      ],
      "metadata": {
        "id": "aruFi91r-d84"
      }
    },
    {
      "cell_type": "markdown",
      "source": [
        "For Matched items, group() method returns actual strings that match the pattern."
      ],
      "metadata": {
        "id": "F7rJ5iVo_7F_"
      }
    },
    {
      "cell_type": "markdown",
      "source": [
        "**Q5. In the regex which created from the r'(\\d\\d\\d)-(\\d\\d\\d-\\d\\d\\d\\d)', what does group zero cover? Group 2? Group 1?**"
      ],
      "metadata": {
        "id": "7yHQF4H1A3z4"
      }
    },
    {
      "cell_type": "markdown",
      "source": [
        "The first set of parentheses in a regex string will be group 1, The second set will be group 2 and passing 0 or nothing to the group() method will return the entire matched text."
      ],
      "metadata": {
        "id": "mgnFuKwJDLcZ"
      }
    },
    {
      "cell_type": "markdown",
      "source": [
        "**Q6. In standard expression syntax, parentheses and intervals have distinct meanings. How can you tell\n",
        "a regex that you want it to fit real parentheses and periods?**"
      ],
      "metadata": {
        "id": "XvMZX1cmDXFK"
      }
    },
    {
      "cell_type": "markdown",
      "source": [
        "The . ( and ) escape characters in the raw string passed to re.compile() will match actual parenthesis characters."
      ],
      "metadata": {
        "id": "o76yqa6J-IGz"
      }
    },
    {
      "cell_type": "markdown",
      "source": [
        "**Q7. The findall() method returns a string list or a list of string tuples. What causes it to return one of the two options?**"
      ],
      "metadata": {
        "id": "jlRp7HynERt1"
      }
    },
    {
      "cell_type": "markdown",
      "source": [
        "If the regex pattern has no groups, a list of strings matched is returned. if the regex pattern has groups, a list of tuple of strings is returned"
      ],
      "metadata": {
        "id": "r79jpN2yEYF7"
      }
    },
    {
      "cell_type": "markdown",
      "source": [
        "**Q8. In standard expressions, what does the | character mean?**"
      ],
      "metadata": {
        "id": "h1dgdrHEENmG"
      }
    },
    {
      "cell_type": "markdown",
      "source": [
        " In Standard Expressions | means OR operator."
      ],
      "metadata": {
        "id": "v6qUbqhVFZ83"
      }
    },
    {
      "cell_type": "markdown",
      "source": [
        "**Q9. In regular expressions, what does the ? character stand for?**"
      ],
      "metadata": {
        "id": "rXqAYrY4Fkdy"
      }
    },
    {
      "cell_type": "markdown",
      "source": [
        "In regular Expressions, ? characters represents zero or one match of the preceeding group."
      ],
      "metadata": {
        "id": "8mdFkQBQGt7G"
      }
    },
    {
      "cell_type": "markdown",
      "source": [
        "**Q10. In regular expressions, what is the difference between the + and * characters?**"
      ],
      "metadata": {
        "id": "ZHXp0V2eGw-C"
      }
    },
    {
      "cell_type": "markdown",
      "source": [
        "In regular expressions, * indicates that the preceding expression may match zero or more times and is equivalent to 0, while the + indicates that the previous statement must match at least one time or many times and is equivalent to 1."
      ],
      "metadata": {
        "id": "9aH4Nr5C1fTY"
      }
    },
    {
      "cell_type": "markdown",
      "source": [
        "**Q11. What is the difference between {4} and {4,5} in regular expression?**"
      ],
      "metadata": {
        "id": "SE1eewg_3Bg_"
      }
    },
    {
      "cell_type": "markdown",
      "source": [
        "{4} means that its preceeding group should repeat 4 times, whereas {4,5} means that its preceeding group should repeat mininum 4 times and maximum 5 times inclusively."
      ],
      "metadata": {
        "id": "sNbfhakM3IJE"
      }
    },
    {
      "cell_type": "markdown",
      "source": [
        "**Q12. What do you mean by the \\d, \\w, and \\s shorthand character classes signify in regular expressions?**"
      ],
      "metadata": {
        "id": "WEiXIE9u4R52"
      }
    },
    {
      "cell_type": "markdown",
      "source": [
        "\\d, \\w and \\s are special sequences in regular expresssions in python.\n",
        "\n",
        "\\w – Matches a word character equivalent to [a-zA-Z0-9_]\n",
        "\n",
        "\\d – Matches digit character equivalent to [0-9]\n",
        "\n",
        "\\s – Matches whitespace character (space, tab, newline, etc.)"
      ],
      "metadata": {
        "id": "Thi_qXrd5Tx1"
      }
    },
    {
      "cell_type": "markdown",
      "source": [
        "**Q13. What do means by \\D, \\W, and \\S shorthand character classes signify in regular expressions?**"
      ],
      "metadata": {
        "id": "yRSi-HRI5e9A"
      }
    },
    {
      "cell_type": "markdown",
      "source": [
        "\\D, \\W and \\S are special sequences in regular expresssions in python.\n",
        "\n",
        "\\W – Matches any non-alphanumeric character equivalent to [^a-zA-Z0-9_]\n",
        "\n",
        "\\D – Matches any non-digit character, this is equivalent to the set class [^0-9]\n",
        "\n",
        "\\S – Matches any non-whitespace character"
      ],
      "metadata": {
        "id": "7BhspvnL6Bu0"
      }
    },
    {
      "cell_type": "markdown",
      "source": [
        "**Q14. What is the difference between .* and .*?**"
      ],
      "metadata": {
        "id": "z5HLqP0Y6OsU"
      }
    },
    {
      "cell_type": "markdown",
      "source": [
        ".* is a Greedy mode, which returns the longest string that meets the condition whereas .*? is a non greedy mode which returns the shortest string that meets the condition."
      ],
      "metadata": {
        "id": "EoT1-aco7Jsw"
      }
    },
    {
      "cell_type": "markdown",
      "source": [
        "**Q15. What is the syntax for matching both numbers and lowercase letters with a character class?**"
      ],
      "metadata": {
        "id": "yyPaKgtF7XDm"
      }
    },
    {
      "cell_type": "markdown",
      "source": [
        "The Syntax is either [a-z0-9] or [0-9a-z]."
      ],
      "metadata": {
        "id": "yKzDoH8H73PB"
      }
    },
    {
      "cell_type": "markdown",
      "source": [
        "**Q16. What is the procedure for making a normal expression in regax case insensitive?**"
      ],
      "metadata": {
        "id": "iJX6dQt978RB"
      }
    },
    {
      "cell_type": "markdown",
      "source": [
        "We can pass re.IGNORECASE as a flag to make a normal expression case insensitive."
      ],
      "metadata": {
        "id": "MaOnjysM8gvh"
      }
    },
    {
      "cell_type": "markdown",
      "source": [
        "**Q17. What does the . character normally match? What does it match if re.DOTALL is passed as 2nd argument in re.compile()?**"
      ],
      "metadata": {
        "id": "EXvr0X5c8lSe"
      }
    },
    {
      "cell_type": "markdown",
      "source": [
        ". character matches everything in input except newline character. By passing re.DOTALL as a flag to re.compile(), you can make the dot character match all characters, including the newline character."
      ],
      "metadata": {
        "id": "IZQUEp_z87Ne"
      }
    },
    {
      "cell_type": "markdown",
      "source": [
        "**Q18. If numReg = re.compile(r'\\d+'), what will numRegex.sub('X', '11 drummers, 10 pipers, five rings, 4 hen') return?**"
      ],
      "metadata": {
        "id": "-O8qZ8qU9KJN"
      }
    },
    {
      "cell_type": "code",
      "execution_count": 2,
      "metadata": {
        "id": "BHQ9NQZIrguK",
        "colab": {
          "base_uri": "https://localhost:8080/",
          "height": 35
        },
        "outputId": "fb2d4aca-0afa-44db-8229-9b5fb9ac8aae"
      },
      "outputs": [
        {
          "output_type": "execute_result",
          "data": {
            "text/plain": [
              "'X drummers, X pipers, five rings, X hen'"
            ],
            "application/vnd.google.colaboratory.intrinsic+json": {
              "type": "string"
            }
          },
          "metadata": {},
          "execution_count": 2
        }
      ],
      "source": [
        "import re\n",
        "numReg = re.compile(r'\\d+')\n",
        "numReg.sub('X', '11 drummers, 10 pipers, five rings, 4 hen')"
      ]
    },
    {
      "cell_type": "markdown",
      "source": [
        "**Q19. What does passing re.VERBOSE as the 2nd argument to re.compile() allow to do?**"
      ],
      "metadata": {
        "id": "n_pXcJf2GnnW"
      }
    },
    {
      "cell_type": "markdown",
      "source": [
        "re.VERBOSE will allow to add whitespace and comments to string passed to re.compile()."
      ],
      "metadata": {
        "id": "RMabp3CxHTZJ"
      }
    },
    {
      "cell_type": "markdown",
      "source": [
        "**Q20. How would you write a regex that match a number with comma for every three digits? It must match the given following:**\n",
        "\n",
        "'42',\n",
        "\n",
        "'1,234'\n",
        "\n",
        "'6,368,745'\n",
        "\n",
        "**but not the following:**\n",
        "\n",
        "'12,34,567' (which has only two digits between the commas) \n",
        "\n",
        "'1234' (which lacks commas)"
      ],
      "metadata": {
        "id": "KOdiR0eVHVwk"
      }
    },
    {
      "cell_type": "code",
      "source": [
        "pattern = r'^\\d{1,3}(,\\d{3})*$'\n",
        "pagex = re.compile(pattern)\n",
        "for ele in ['42','1,234', '6,368,745','12,34,567','1234']:\n",
        "    print('Output:',ele, '->', pagex.search(ele))"
      ],
      "metadata": {
        "colab": {
          "base_uri": "https://localhost:8080/"
        },
        "id": "NyMaBHtE9ogF",
        "outputId": "a1351383-a17e-4eca-be14-62bc592d61e7"
      },
      "execution_count": 3,
      "outputs": [
        {
          "output_type": "stream",
          "name": "stdout",
          "text": [
            "Output: 42 -> <re.Match object; span=(0, 2), match='42'>\n",
            "Output: 1,234 -> <re.Match object; span=(0, 5), match='1,234'>\n",
            "Output: 6,368,745 -> <re.Match object; span=(0, 9), match='6,368,745'>\n",
            "Output: 12,34,567 -> None\n",
            "Output: 1234 -> None\n"
          ]
        }
      ]
    },
    {
      "cell_type": "markdown",
      "source": [
        "**Q21. How would you write a regex that matches the full name of someone whose last name is Watanabe? You can assume that the first name that comes before it will always be one word that begins with a capital letter. The regex must match the following:**\n",
        "\n",
        "'Haruto Watanabe' \n",
        "\n",
        "'Alice Watanabe' \n",
        "\n",
        "'RoboCop Watanabe'\n",
        "\n",
        "**but not the following:**\n",
        "\n",
        "'haruto Watanabe' (where the first name is not capitalized) \n",
        "\n",
        "'Mr. Watanabe' (where the preceding word has a nonletter character) \n",
        "\n",
        "'Watanabe' (which has no first name) \n",
        "\n",
        "'Haruto watanabe' (where Watanabe is not capitalized)"
      ],
      "metadata": {
        "id": "Qo4qR8xkImMv"
      }
    },
    {
      "cell_type": "code",
      "source": [
        "pattern = r'[A-Z]{1}[a-z]*\\sWatanabe'\n",
        "namex = re.compile(pattern)\n",
        "for name in ['Haruto Watanabe','Alice Watanabe','RoboCop Watanabe','haruto Watanabe','Mr. Watanabe','Watanabe','Haruto watanabe']:\n",
        "    print('Output: ',name,'->',namex.search(name))"
      ],
      "metadata": {
        "colab": {
          "base_uri": "https://localhost:8080/"
        },
        "id": "K5fKY9zwIPQo",
        "outputId": "ad6cccad-9834-48a2-da39-35e21c6042e1"
      },
      "execution_count": 4,
      "outputs": [
        {
          "output_type": "stream",
          "name": "stdout",
          "text": [
            "Output:  Haruto Watanabe -> <re.Match object; span=(0, 15), match='Haruto Watanabe'>\n",
            "Output:  Alice Watanabe -> <re.Match object; span=(0, 14), match='Alice Watanabe'>\n",
            "Output:  RoboCop Watanabe -> <re.Match object; span=(4, 16), match='Cop Watanabe'>\n",
            "Output:  haruto Watanabe -> None\n",
            "Output:  Mr. Watanabe -> None\n",
            "Output:  Watanabe -> None\n",
            "Output:  Haruto watanabe -> None\n"
          ]
        }
      ]
    },
    {
      "cell_type": "markdown",
      "source": [
        "**Q22. How would you write a regex that matches a sentence where the first word is either Alice, Bob,or Carol; the second word is either eats, pets, or throws; the third word is apples, cats, or baseballs; and the sentence ends with a period? This regex should be case-insensitive. It must match the following:**\n",
        "\n",
        "'Alice eats apples.' \n",
        "\n",
        "'Bob pets cats.' \n",
        "\n",
        "'Carol throws baseballs.' \n",
        "\n",
        "'Alice throws Apples.' \n",
        "\n",
        "'BOB EATS CATS.'\n",
        "\n",
        "**but not the following:**\n",
        "\n",
        "'RoboCop eats apples.' \n",
        "\n",
        "'ALICE THROWS FOOTBALLS.' \n",
        "\n",
        "'Carol eats 7 cats.'"
      ],
      "metadata": {
        "id": "bRc5yByfJUPz"
      }
    },
    {
      "cell_type": "code",
      "source": [
        "pattern = r'(Alice|Bob|Carol)\\s(eats|pets|throws)\\s(apples|cats|baseballs)\\.'\n",
        "casex = re.compile(pattern,re.IGNORECASE)\n",
        "for ele in ['Alice eats apples.','Bob pets cats.','Carol throws baseballs.','Alice throws Apples.','BOB EATS CATS.','RoboCop eats apples.','ALICE THROWS FOOTBALLS.','Carol eats 7 cats.']:\n",
        "    print('Output: ',ele,'->',casex.search(ele))"
      ],
      "metadata": {
        "colab": {
          "base_uri": "https://localhost:8080/"
        },
        "id": "ET7xR5MxJOic",
        "outputId": "b777055b-c7b3-414e-b06b-74a6f1573618"
      },
      "execution_count": 5,
      "outputs": [
        {
          "output_type": "stream",
          "name": "stdout",
          "text": [
            "Output:  Alice eats apples. -> <re.Match object; span=(0, 18), match='Alice eats apples.'>\n",
            "Output:  Bob pets cats. -> <re.Match object; span=(0, 14), match='Bob pets cats.'>\n",
            "Output:  Carol throws baseballs. -> <re.Match object; span=(0, 23), match='Carol throws baseballs.'>\n",
            "Output:  Alice throws Apples. -> <re.Match object; span=(0, 20), match='Alice throws Apples.'>\n",
            "Output:  BOB EATS CATS. -> <re.Match object; span=(0, 14), match='BOB EATS CATS.'>\n",
            "Output:  RoboCop eats apples. -> None\n",
            "Output:  ALICE THROWS FOOTBALLS. -> None\n",
            "Output:  Carol eats 7 cats. -> None\n"
          ]
        }
      ]
    }
  ]
}