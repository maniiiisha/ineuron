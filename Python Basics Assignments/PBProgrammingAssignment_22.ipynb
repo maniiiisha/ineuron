{
 "cells": [
  {
   "cell_type": "markdown",
   "metadata": {},
   "source": [
    "# **PYTHON BASICS PROGRAMMING ASSIGNMENT 22**"
   ]
  },
  {
   "cell_type": "markdown",
   "metadata": {},
   "source": [
    "**Manisha Singh**"
   ]
  },
  {
   "cell_type": "markdown",
   "metadata": {},
   "source": [
    "**Q1. Create a function that takes three parameters where:**\n",
    "\n",
    "* x is the start of the range (inclusive).\n",
    "\n",
    "* y is the end of the range (inclusive).\n",
    "\n",
    "* n is the divisor to be checked against.\n",
    "\n",
    "**Return an ordered list with numbers in the range that are divisible by the third parameter n. Return an empty list if there are no numbers that are divisible by n.**"
   ]
  },
  {
   "cell_type": "code",
   "execution_count": 1,
   "metadata": {},
   "outputs": [
    {
     "data": {
      "text/plain": [
       "[3, 6, 9]"
      ]
     },
     "execution_count": 1,
     "metadata": {},
     "output_type": "execute_result"
    }
   ],
   "source": [
    "def notdibbyn(x,y,n):\n",
    "    divisor = []\n",
    "    nondiv = []\n",
    "\n",
    "    for i in range(x, y+1):\n",
    "        if i % n == 0:\n",
    "            divisor.append(i)\n",
    "\n",
    "    return divisor \n",
    "       \n",
    "notdibbyn(1, 10, 3)"
   ]
  },
  {
   "cell_type": "markdown",
   "metadata": {},
   "source": [
    "**Q3. A group of friends have decided to start a secret society. The name will be the first letter of each of their names, sorted in alphabetical order.**\n",
    "\n",
    "**Create a function that takes in a list of names and returns the name of the secret society.**"
   ]
  },
  {
   "cell_type": "code",
   "execution_count": 2,
   "metadata": {},
   "outputs": [
    {
     "data": {
      "text/plain": [
       "'AMS'"
      ]
     },
     "execution_count": 2,
     "metadata": {},
     "output_type": "execute_result"
    }
   ],
   "source": [
    "def societyname(lst):\n",
    "    return ''.join([i[0] for i in sorted(lst)])\n",
    "\n",
    "societyname(['Adam', 'Sarah', 'Malcolm'])"
   ]
  },
  {
   "cell_type": "markdown",
   "metadata": {},
   "source": [
    "**Q4. An isogram is a word that has no duplicate letters. Create a function that takes a string and returns either True or False depending on whether or not it's an \"isogram\".**"
   ]
  },
  {
   "cell_type": "code",
   "execution_count": 3,
   "metadata": {},
   "outputs": [
    {
     "data": {
      "text/plain": [
       "True"
      ]
     },
     "execution_count": 3,
     "metadata": {},
     "output_type": "execute_result"
    }
   ],
   "source": [
    "def isogram(s):\n",
    "    for i in range(len(s)):\n",
    "        if s.lower().count(s[i]) > 1:\n",
    "            return False\n",
    "        \n",
    "    else:\n",
    "        return True\n",
    "    \n",
    "isogram('Algorism')"
   ]
  },
  {
   "cell_type": "markdown",
   "metadata": {},
   "source": [
    "**Q5. Create a function that takes a string and returns True or False, depending on whether the characters are in order or not.**"
   ]
  },
  {
   "cell_type": "code",
   "execution_count": 5,
   "metadata": {},
   "outputs": [
    {
     "data": {
      "text/plain": [
       "True"
      ]
     },
     "execution_count": 5,
     "metadata": {},
     "output_type": "execute_result"
    }
   ],
   "source": [
    "def order(string):\n",
    "    strsort = ''.join(sorted(string))\n",
    "\n",
    "    if string == strsort:\n",
    "        return True\n",
    "    \n",
    "    else:\n",
    "       return False\n",
    "\n",
    "order(\"abc\")"
   ]
  }
 ],
 "metadata": {
  "kernelspec": {
   "display_name": "Python 3",
   "language": "python",
   "name": "python3"
  },
  "language_info": {
   "codemirror_mode": {
    "name": "ipython",
    "version": 3
   },
   "file_extension": ".py",
   "mimetype": "text/x-python",
   "name": "python",
   "nbconvert_exporter": "python",
   "pygments_lexer": "ipython3",
   "version": "3.9.5"
  },
  "orig_nbformat": 4
 },
 "nbformat": 4,
 "nbformat_minor": 2
}
