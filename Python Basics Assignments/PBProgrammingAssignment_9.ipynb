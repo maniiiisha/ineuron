{
 "cells": [
  {
   "cell_type": "markdown",
   "metadata": {},
   "source": [
    "# **PYTHON BASICS PROGRAMMING ASSIGNMENT 9**"
   ]
  },
  {
   "cell_type": "markdown",
   "metadata": {},
   "source": [
    "**Manisha Singh**"
   ]
  },
  {
   "cell_type": "markdown",
   "metadata": {},
   "source": [
    "**Q1. Write a Python program to check if the given number is a Disarium Number.**"
   ]
  },
  {
   "cell_type": "code",
   "execution_count": 1,
   "metadata": {},
   "outputs": [
    {
     "name": "stdout",
     "output_type": "stream",
     "text": [
      "33 is not a Disarium Number.\n"
     ]
    }
   ],
   "source": [
    "def checkdisariumnum():\n",
    "    num = input('Enter a number: ')\n",
    "    sum = 0\n",
    "\n",
    "    for item in range(len(num)):\n",
    "        sum = sum + int(num[item]) ** (item+1)\n",
    "\n",
    "    if sum == int(num):\n",
    "        print(f'{num} is a Disarium Number.')\n",
    "\n",
    "    else:\n",
    "        print(f'{num} is not a Disarium Number.') \n",
    "\n",
    "checkdisariumnum()"
   ]
  },
  {
   "cell_type": "markdown",
   "metadata": {},
   "source": [
    "**Q2. Write a Python program to print all disarium numbers between 1 to 100.**"
   ]
  },
  {
   "cell_type": "code",
   "execution_count": 2,
   "metadata": {},
   "outputs": [
    {
     "data": {
      "text/plain": [
       "[0, 1, 2, 3, 4, 5, 6, 7, 8, 9, 89]"
      ]
     },
     "execution_count": 2,
     "metadata": {},
     "output_type": "execute_result"
    }
   ],
   "source": [
    "def printdisariumnums(start=0, end=100):\n",
    "    num = []\n",
    "\n",
    "    for number in range(start, end+1):\n",
    "        sum = 0\n",
    "\n",
    "        for item in range(len(str(number))):\n",
    "            sum = sum + int(str(number)[item]) ** (item+1)\n",
    "\n",
    "        if sum == number:\n",
    "            num.append(number)\n",
    "\n",
    "    return num\n",
    "                  \n",
    "printdisariumnums()"
   ]
  },
  {
   "cell_type": "markdown",
   "metadata": {},
   "source": [
    "**Q3. Write a Python program to check if the given number is Happy Number.**"
   ]
  },
  {
   "cell_type": "code",
   "execution_count": 3,
   "metadata": {},
   "outputs": [
    {
     "name": "stdout",
     "output_type": "stream",
     "text": [
      "7 is a happy number.\n"
     ]
    }
   ],
   "source": [
    "def ishappy(num):\n",
    "    sum = 0\n",
    "\n",
    "    while(num > 0):\n",
    "        digit = num % 10\n",
    "        sum= sum + digit**2        \n",
    "        num = num // 10\n",
    "    return sum\n",
    "\n",
    "num = int(input(\"Enter a number:\"))\n",
    "result = num\n",
    "\n",
    "while (result != 1 and result != 4):\n",
    "    result = ishappy(result)\n",
    "\n",
    "if result == 1:\n",
    "    print(num, \"is a happy number.\")\n",
    "\n",
    "else:\n",
    "    print(num, \"is not a happy number.\") "
   ]
  },
  {
   "cell_type": "markdown",
   "metadata": {},
   "source": [
    "**Q4. Write a Python program to print all happy numbers between 1 and 100.**"
   ]
  },
  {
   "cell_type": "code",
   "execution_count": 4,
   "metadata": {},
   "outputs": [
    {
     "name": "stdout",
     "output_type": "stream",
     "text": [
      "[1, 7, 10, 13, 19, 23, 28, 31, 32, 44, 49, 68, 70, 79, 82, 86, 91, 94, 97, 100]\n"
     ]
    }
   ],
   "source": [
    "def ishappy(num):\n",
    "    sum = 0\n",
    "\n",
    "    while(num > 0):\n",
    "        digit = num % 10\n",
    "        sum= sum + digit**2        \n",
    "        num = num // 10\n",
    "    return sum\n",
    "\n",
    "result = num = i = 0\n",
    "num = []\n",
    "\n",
    "for i in range(1, 101):\n",
    "    result = i\n",
    "\n",
    "    while (result != 1 and result != 4):\n",
    "        result = ishappy(result) \n",
    "\n",
    "    if result == 1:\n",
    "        num.append(i)\n",
    "\n",
    "print(num)"
   ]
  },
  {
   "cell_type": "markdown",
   "metadata": {},
   "source": [
    "**Q5. Write a Python program to determine whether the given number is a Harshad Number.**"
   ]
  },
  {
   "cell_type": "code",
   "execution_count": 5,
   "metadata": {},
   "outputs": [
    {
     "name": "stdout",
     "output_type": "stream",
     "text": [
      "45 is a Harshad number.\n"
     ]
    }
   ],
   "source": [
    "def digitsum(num):\n",
    "    sum = 0\n",
    "    while(num>0):\n",
    "        digit = num % 10\n",
    "        sum = sum + digit       \n",
    "        num = num // 10\n",
    "    return sum\n",
    "\n",
    "num = int(input(\"Enter a number: \"))\n",
    "sum = digitsum(num)\n",
    "\n",
    "if num % sum == 0:\n",
    "    print(num, \"is a Harshad number.\")\n",
    "else:\n",
    "    print(num, \"is not a Harshad number.\")"
   ]
  },
  {
   "cell_type": "markdown",
   "metadata": {},
   "source": [
    "**Q6. Write a Python program to print all pronic numbers between 1 and 100.**"
   ]
  },
  {
   "cell_type": "code",
   "execution_count": 7,
   "metadata": {},
   "outputs": [
    {
     "name": "stdout",
     "output_type": "stream",
     "text": [
      "[2, 6, 12, 20, 30, 42, 56, 72, 90]\n"
     ]
    }
   ],
   "source": [
    "def pronicnums(num):\n",
    "    isPronic = False\n",
    "\n",
    "    for i in range(1,num+1):\n",
    "        if i*(i+1) == num:\n",
    "            isPronic = True\n",
    "            break\n",
    "\n",
    "    return isPronic\n",
    "\n",
    "pronicnum = []\n",
    "for i in range(1, 101):\n",
    "    if pronicnums(i):\n",
    "        pronicnum.append(i)\n",
    "        \n",
    "print(pronicnum)"
   ]
  }
 ],
 "metadata": {
  "kernelspec": {
   "display_name": "Python 3",
   "language": "python",
   "name": "python3"
  },
  "language_info": {
   "codemirror_mode": {
    "name": "ipython",
    "version": 3
   },
   "file_extension": ".py",
   "mimetype": "text/x-python",
   "name": "python",
   "nbconvert_exporter": "python",
   "pygments_lexer": "ipython3",
   "version": "3.9.5"
  },
  "orig_nbformat": 4
 },
 "nbformat": 4,
 "nbformat_minor": 2
}
