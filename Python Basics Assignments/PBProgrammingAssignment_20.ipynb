{
 "cells": [
  {
   "cell_type": "markdown",
   "metadata": {},
   "source": [
    "# **PYTHON BASICS PROGRAMMING ASSIGNMENT 20**"
   ]
  },
  {
   "cell_type": "markdown",
   "metadata": {},
   "source": [
    "**Manisha Singh**"
   ]
  },
  {
   "cell_type": "markdown",
   "metadata": {},
   "source": [
    "**Q1. Create a function that takes a list of strings and integers, and filters out the list so that it returns a list of integers only.**"
   ]
  },
  {
   "cell_type": "code",
   "execution_count": 3,
   "metadata": {},
   "outputs": [
    {
     "data": {
      "text/plain": [
       "[1, 2, 3, 4]"
      ]
     },
     "execution_count": 3,
     "metadata": {},
     "output_type": "execute_result"
    }
   ],
   "source": [
    "lst = [1, 2, 3, 'a', 'b', 4]\n",
    "\n",
    "def ints(lst):\n",
    "    intlst = []\n",
    "\n",
    "    for i in lst:\n",
    "        if type(i) == int:\n",
    "            intlst.append(i)\n",
    "    return intlst\n",
    "\n",
    "ints(lst)"
   ]
  },
  {
   "cell_type": "markdown",
   "metadata": {},
   "source": [
    "**Q2. Given a list of numbers, create a function which returns the list but with each element's index in the list added to itself. This means you add 0 to the number at index 0, add 1 to the number at index 1, etc...**"
   ]
  },
  {
   "cell_type": "code",
   "execution_count": 4,
   "metadata": {},
   "outputs": [
    {
     "data": {
      "text/plain": [
       "[0, 1, 2, 3, 4]"
      ]
     },
     "execution_count": 4,
     "metadata": {},
     "output_type": "execute_result"
    }
   ],
   "source": [
    "def indexes(lst):\n",
    "    ind = 0\n",
    "    index = []\n",
    "\n",
    "    for i in lst:\n",
    "        index.append(lst.index(i, ind) + i)\n",
    "        ind += 1\n",
    "    return index\n",
    "\n",
    "indexes([0, 0, 0, 0, 0])"
   ]
  },
  {
   "cell_type": "markdown",
   "metadata": {},
   "source": [
    "**Q3. Create a function that takes the height and radius of a cone as arguments and returns the volume of the cone rounded to the nearest hundredth. See the resources tab for the formula.**"
   ]
  },
  {
   "cell_type": "code",
   "execution_count": 8,
   "metadata": {},
   "outputs": [
    {
     "name": "stdout",
     "output_type": "stream",
     "text": [
      "12.566370614359172\n"
     ]
    }
   ],
   "source": [
    "import math\n",
    "\n",
    "def cubevol(height, radius):\n",
    "    output = ((math.pi) * pow(radius, 2)) * (height/3)\n",
    "    print(output)\n",
    "\n",
    "cubevol(3, 2) "
   ]
  },
  {
   "cell_type": "markdown",
   "metadata": {},
   "source": [
    "**Q4. This Triangular Number Sequence is generated from a pattern of dots that form a triangle. The first 5 numbers of the sequence, or dots, are:**\n",
    "\n",
    "**1, 3, 6, 10, 15**\n",
    "\n",
    "**This means that the first triangle has just one dot, the second one has three dots, the third one has 6 dots and so on.**\n",
    "\n",
    "**Write a function that gives the number of dots with its corresponding triangle number of the sequence.**"
   ]
  },
  {
   "cell_type": "code",
   "execution_count": 10,
   "metadata": {},
   "outputs": [
    {
     "name": "stdout",
     "output_type": "stream",
     "text": [
      "21\n"
     ]
    }
   ],
   "source": [
    "def triangle(num):\n",
    "    print(int((num) * ((num + 1)/2)))\n",
    "\n",
    "triangle(6)"
   ]
  },
  {
   "cell_type": "markdown",
   "metadata": {},
   "source": [
    "**Q5. Create a function that takes a list of numbers between 1 and 10 (excluding one number) and returns the missing number.**"
   ]
  },
  {
   "cell_type": "code",
   "execution_count": 11,
   "metadata": {},
   "outputs": [
    {
     "name": "stdout",
     "output_type": "stream",
     "text": [
      "5\n"
     ]
    }
   ],
   "source": [
    "def missingnum(lst):\n",
    "    for i in range(1,11):\n",
    "        if i not in lst:\n",
    "            print(i)\n",
    "\n",
    "missingnum([1, 2, 3, 4, 6, 7, 8, 9, 10])"
   ]
  }
 ],
 "metadata": {
  "kernelspec": {
   "display_name": "Python 3",
   "language": "python",
   "name": "python3"
  },
  "language_info": {
   "codemirror_mode": {
    "name": "ipython",
    "version": 3
   },
   "file_extension": ".py",
   "mimetype": "text/x-python",
   "name": "python",
   "nbconvert_exporter": "python",
   "pygments_lexer": "ipython3",
   "version": "3.9.5"
  },
  "orig_nbformat": 4
 },
 "nbformat": 4,
 "nbformat_minor": 2
}
