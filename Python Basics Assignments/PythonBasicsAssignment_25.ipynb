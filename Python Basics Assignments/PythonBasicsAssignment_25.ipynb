{
 "cells": [
  {
   "cell_type": "markdown",
   "metadata": {},
   "source": [
    "# **PYTHON BASICS ASSIGNMENT 25**"
   ]
  },
  {
   "cell_type": "markdown",
   "metadata": {},
   "source": [
    "**Manisha Singh**"
   ]
  },
  {
   "cell_type": "markdown",
   "metadata": {},
   "source": [
    "**Q1. What is the difference between enclosing a list comprehension in square brackets and parentheses?**"
   ]
  },
  {
   "cell_type": "markdown",
   "metadata": {},
   "source": [
    "Enclosing a list comprehension in square brackets returns a list and enclosing a list comprehension in parentheses returns a generator object."
   ]
  },
  {
   "cell_type": "markdown",
   "metadata": {},
   "source": [
    "**Q2. What is the relationship between generators and iterators?**"
   ]
  },
  {
   "cell_type": "markdown",
   "metadata": {},
   "source": [
    "In Python, all generators are iterators. This can be proved by the fact that generators are a subclass of iterators. A generator is built by calling a function that has one or more yield expressions and is an object that meets the definition of an iterator. Generators are a special type of function that use the yield keyword to return an iterator that may be iterated over, one value at a time."
   ]
  },
  {
   "cell_type": "markdown",
   "metadata": {},
   "source": [
    "**Q3. What are the signs that a function is a generator function?**"
   ]
  },
  {
   "cell_type": "markdown",
   "metadata": {},
   "source": [
    "A generator function uses a yield statement instead of a return statement. A generator function will always return a iterable object called generator."
   ]
  },
  {
   "cell_type": "markdown",
   "metadata": {},
   "source": [
    "**Q4. What is the purpose of a yield statement?**"
   ]
  },
  {
   "cell_type": "markdown",
   "metadata": {},
   "source": [
    "The yield statement suspends function’s execution and sends a value back to the caller, but retains enough state to enable function to resume where it is left off. When resumed, the function continues execution immediately after the last yield run. This allows its code to produce a series of values over time, rather than computing them at once and sending them back like a list."
   ]
  },
  {
   "cell_type": "markdown",
   "metadata": {},
   "source": [
    "**Q5. What is the relationship between map calls and list comprehensions? Make a comparison and contrast between the two.**"
   ]
  },
  {
   "cell_type": "markdown",
   "metadata": {},
   "source": [
    "The main differences between map calls and list comprehensiosn are:\n",
    "\n",
    "a. List comprehension is more concise and easier to read as compared to map.\n",
    "\n",
    "b. List comprehension allows filtering. In map, we have no such facility. For example, to print all odd numbers in range of 50, we can write [n for n in range(50) if n%2 != 0]. There is no alternate for it in map\n",
    "\n",
    "c. List comprehension are used when a list of results is required as final output.but map only returns a map object. It needs to be explicitly converted to desired datatype.\n",
    "\n",
    "d. List comprehension is faster than map when we need to evaluate expressions that are too long or complicated to express.\n",
    "\n",
    "e. Map is faster in case of calling an already defined function on a set of values."
   ]
  }
 ],
 "metadata": {
  "language_info": {
   "name": "python"
  },
  "orig_nbformat": 4
 },
 "nbformat": 4,
 "nbformat_minor": 2
}
