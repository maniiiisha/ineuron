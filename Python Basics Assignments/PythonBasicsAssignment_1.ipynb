{
  "nbformat": 4,
  "nbformat_minor": 0,
  "metadata": {
    "colab": {
      "provenance": [],
      "collapsed_sections": []
    },
    "kernelspec": {
      "name": "python3",
      "display_name": "Python 3"
    },
    "language_info": {
      "name": "python"
    }
  },
  "cells": [
    {
      "cell_type": "markdown",
      "source": [
        "# **PYTHON BASICS ASSIGNMENT 1**\n",
        "**Manisha Singh**"
      ],
      "metadata": {
        "id": "SZc00lwyxUtT"
      }
    },
    {
      "cell_type": "markdown",
      "source": [
        "**Q1. In the below elements which of them are values or an expression? eg:- values can be integer or string and expressions will be mathematical operators.**\n",
        "\n",
        "`*, 'hello', -87.8, -, /, +, 6`"
      ],
      "metadata": {
        "id": "HcLz-99Vxl7k"
      }
    },
    {
      "cell_type": "markdown",
      "source": [
        "`*` : Expression\n",
        "\n",
        "`'hello'` : Value\n",
        "\n",
        "`-87.8` : Value\n",
        "\n",
        "`-` : Expression\n",
        "\n",
        "`/` : Expression\n",
        "\n",
        "`+` : Expression\n",
        "\n",
        "`6` : Value"
      ],
      "metadata": {
        "id": "lpMyln4_yOi8"
      }
    },
    {
      "cell_type": "markdown",
      "source": [
        "**Q2. What is the difference between string and variable?**"
      ],
      "metadata": {
        "id": "vrt2cUI-z1SO"
      }
    },
    {
      "cell_type": "markdown",
      "source": [
        "Strings: In Python, Strings are arrays of bytes representing Unicode characters. A string is a collection of one or more characters put in a single quote, double-quote or triple quote. In python there is no character data type, a character is a string of length one. It is represented by str class.\n",
        "\n",
        "Variables: Python variables are containers which store values. Python is not “statically typed”. We do not need to declare variables before using them or declare their type. A variable is created the moment we first assign a value to it. A Python variable is a name given to a memory location. It is the basic unit of storage in a program."
      ],
      "metadata": {
        "id": "i96Uc_kc0BTv"
      }
    },
    {
      "cell_type": "markdown",
      "source": [
        "**Q3. Describe three different data types.**"
      ],
      "metadata": {
        "id": "sJjmW2ulCuwr"
      }
    },
    {
      "cell_type": "markdown",
      "source": [
        "Lists: Lists are the most versatile of Python's compound data types. A list contains items separated by commas and enclosed within square brackets ([]). To some extent, lists are similar to arrays in C. One difference between them is that all the items belonging to a list can be of different data type.\n",
        "\n",
        "Tuples: A tuple is another sequence data type that is similar to the list. A tuple consists of a number of values separated by commas. Unlike lists, however, tuples are enclosed within parentheses.\n",
        "\n",
        "Dictionary: Dictionary in Python is an unordered collection of data values, used to store data values like a map, which unlike other Data Types that hold only single value as an element, Dictionary holds key:value pair. Key-value is provided in the dictionary to make it more optimized. Each key-value pair in a Dictionary is separated by a colon :, whereas each key is separated by a ‘comma’."
      ],
      "metadata": {
        "id": "DtnIRbAfC00R"
      }
    },
    {
      "cell_type": "markdown",
      "source": [
        "**Q4. What is an expression made up of? What do all expressions do?**"
      ],
      "metadata": {
        "id": "iyn9aEk9FLm_"
      }
    },
    {
      "cell_type": "markdown",
      "source": [
        "An expression is a combination of operators, constants and variables. It may consist of one or more operands, and zero or more operators to produce a value.\n",
        "\n",
        "Once we evaluate the expression it performs the necssary calculations on the operands and display the result."
      ],
      "metadata": {
        "id": "DNVUJL2RFSYt"
      }
    },
    {
      "cell_type": "markdown",
      "source": [
        "**Q5. This assignment statements, like spam = 10. What is the difference between an expression and a statement?**"
      ],
      "metadata": {
        "id": "V6H5Z05cHHjg"
      }
    },
    {
      "cell_type": "markdown",
      "source": [
        "An expression is a combination of values, variables, and operators and a statement is a unit of code that has an effect, like creating a variable or displaying a value."
      ],
      "metadata": {
        "id": "Pg5DPPJNHRAN"
      }
    },
    {
      "cell_type": "markdown",
      "source": [
        "**Q6. After running the following code, what does the variable bacon contain?**\n",
        "```\n",
        "bacon = 22\n",
        "bacon + 1\n",
        "```"
      ],
      "metadata": {
        "id": "YUAKExN7L3sv"
      }
    },
    {
      "cell_type": "code",
      "execution_count": 1,
      "metadata": {
        "colab": {
          "base_uri": "https://localhost:8080/"
        },
        "id": "xGJUjueGwvUM",
        "outputId": "a8f57c83-71b6-40f1-b8df-81c58b69cf32"
      },
      "outputs": [
        {
          "output_type": "stream",
          "name": "stdout",
          "text": [
            "22\n"
          ]
        }
      ],
      "source": [
        "bacon = 22\n",
        "bacon + 1\n",
        "print(bacon)"
      ]
    },
    {
      "cell_type": "markdown",
      "source": [
        "Here, we are incrementing the value of bacon by 1 (i.e., bacon + 1) but the the incremented value is not stored in any variable, hence it will return the original value i.e., 22."
      ],
      "metadata": {
        "id": "A16jkxuaM-WH"
      }
    },
    {
      "cell_type": "markdown",
      "source": [
        "**Q7. What should the values of the following two terms be?**\n",
        "```\n",
        "'spam' + 'spamspam'\n",
        "'spam' * 3\n",
        "```"
      ],
      "metadata": {
        "id": "zblX2rsBNi_x"
      }
    },
    {
      "cell_type": "code",
      "source": [
        "'spam' + 'spamspam'"
      ],
      "metadata": {
        "colab": {
          "base_uri": "https://localhost:8080/",
          "height": 35
        },
        "id": "YNG54OH9M233",
        "outputId": "b7b0aafa-f2f1-4599-b670-19b1b34cbdcf"
      },
      "execution_count": 2,
      "outputs": [
        {
          "output_type": "execute_result",
          "data": {
            "text/plain": [
              "'spamspamspam'"
            ],
            "application/vnd.google.colaboratory.intrinsic+json": {
              "type": "string"
            }
          },
          "metadata": {},
          "execution_count": 2
        }
      ]
    },
    {
      "cell_type": "code",
      "source": [
        "'spam' * 3"
      ],
      "metadata": {
        "colab": {
          "base_uri": "https://localhost:8080/",
          "height": 35
        },
        "id": "Bf8OBNSlOnfL",
        "outputId": "1ea7d97d-40f7-4ddd-ef02-92c74c786624"
      },
      "execution_count": 3,
      "outputs": [
        {
          "output_type": "execute_result",
          "data": {
            "text/plain": [
              "'spamspamspam'"
            ],
            "application/vnd.google.colaboratory.intrinsic+json": {
              "type": "string"
            }
          },
          "metadata": {},
          "execution_count": 3
        }
      ]
    },
    {
      "cell_type": "markdown",
      "source": [
        "The given two terms gives the same result using two different techniques. The first technique is string concatenation and the second one is string multiplication."
      ],
      "metadata": {
        "id": "9RiTWMIbOwxe"
      }
    },
    {
      "cell_type": "markdown",
      "source": [
        "**Q8. Why is eggs a valid variable name while 100 is invalid?**"
      ],
      "metadata": {
        "id": "kDVZGEj-PMUl"
      }
    },
    {
      "cell_type": "markdown",
      "source": [
        "There are some rules defined in python to declare a variable like variable names should start with alphabets or underscore, variable names can contain numbers but can't start with numbers, etc. And '100' voilates the following two rules hence it is an invalid variable name whereas 'eggs' is valid."
      ],
      "metadata": {
        "id": "GaT6ygN0PaQ1"
      }
    },
    {
      "cell_type": "markdown",
      "source": [
        "**Q9. What three functions can be used to get the integer, floating-point number, or string version of a value?**"
      ],
      "metadata": {
        "id": "5be1--UDQQAy"
      }
    },
    {
      "cell_type": "markdown",
      "source": [
        "Using int(), float() and str() we can get integer, float and string version of a value."
      ],
      "metadata": {
        "id": "K6w-DjQAQZOI"
      }
    },
    {
      "cell_type": "markdown",
      "source": [
        "**Q10. Why does this expression cause an error? How can you fix it?**\n",
        "```\n",
        "'I have eaten ' + 99 + ' burritos.'\n",
        "```"
      ],
      "metadata": {
        "id": "A5f9gRkeQnjB"
      }
    },
    {
      "cell_type": "code",
      "source": [
        "'I have eaten ' + 99 + ' burritos.'"
      ],
      "metadata": {
        "colab": {
          "base_uri": "https://localhost:8080/",
          "height": 165
        },
        "id": "ZdU3xbE9Oqvo",
        "outputId": "53f99e4f-2821-4c04-c4d4-482e81158ffb"
      },
      "execution_count": 4,
      "outputs": [
        {
          "output_type": "error",
          "ename": "TypeError",
          "evalue": "ignored",
          "traceback": [
            "\u001b[0;31m---------------------------------------------------------------------------\u001b[0m",
            "\u001b[0;31mTypeError\u001b[0m                                 Traceback (most recent call last)",
            "\u001b[0;32m<ipython-input-4-d24137131a5c>\u001b[0m in \u001b[0;36m<module>\u001b[0;34m\u001b[0m\n\u001b[0;32m----> 1\u001b[0;31m \u001b[0;34m'I have eaten '\u001b[0m \u001b[0;34m+\u001b[0m \u001b[0;36m99\u001b[0m \u001b[0;34m+\u001b[0m \u001b[0;34m' burritos.'\u001b[0m\u001b[0;34m\u001b[0m\u001b[0;34m\u001b[0m\u001b[0m\n\u001b[0m",
            "\u001b[0;31mTypeError\u001b[0m: can only concatenate str (not \"int\") to str"
          ]
        }
      ]
    },
    {
      "cell_type": "markdown",
      "source": [
        "The above expression adds '99', which is of int type, to the string values which is not allowed in string concatenation, therefore by converting int to str (by type conversion) we can fix the error."
      ],
      "metadata": {
        "id": "irMrBokaRajg"
      }
    },
    {
      "cell_type": "code",
      "source": [
        "'I have eaten ' + str(99) + ' burritos.'"
      ],
      "metadata": {
        "colab": {
          "base_uri": "https://localhost:8080/",
          "height": 35
        },
        "id": "-KuWOTt5RO5n",
        "outputId": "6ef844ac-287f-404c-e17c-26cd71c44ee9"
      },
      "execution_count": 5,
      "outputs": [
        {
          "output_type": "execute_result",
          "data": {
            "text/plain": [
              "'I have eaten 99 burritos.'"
            ],
            "application/vnd.google.colaboratory.intrinsic+json": {
              "type": "string"
            }
          },
          "metadata": {},
          "execution_count": 5
        }
      ]
    }
  ]
}
