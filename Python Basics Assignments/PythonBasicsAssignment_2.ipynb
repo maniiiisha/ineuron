{
  "nbformat": 4,
  "nbformat_minor": 0,
  "metadata": {
    "colab": {
      "provenance": [],
      "collapsed_sections": []
    },
    "kernelspec": {
      "name": "python3",
      "display_name": "Python 3"
    },
    "language_info": {
      "name": "python"
    }
  },
  "cells": [
    {
      "cell_type": "markdown",
      "source": [
        "#**PYTHON BASICS ASSIGNMENT 2**\n",
        "**Manisha Singh**"
      ],
      "metadata": {
        "id": "vIvObuSgEOA5"
      }
    },
    {
      "cell_type": "markdown",
      "source": [
        "**Q1. What are the two values of the Boolean data type? How do you write them?**"
      ],
      "metadata": {
        "id": "8-TiYZbpEZzU"
      }
    },
    {
      "cell_type": "markdown",
      "source": [
        "The two values of boolean data type are True and False and python evaluates true as 1 and false as 0."
      ],
      "metadata": {
        "id": "Y_g2SYFLEj6N"
      }
    },
    {
      "cell_type": "markdown",
      "source": [
        "**Q2. What are the three different types of Boolean operators?**"
      ],
      "metadata": {
        "id": "_N8SqFqxHAJH"
      }
    },
    {
      "cell_type": "markdown",
      "source": [
        "The three types of boolean operators are:\n",
        "- AND operator (&& or 'and')\n",
        "- OR operator (|| or 'or')\n",
        "- NOT operator (not)"
      ],
      "metadata": {
        "id": "GRzBS707HFWf"
      }
    },
    {
      "cell_type": "markdown",
      "source": [
        "**Q3. Make a list of each Boolean operator's truth tables (i.e. every possible combination of Boolean values for the operator and what it evaluate).**"
      ],
      "metadata": {
        "id": "nQbX_FEGHu3c"
      }
    },
    {
      "cell_type": "markdown",
      "source": [
        "Truth table for AND operator:\n",
        "\n",
        "X | Y | X AND Y\n",
        "--------|--------|--------\n",
        "False | False | False \n",
        "True | False | False\n",
        "False | True | False\n",
        "True | True | True\n",
        "\n",
        "Truth table for OR operator:\n",
        "\n",
        "X | Y | X OR Y\n",
        "--------|--------|--------\n",
        "False | False | False \n",
        "True | False | True\n",
        "False | True | True\n",
        "True | True | True\n",
        "\n",
        "Truth table for NOT operator:\n",
        "\n",
        "X | NOT X\n",
        "--------|-------\n",
        "False | True\n",
        "True | False\n",
        "  "
      ],
      "metadata": {
        "id": "3MP5gvqKH8vH"
      }
    },
    {
      "cell_type": "markdown",
      "source": [
        "**Q4. What are the values of the following expressions?**\n",
        "\n",
        "- (5 > 4) and (3 == 5)\n",
        "- not (5 > 4)\n",
        "- (5 > 4) or (3 == 5)\n",
        "- not ((5 > 4) or (3 == 5))\n",
        "- (True and True) and (True == False)\n",
        "- (not False) or (not True)"
      ],
      "metadata": {
        "id": "SIDOP7WIO8qz"
      }
    },
    {
      "cell_type": "code",
      "execution_count": null,
      "metadata": {
        "colab": {
          "base_uri": "https://localhost:8080/"
        },
        "id": "ePQ1mUIFEJ6F",
        "outputId": "5e29b2ec-44b9-4a15-ce89-8f51d2348e78"
      },
      "outputs": [
        {
          "output_type": "execute_result",
          "data": {
            "text/plain": [
              "False"
            ]
          },
          "metadata": {},
          "execution_count": 1
        }
      ],
      "source": [
        "(5 > 4) and (3 == 5)"
      ]
    },
    {
      "cell_type": "code",
      "source": [
        "not (5 > 4)"
      ],
      "metadata": {
        "colab": {
          "base_uri": "https://localhost:8080/"
        },
        "id": "_G3_YeKyP1PY",
        "outputId": "906cbd5f-2a79-4585-e9f0-5ffd82d4d1d7"
      },
      "execution_count": null,
      "outputs": [
        {
          "output_type": "execute_result",
          "data": {
            "text/plain": [
              "False"
            ]
          },
          "metadata": {},
          "execution_count": 2
        }
      ]
    },
    {
      "cell_type": "code",
      "source": [
        "(5 > 4) or (3 == 5)"
      ],
      "metadata": {
        "colab": {
          "base_uri": "https://localhost:8080/"
        },
        "id": "j2tWptoyQD_r",
        "outputId": "60931a6e-f56c-47c5-d26c-bcee26f31ab8"
      },
      "execution_count": null,
      "outputs": [
        {
          "output_type": "execute_result",
          "data": {
            "text/plain": [
              "True"
            ]
          },
          "metadata": {},
          "execution_count": 3
        }
      ]
    },
    {
      "cell_type": "code",
      "source": [
        "not ((5 > 4) or (3 == 5))"
      ],
      "metadata": {
        "colab": {
          "base_uri": "https://localhost:8080/"
        },
        "id": "TahVJBwoQHEW",
        "outputId": "866628df-7813-430d-fe7e-5830e0224ad8"
      },
      "execution_count": null,
      "outputs": [
        {
          "output_type": "execute_result",
          "data": {
            "text/plain": [
              "False"
            ]
          },
          "metadata": {},
          "execution_count": 4
        }
      ]
    },
    {
      "cell_type": "code",
      "source": [
        "(True and True) and (True == False)"
      ],
      "metadata": {
        "colab": {
          "base_uri": "https://localhost:8080/"
        },
        "id": "hkAmVNfzQKI7",
        "outputId": "60c370e0-f6f3-4365-e6e0-5ec63b63d2ec"
      },
      "execution_count": null,
      "outputs": [
        {
          "output_type": "execute_result",
          "data": {
            "text/plain": [
              "False"
            ]
          },
          "metadata": {},
          "execution_count": 5
        }
      ]
    },
    {
      "cell_type": "code",
      "source": [
        "(not False) or (not True)"
      ],
      "metadata": {
        "colab": {
          "base_uri": "https://localhost:8080/"
        },
        "id": "VR6LlSG3QOZm",
        "outputId": "44df0796-d9e0-47dc-cb8e-6567d00baf65"
      },
      "execution_count": null,
      "outputs": [
        {
          "output_type": "execute_result",
          "data": {
            "text/plain": [
              "True"
            ]
          },
          "metadata": {},
          "execution_count": 6
        }
      ]
    },
    {
      "cell_type": "markdown",
      "source": [
        "**Q5. What are the six comparison operators?**"
      ],
      "metadata": {
        "id": "QTc8s7YCQYxF"
      }
    },
    {
      "cell_type": "markdown",
      "source": [
        "- not equal\n",
        "  \n",
        "  Python not equal is denoted by (!=) operator and it returns True if the value on either side of the operator are unequal.\n",
        "\n",
        "- equal to\n",
        "\n",
        "  Python equal to is denoted by (==) operator and it returns True if the value on either side of the operator is equal.\n",
        "\n",
        "- greater than\n",
        "\n",
        "  In python, the greater than operator is denoted by (>). It checks whether the left value is greater than the one on the right side and if it is greater then it returns True.\n",
        "\n",
        "- less than\n",
        "\n",
        "  In python, less than is denoted by (<) operator, it checks if the left value is less than that on the right or not. If the left value is less than the right value then it returns True.\n",
        "\n",
        "- greater than or equal\n",
        "\n",
        "  The greater than or equal operator is denoted as (>=). This operator returns True only if the value on the left side is greater than or equal to that on the right then it returns True otherwise it will return False.\n",
        "\n",
        "- less than or equal\n",
        "\n",
        "  The less than or equal to operator is denoted by (<=). It returns True only if the value on the left is either less than or equal to that on the right of the operator."
      ],
      "metadata": {
        "id": "aOmI1YJVQgIm"
      }
    },
    {
      "cell_type": "markdown",
      "source": [
        "**Q6. How do you tell the difference between the equal to and assignment operators? Describe a condition and when you would use one.**"
      ],
      "metadata": {
        "id": "rJqhYJXRYVoT"
      }
    },
    {
      "cell_type": "markdown",
      "source": [
        "The “=” is an assignment operator and is used to assign the value on the right to the variable on the left whereas The ‘==’ operator checks whether the two given operands are equal or not. If so, it returns true. Otherwise it returns false."
      ],
      "metadata": {
        "id": "GRyMmhxHYhXY"
      }
    },
    {
      "cell_type": "code",
      "source": [
        "# use of assignment operator\n",
        "a = 10\n",
        "b = 4\n",
        "\n",
        "#use of equal to operator\n",
        "if a == b:\n",
        "\t\tprint(\"a is equal to b\")\n",
        "else:\n",
        "\t\tprint(\"a and b are not equal\")"
      ],
      "metadata": {
        "colab": {
          "base_uri": "https://localhost:8080/"
        },
        "id": "5q7OKAGqQUI4",
        "outputId": "e58237f6-b499-4b06-ade0-a4fa9a7eb821"
      },
      "execution_count": null,
      "outputs": [
        {
          "output_type": "stream",
          "name": "stdout",
          "text": [
            "a and b are not equal\n"
          ]
        }
      ]
    },
    {
      "cell_type": "markdown",
      "source": [
        "**Q7. Identify the three blocks in this code:**\n",
        "```\n",
        "spam = 0\n",
        "if spam == 10:\n",
        "print('eggs')\n",
        "if spam > 5:\n",
        "print('bacon')\n",
        "else:\n",
        "print('ham')\n",
        "print('spam')\n",
        "print('spam')\n",
        "```"
      ],
      "metadata": {
        "id": "9QnRqMu01dtP"
      }
    },
    {
      "cell_type": "code",
      "source": [
        "spam = 0\n",
        "\n",
        "if spam == 10:  # block 1\n",
        "  print('eggs')\n",
        "\n",
        "if spam > 5:  # block 2\n",
        "  print('bacon')\n",
        "\n",
        "else: # block 3\n",
        "  print('ham')\n",
        "  \n",
        "print('spam')\n",
        "print('spam')"
      ],
      "metadata": {
        "id": "707dKPX4aEJE",
        "colab": {
          "base_uri": "https://localhost:8080/"
        },
        "outputId": "31c33851-7bcf-472c-d1e9-601463a687a0"
      },
      "execution_count": 2,
      "outputs": [
        {
          "output_type": "stream",
          "name": "stdout",
          "text": [
            "ham\n",
            "spam\n",
            "spam\n"
          ]
        }
      ]
    },
    {
      "cell_type": "markdown",
      "source": [
        "**Q8. Write code that prints Hello if 1 is stored in spam, prints Howdy if 2 is stored in spam, and prints Greetings! if anything else is stored in spam.**"
      ],
      "metadata": {
        "id": "GmC6LiCh2OxQ"
      }
    },
    {
      "cell_type": "code",
      "source": [
        "spam = int(input(\"Enter a value for spam: \"))\n",
        "\n",
        "if spam == 1:\n",
        "  print(\"Hello\")\n",
        "\n",
        "elif spam == 2:\n",
        "  print(\"Howdy\")\n",
        "\n",
        "else:\n",
        "  print(\"Greetings!\")"
      ],
      "metadata": {
        "colab": {
          "base_uri": "https://localhost:8080/"
        },
        "id": "YvprOi9e19oL",
        "outputId": "aa38efdf-f8f2-4d88-9e85-ced490146a60"
      },
      "execution_count": 3,
      "outputs": [
        {
          "output_type": "stream",
          "name": "stdout",
          "text": [
            "Enter a value for spam: 2\n",
            "Howdy\n"
          ]
        }
      ]
    },
    {
      "cell_type": "markdown",
      "source": [
        "**Q9. If your programme is stuck in an endless loop, what keys you’ll press?**"
      ],
      "metadata": {
        "id": "w05fSW-Q3IdP"
      }
    },
    {
      "cell_type": "markdown",
      "source": [
        " Pressing CTRL-C key will terminate the endless loop."
      ],
      "metadata": {
        "id": "j4UZY8de3RbD"
      }
    },
    {
      "cell_type": "markdown",
      "source": [
        "**Q10. How can you tell the difference between break and continue?**"
      ],
      "metadata": {
        "id": "eKIxod014ezA"
      }
    },
    {
      "cell_type": "markdown",
      "source": [
        "The break statement is used to terminate the loop or statement in which it is present. After that, the control will pass to the statements that are present after the break statement, if available. If the break statement is present in the nested loop, then it terminates only those loops which contains break statement.\n",
        "\n",
        "Continue is also a loop control statement just like the break statement. It is opposite to that of break statement, instead of terminating the loop, it forces to execute the next iteration of the loop."
      ],
      "metadata": {
        "id": "_0t3QTSo4rCi"
      }
    },
    {
      "cell_type": "markdown",
      "source": [
        "**Q11. In a for loop, what is the difference between range(10), range(0, 10), and range(0, 10, 1)?**"
      ],
      "metadata": {
        "id": "e_htsifm76qH"
      }
    },
    {
      "cell_type": "markdown",
      "source": [
        "In a for loop,\n",
        "\n",
        "range(10) means iterate from default position 0 till position 9 excluding position 10.\n",
        "\n",
        "range(0,10) is similar to above but starting position is explicitly given as 0.\n",
        "\n",
        "and range(0,10,1) means iterating from starting position of 0 till 9 excluding 10 with an increment of 1 step at a time."
      ],
      "metadata": {
        "id": "5oeMwmwI9s6G"
      }
    },
    {
      "cell_type": "markdown",
      "source": [
        "**Q12. Write a short program that prints the numbers 1 to 10 using a for loop. Then write an equivalent program that prints the numbers 1 to 10 using a while loop.**"
      ],
      "metadata": {
        "id": "5awd6Rnb-Ozm"
      }
    },
    {
      "cell_type": "code",
      "source": [
        "# using for loop\n",
        "for i in range(1, 11):\n",
        "  print(i)"
      ],
      "metadata": {
        "colab": {
          "base_uri": "https://localhost:8080/"
        },
        "id": "fso5yARP3EQA",
        "outputId": "89ea004c-fdd0-4fe1-9f97-3a10a945afdd"
      },
      "execution_count": 4,
      "outputs": [
        {
          "output_type": "stream",
          "name": "stdout",
          "text": [
            "1\n",
            "2\n",
            "3\n",
            "4\n",
            "5\n",
            "6\n",
            "7\n",
            "8\n",
            "9\n",
            "10\n"
          ]
        }
      ]
    },
    {
      "cell_type": "code",
      "source": [
        "# using while loop\n",
        "i = 1\n",
        "while i<=10:\n",
        "  print(i)\n",
        "  i+=1"
      ],
      "metadata": {
        "colab": {
          "base_uri": "https://localhost:8080/"
        },
        "id": "roxw9AyG-2VX",
        "outputId": "3e2d56a7-56fe-4001-8969-0dbd75ebedce"
      },
      "execution_count": 6,
      "outputs": [
        {
          "output_type": "stream",
          "name": "stdout",
          "text": [
            "1\n",
            "2\n",
            "3\n",
            "4\n",
            "5\n",
            "6\n",
            "7\n",
            "8\n",
            "9\n",
            "10\n"
          ]
        }
      ]
    },
    {
      "cell_type": "markdown",
      "source": [
        "**Q13. If you had a function named bacon() inside a module named spam, how would you call it after importing spam?**"
      ],
      "metadata": {
        "id": "J6i3tqC2_Rcb"
      }
    },
    {
      "cell_type": "markdown",
      "source": [
        "If we had bacon() funtion inside spam module then first we need to import the module and then we need to import the funtion too as given below:\n",
        "\n",
        "```\n",
        "import spam\n",
        "spam.bacon()\n",
        "```"
      ],
      "metadata": {
        "id": "SkMGyr7s_sCb"
      }
    }
  ]
}