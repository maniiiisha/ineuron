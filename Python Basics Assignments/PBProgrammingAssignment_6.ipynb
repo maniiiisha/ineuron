{
 "cells": [
  {
   "cell_type": "markdown",
   "metadata": {},
   "source": [
    "# **PYTHON BASICS PROGRAMMING ASSIGNMENT 6**"
   ]
  },
  {
   "cell_type": "markdown",
   "metadata": {},
   "source": [
    "**Manisha Singh**"
   ]
  },
  {
   "cell_type": "markdown",
   "metadata": {},
   "source": [
    "**Q1. Write a Python Program to Display Fibonacci Sequence Using Recursion.**"
   ]
  },
  {
   "cell_type": "code",
   "execution_count": 3,
   "metadata": {},
   "outputs": [
    {
     "name": "stdout",
     "output_type": "stream",
     "text": [
      "Fibonacci series upto 8 is:\n",
      "0 1 1 2 3 5 8 13 "
     ]
    }
   ],
   "source": [
    "def fibonacci(n):\n",
    "    if n <= 1:\n",
    "        return n\n",
    "    else:\n",
    "        return fibonacci(n-1) +  fibonacci(n-2)\n",
    "    \n",
    "sequence = int(input(\"Enter a number to find the fibonacci series: \"))\n",
    "\n",
    "\n",
    "if sequence <= 0:\n",
    "    print(\"Please enter a positive number\")\n",
    "\n",
    "elif sequence == 1:\n",
    "    print(\"Fibonacci series upto \",sequence, \":\")\n",
    "    \n",
    "else:\n",
    "    print(\"Fibonacci series upto\", sequence,\"is:\")\n",
    "    for i in range(sequence):       \n",
    "        print(fibonacci(i), end=' ')"
   ]
  },
  {
   "cell_type": "markdown",
   "metadata": {},
   "source": [
    "**Q2. Write a Python Program to Find Factorial of Number Using Recursion.**"
   ]
  },
  {
   "cell_type": "code",
   "execution_count": 4,
   "metadata": {},
   "outputs": [
    {
     "name": "stdout",
     "output_type": "stream",
     "text": [
      "Factorial of 6 is 720\n"
     ]
    }
   ],
   "source": [
    "def fact(n):  \n",
    "    if n == 1:\n",
    "        return n\n",
    "    else:\n",
    "        return n * fact(n-1)   \n",
    "        \n",
    "num = int(input(\"Enter a number to find factorial: \"))\n",
    "\n",
    "if num < 0:\n",
    "    print(\"Cannot calculate factorial of a negative number.\")     \n",
    "\n",
    "elif num == 0:\n",
    "    print(\"Factorial of zero is 1.\")\n",
    "\n",
    "else:\n",
    "    print(\"Factorial of {} is {}\".format(num, fact(num)))"
   ]
  },
  {
   "cell_type": "markdown",
   "metadata": {},
   "source": [
    "**Q3. Write a Python Program to calculate your Body Mass Index.**"
   ]
  },
  {
   "cell_type": "code",
   "execution_count": 6,
   "metadata": {},
   "outputs": [
    {
     "name": "stdout",
     "output_type": "stream",
     "text": [
      "The BMI is 21.847008520333322\n"
     ]
    }
   ],
   "source": [
    "h = float(input(\"Enter your height (in meters): \"))\n",
    "w = float(input(\"Enter your weight (in kgs): \"))\n",
    "\n",
    "bmi = w / pow(h, 2)\n",
    "\n",
    "print(\"The BMI is\", bmi)"
   ]
  },
  {
   "cell_type": "markdown",
   "metadata": {},
   "source": [
    "**Q4. Write a Python Program to calculate the natural logarithm of any number.**"
   ]
  },
  {
   "cell_type": "code",
   "execution_count": 7,
   "metadata": {},
   "outputs": [
    {
     "name": "stdout",
     "output_type": "stream",
     "text": [
      "3.5263605246161616\n"
     ]
    }
   ],
   "source": [
    "import math\n",
    "\n",
    "def naturallog():\n",
    "    num = eval(input(\"Enter a number: \"))\n",
    "    print(math.log(num))\n",
    "\n",
    "naturallog()"
   ]
  },
  {
   "cell_type": "markdown",
   "metadata": {},
   "source": [
    "**Q5. Write a Python Program for cube sum of first n natural numbers.**"
   ]
  },
  {
   "cell_type": "code",
   "execution_count": 8,
   "metadata": {},
   "outputs": [
    {
     "name": "stdout",
     "output_type": "stream",
     "text": [
      "100\n"
     ]
    }
   ],
   "source": [
    "n = int(input(\"Enter a number: \"))\n",
    "sum = 0\n",
    "\n",
    "for i in range(1, n+1):\n",
    "    sum += i**3\n",
    "\n",
    "print(sum)\n"
   ]
  }
 ],
 "metadata": {
  "kernelspec": {
   "display_name": "Python 3",
   "language": "python",
   "name": "python3"
  },
  "language_info": {
   "codemirror_mode": {
    "name": "ipython",
    "version": 3
   },
   "file_extension": ".py",
   "mimetype": "text/x-python",
   "name": "python",
   "nbconvert_exporter": "python",
   "pygments_lexer": "ipython3",
   "version": "3.9.5"
  },
  "orig_nbformat": 4
 },
 "nbformat": 4,
 "nbformat_minor": 2
}
