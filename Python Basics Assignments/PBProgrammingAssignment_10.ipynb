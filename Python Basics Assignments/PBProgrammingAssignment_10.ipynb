{
 "cells": [
  {
   "cell_type": "markdown",
   "metadata": {},
   "source": [
    "# **PYTHON BASICS PROGRAMMING ASSIGNMENT 10**"
   ]
  },
  {
   "cell_type": "markdown",
   "metadata": {},
   "source": [
    "**Manisha Singh**"
   ]
  },
  {
   "cell_type": "markdown",
   "metadata": {},
   "source": [
    "**Q1. Write a Python program to find sum of elements in list.**"
   ]
  },
  {
   "cell_type": "code",
   "execution_count": 1,
   "metadata": {},
   "outputs": [
    {
     "name": "stdout",
     "output_type": "stream",
     "text": [
      "Sum: 10\n"
     ]
    }
   ],
   "source": [
    "def sumoflist():\n",
    "    ele = int(input('Enter the number of entries in the list: '))\n",
    "    lst = []\n",
    "\n",
    "    for i in range(ele):\n",
    "        lst.append(int(input('Enter an element:5 ')))\n",
    "    print(f'Sum: {sum(lst)}')\n",
    "\n",
    "sumoflist()"
   ]
  },
  {
   "cell_type": "markdown",
   "metadata": {},
   "source": [
    "**Q2. Write a Python program to Multiply all numbers in the list.**"
   ]
  },
  {
   "cell_type": "code",
   "execution_count": 4,
   "metadata": {},
   "outputs": [
    {
     "name": "stdout",
     "output_type": "stream",
     "text": [
      "288\n"
     ]
    }
   ],
   "source": [
    "def muloflist():\n",
    "    ele = int(input('Enter the number of entries in the list: '))\n",
    "    list = []\n",
    "    mul = 1\n",
    "\n",
    "    for i in range(ele):\n",
    "        list.append(int(input('Enter an element: ')))\n",
    "\n",
    "    for j in list:\n",
    "        mul = mul * j\n",
    "    print(mul)\n",
    "\n",
    "muloflist()"
   ]
  },
  {
   "cell_type": "markdown",
   "metadata": {},
   "source": [
    "**Q3. Write a Python program to find smallest number in a list.**"
   ]
  },
  {
   "cell_type": "code",
   "execution_count": 5,
   "metadata": {},
   "outputs": [
    {
     "name": "stdout",
     "output_type": "stream",
     "text": [
      "The smallest element in [2, 8, 6, 5] is 2\n"
     ]
    }
   ],
   "source": [
    "def smallest():\n",
    "    num = int(input('Enter the number of entries in the list: '))\n",
    "    list = []\n",
    "\n",
    "    for ele in range(num):\n",
    "        list.append(int(input('Enter an element: ')))\n",
    "\n",
    "    print(f'The smallest element in {list} is {sorted(list)[0]}')\n",
    "    \n",
    "smallest()"
   ]
  },
  {
   "cell_type": "markdown",
   "metadata": {},
   "source": [
    "**Q4. Write a Python program to find largest number in a list.**"
   ]
  },
  {
   "cell_type": "code",
   "execution_count": 6,
   "metadata": {},
   "outputs": [
    {
     "name": "stdout",
     "output_type": "stream",
     "text": [
      "The largest element in [2, 3, 6, 7, 9] is 9.\n"
     ]
    }
   ],
   "source": [
    "def largest():\n",
    "    num = int(input('Enter the number of entries in the list:  '))\n",
    "    list = []\n",
    "\n",
    "    for ele in range(num):\n",
    "        list.append(int(input('Enter an element: ')))\n",
    "\n",
    "    print(f'The largest element in {list} is {sorted(list, reverse=True)[0]}.')\n",
    "\n",
    "largest()"
   ]
  },
  {
   "cell_type": "markdown",
   "metadata": {},
   "source": [
    "**Q5. Write a Python program to find second largest number in a list.**"
   ]
  },
  {
   "cell_type": "code",
   "execution_count": 7,
   "metadata": {},
   "outputs": [
    {
     "name": "stdout",
     "output_type": "stream",
     "text": [
      "The largest element in [4, 7, 6, 5] is 6.\n"
     ]
    }
   ],
   "source": [
    "def secondlargest():\n",
    "    num = int(input('Enter the number of entries in the list:  '))\n",
    "    list = []\n",
    "\n",
    "    for ele in range(num):\n",
    "        list.append(int(input('Enter an element: ')))\n",
    "\n",
    "    print(f'The largest element in {list} is {sorted(list, reverse=True)[1]}.')\n",
    "\n",
    "secondlargest()\n"
   ]
  },
  {
   "cell_type": "markdown",
   "metadata": {},
   "source": [
    "**Q6. Write a Python program to find N largest elements from a list.**"
   ]
  },
  {
   "cell_type": "code",
   "execution_count": 8,
   "metadata": {},
   "outputs": [
    {
     "name": "stdout",
     "output_type": "stream",
     "text": [
      "The 3 largest elements in [3, 6, 7, 2, 9] are [9, 7, 6].\n"
     ]
    }
   ],
   "source": [
    "def nlargest(k):\n",
    "    num = int(input('Enter the number of elements in the list: '))\n",
    "    list = []\n",
    "\n",
    "    for ele in range(num):\n",
    "        list.append(int(input('Enter an element: ')))\n",
    "    print(f'The {k} largest elements in {list} are {sorted(list, reverse=True)[0:k]}.')\n",
    "\n",
    "nlargest(3)"
   ]
  },
  {
   "cell_type": "markdown",
   "metadata": {},
   "source": [
    "**Q7. Write a Python program to print even numbers in a list.**"
   ]
  },
  {
   "cell_type": "code",
   "execution_count": 9,
   "metadata": {},
   "outputs": [
    {
     "name": "stdout",
     "output_type": "stream",
     "text": [
      "The even elements in [2, 3, 5, 6, 8, 4] are [2, 6, 8, 4].\n"
     ]
    }
   ],
   "source": [
    "def evennums():\n",
    "    num = int(input('Enter the number of elements in the list: '))\n",
    "    list = []\n",
    "    evenlist = []\n",
    "\n",
    "    for ele in range(num):\n",
    "        list.append(int(input('Enter an element: ')))\n",
    "\n",
    "    for ele in list:\n",
    "        if ele%2 == 0:\n",
    "            evenlist.append(ele)\n",
    "\n",
    "    print(f'The even elements in {list} are {evenlist}.')\n",
    "\n",
    "evennums()"
   ]
  },
  {
   "cell_type": "markdown",
   "metadata": {},
   "source": [
    "**Q8. Write a Python program to print odd numbers in a List.**"
   ]
  },
  {
   "cell_type": "code",
   "execution_count": 10,
   "metadata": {},
   "outputs": [
    {
     "name": "stdout",
     "output_type": "stream",
     "text": [
      "The even elements in [2, 4, 5, 7] are [5, 7].\n"
     ]
    }
   ],
   "source": [
    "def oddnums():\n",
    "    num = int(input('Enter the number of elements in the list: '))\n",
    "    list = []\n",
    "    oddlist = []\n",
    "\n",
    "    for ele in range(num):\n",
    "        list.append(int(input('Enter an element: ')))\n",
    "\n",
    "    for ele in list:\n",
    "        if ele%2 != 0:\n",
    "            oddlist.append(ele)\n",
    "\n",
    "    print(f'The even elements in {list} are {oddlist}.')\n",
    "\n",
    "oddnums()"
   ]
  },
  {
   "cell_type": "markdown",
   "metadata": {},
   "source": [
    "**Q9. Write a Python program to Remove empty List from List.**"
   ]
  },
  {
   "cell_type": "code",
   "execution_count": 11,
   "metadata": {},
   "outputs": [
    {
     "name": "stdout",
     "output_type": "stream",
     "text": [
      "Original list:  [2, [], 4, 5, [], 6, 8, [], 3]\n",
      "After removing empty lists:  [2, 4, 5, 6, 8, 3]\n"
     ]
    }
   ],
   "source": [
    "list = [2, [], 4, 5, [], 6, 8, [], 3]\n",
    "print(\"Original list: \", list)\n",
    "\n",
    "removedlist = [ele for ele in list if ele != []]\n",
    "print(\"After removing empty lists: \", removedlist)"
   ]
  },
  {
   "cell_type": "markdown",
   "metadata": {},
   "source": [
    "**Q10. Write a Python program to Cloning or Copying a list.**"
   ]
  },
  {
   "cell_type": "code",
   "execution_count": 12,
   "metadata": {},
   "outputs": [
    {
     "name": "stdout",
     "output_type": "stream",
     "text": [
      "Original list: [5, 10, 15, 20, 25]\n",
      "Copied list: [5, 10, 15, 20, 25]\n"
     ]
    }
   ],
   "source": [
    "n = int(input(\"Enter the length of the list: \"))\n",
    "list = []\n",
    "\n",
    "for i in range(n):\n",
    "    list.append(int(input('Enter an element: ')))\n",
    "print(\"Original list:\", list)\n",
    "\n",
    "list2 = list.copy()\n",
    "print(\"Copied list:\", list2)"
   ]
  },
  {
   "cell_type": "markdown",
   "metadata": {},
   "source": [
    "**Q11. Write a Python program to Count occurrences of an element in a list.**"
   ]
  },
  {
   "cell_type": "code",
   "execution_count": 14,
   "metadata": {},
   "outputs": [
    {
     "name": "stdout",
     "output_type": "stream",
     "text": [
      "3 occurred 4 times in [3, 3, 3, 3, 4, 6, 7].\n"
     ]
    }
   ],
   "source": [
    "n = int(input(\"Enter the length of the list: \"))\n",
    "list = []\n",
    "\n",
    "for i in range(n):\n",
    "    list.append(int(input('Enter an element: ')))\n",
    "\n",
    "ele = int(input(\"Enter the element to find its occurence: \"))\n",
    "print(f\"{ele} occurred {list.count(ele)} times in {list}.\")"
   ]
  }
 ],
 "metadata": {
  "kernelspec": {
   "display_name": "Python 3",
   "language": "python",
   "name": "python3"
  },
  "language_info": {
   "codemirror_mode": {
    "name": "ipython",
    "version": 3
   },
   "file_extension": ".py",
   "mimetype": "text/x-python",
   "name": "python",
   "nbconvert_exporter": "python",
   "pygments_lexer": "ipython3",
   "version": "3.9.5"
  },
  "orig_nbformat": 4
 },
 "nbformat": 4,
 "nbformat_minor": 2
}
