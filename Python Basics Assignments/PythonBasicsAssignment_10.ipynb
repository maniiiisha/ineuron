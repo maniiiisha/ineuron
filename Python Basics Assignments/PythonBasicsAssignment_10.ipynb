{
 "cells": [
  {
   "attachments": {},
   "cell_type": "markdown",
   "metadata": {},
   "source": [
    "# **PYTHON BASICS ASSIGNMENT 10**\n",
    "\n",
    "**Manisha Singh**"
   ]
  },
  {
   "attachments": {},
   "cell_type": "markdown",
   "metadata": {},
   "source": [
    "**Q1. How do you distinguish between shutil.copy() and shutil.copytree()?**"
   ]
  },
  {
   "attachments": {},
   "cell_type": "markdown",
   "metadata": {},
   "source": [
    "shutil.copy : Copies a single file.\n",
    "\n",
    "shutil.copytree() : will copy an entire folder and every folder and file contained in it."
   ]
  },
  {
   "attachments": {},
   "cell_type": "markdown",
   "metadata": {},
   "source": [
    "**Q2. What function is used to rename files??**"
   ]
  },
  {
   "attachments": {},
   "cell_type": "markdown",
   "metadata": {},
   "source": [
    "os.rename() function is used to rename files or directories using a python program, this function takes two arguments src and dest, src represents the name file/directory which we want to rename, whereas dest represents the new name of the file/directory."
   ]
  },
  {
   "attachments": {},
   "cell_type": "markdown",
   "metadata": {},
   "source": [
    "**Q3. What is the difference between the delete functions in the send2trash and shutil modules?**"
   ]
  },
  {
   "attachments": {},
   "cell_type": "markdown",
   "metadata": {},
   "source": [
    "The send2trash function will move a file or folder to the recycle bin, while shutil function will permanently delete files and folders."
   ]
  },
  {
   "attachments": {},
   "cell_type": "markdown",
   "metadata": {},
   "source": [
    "**Q4. ZipFile objects have a close() method just like File objects’ close() method. What ZipFile method is\n",
    "equivalent to File objects’ open() method?**"
   ]
  },
  {
   "attachments": {},
   "cell_type": "markdown",
   "metadata": {},
   "source": [
    "ZipFile Module provides a method called as zipfile.ZipFile() to read and write to zipFiles. It takes arugments like filename, mode, etc."
   ]
  },
  {
   "attachments": {},
   "cell_type": "markdown",
   "metadata": {},
   "source": [
    "**Q5. Create a program that searches a folder tree for files with a certain file extension (such as .pdf\n",
    "or .jpg). Copy these files from whatever location they are in to a new folder.**"
   ]
  },
  {
   "cell_type": "code",
   "execution_count": 5,
   "metadata": {},
   "outputs": [],
   "source": [
    "import os\n",
    "import shutil\n",
    "\n",
    "def search_and_copy(source,destination,extensions):\n",
    "    for foldername, subfolder, filenames in os.walk(\"C:\\XYZ DRIVE\\Manisha\\ineuron\"):\n",
    "        print(f'Folder Name ➞ {foldername}',end='\\n\\n')\n",
    "        print(f'Sub Folders ➞ {subfolder}',end='\\n\\n')\n",
    "        print(f'Files ➞ {filenames}',end='\\n\\n')\n",
    "\n",
    "        for filename in filenames:\n",
    "            fileName,extension = os.path.splitext(filename)\n",
    "\n",
    "            if extension in extensions:\n",
    "                targetFile = foldername+os.path.sep+fileName+extension\n",
    "                shutil.copy(targetFile, \"C:\\XYZ DRIVE\\Manisha\\Copies\")\n",
    "\n",
    "        print(f'Files copied successfully from {source} to {destination}')\n",
    "    \n",
    "extensions = ['.pdf','.jpg','.ipynb']\n",
    "source = 'ineuron'\n",
    "destination = 'Copies'"
   ]
  },
  {
   "cell_type": "code",
   "execution_count": 6,
   "metadata": {},
   "outputs": [
    {
     "name": "stdout",
     "output_type": "stream",
     "text": [
      "Folder Name ➞ C:\\XYZ DRIVE\\Manisha\\ineuron\n",
      "\n",
      "Sub Folders ➞ ['.ipynb_checkpoints']\n",
      "\n",
      "Files ➞ ['Assignment_1.ipynb', 'Assignment_2.ipynb', 'Assignment_3.ipynb', 'Assignment_4.ipynb', 'Assignment_5.ipynb', 'ineuron.code-workspace', 'PythonBasicsAssignment_1.ipynb', 'PythonBasicsAssignment_10.ipynb', 'PythonBasicsAssignment_2.ipynb', 'PythonBasicsAssignment_3.ipynb', 'PythonBasicsAssignment_4.ipynb', 'PythonBasicsAssignment_9.ipynb']\n",
      "\n",
      "Files copied successfully from ineuron to Copies\n",
      "Folder Name ➞ C:\\XYZ DRIVE\\Manisha\\ineuron\\.ipynb_checkpoints\n",
      "\n",
      "Sub Folders ➞ []\n",
      "\n",
      "Files ➞ ['Assignment_2-checkpoint.ipynb']\n",
      "\n",
      "Files copied successfully from ineuron to Copies\n"
     ]
    }
   ],
   "source": [
    "search_and_copy(source, destination, extensions)"
   ]
  }
 ],
 "metadata": {
  "kernelspec": {
   "display_name": "Python 3",
   "language": "python",
   "name": "python3"
  },
  "language_info": {
   "codemirror_mode": {
    "name": "ipython",
    "version": 3
   },
   "file_extension": ".py",
   "mimetype": "text/x-python",
   "name": "python",
   "nbconvert_exporter": "python",
   "pygments_lexer": "ipython3",
   "version": "3.9.5"
  },
  "orig_nbformat": 4,
  "vscode": {
   "interpreter": {
    "hash": "1f28ccaed3b8b67c5baa16ecb763f64465046625536619bc420e057ae9fc3c6d"
   }
  }
 },
 "nbformat": 4,
 "nbformat_minor": 2
}
