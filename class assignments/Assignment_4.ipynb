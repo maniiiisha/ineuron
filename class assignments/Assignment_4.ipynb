{
  "nbformat": 4,
  "nbformat_minor": 0,
  "metadata": {
    "colab": {
      "provenance": [],
      "collapsed_sections": []
    },
    "kernelspec": {
      "name": "python3",
      "display_name": "Python 3"
    },
    "language_info": {
      "name": "python"
    }
  },
  "cells": [
    {
      "cell_type": "markdown",
      "source": [
        "#**ASSIGNMENT 4**"
      ],
      "metadata": {
        "id": "yfytjawOsi_5"
      }
    },
    {
      "cell_type": "markdown",
      "source": [
        "**Manisha Singh**"
      ],
      "metadata": {
        "id": "RYFQtngnsw-T"
      }
    },
    {
      "cell_type": "markdown",
      "source": [
        "## Control Flow and Conditional Statements"
      ],
      "metadata": {
        "id": "rwhwowZ8s7Qw"
      }
    },
    {
      "cell_type": "markdown",
      "source": [
        "**Q1. Find the largest number from the given list, use for loop.**\n",
        "```Python\n",
        "numbers = [12, 75, 150, 180, 145, 525, 50]\n",
        "```"
      ],
      "metadata": {
        "id": "wp7vEMqItB-S"
      }
    },
    {
      "cell_type": "code",
      "execution_count": 4,
      "metadata": {
        "colab": {
          "base_uri": "https://localhost:8080/"
        },
        "id": "UGi57vNGsiAo",
        "outputId": "c6d0371d-691b-4b23-adc7-7efe33d90411"
      },
      "outputs": [
        {
          "output_type": "stream",
          "name": "stdout",
          "text": [
            "Largest number is 525\n"
          ]
        }
      ],
      "source": [
        "numbers = [12, 75, 150, 180, 145, 525, 50]\n",
        "largest = 0\n",
        "\n",
        "for num in numbers:\n",
        "  if num > largest:\n",
        "    largest = num\n",
        "\n",
        "print(f\"Largest number is {largest}\")"
      ]
    },
    {
      "cell_type": "markdown",
      "source": [
        "**Q2. Print all the even numbers between (1, 12).**"
      ],
      "metadata": {
        "id": "3JetqCcZxaSV"
      }
    },
    {
      "cell_type": "code",
      "source": [
        "for i in range(1, 12):\n",
        "  if i%2==0:\n",
        "    print(i)"
      ],
      "metadata": {
        "colab": {
          "base_uri": "https://localhost:8080/"
        },
        "id": "YlWCLZCtt9eH",
        "outputId": "2d0f55c3-fddb-46a2-cda8-9e8c2c648145"
      },
      "execution_count": 7,
      "outputs": [
        {
          "output_type": "stream",
          "name": "stdout",
          "text": [
            "2\n",
            "4\n",
            "6\n",
            "8\n",
            "10\n"
          ]
        }
      ]
    },
    {
      "cell_type": "markdown",
      "source": [
        "**Q3. Calculate the sum of all numbers from 1 to a given number.**\n",
        "```Python\n",
        "Expected Output:\n",
        "\n",
        "Enter number 10\n",
        "\n",
        "Sum is:  55\n",
        "```"
      ],
      "metadata": {
        "id": "xN6Se5AAzzs5"
      }
    },
    {
      "cell_type": "code",
      "source": [
        "n = int(input(\"Enter a number: \"))\n",
        "sum = 0\n",
        "\n",
        "for i in range(1,n+1):\n",
        "  sum = sum+i\n",
        "  i = i+1\n",
        "\n",
        "print(f\"Sum is: {sum}\")"
      ],
      "metadata": {
        "colab": {
          "base_uri": "https://localhost:8080/"
        },
        "id": "OYz3K4RMy-2J",
        "outputId": "74228072-a372-46a7-b30a-34c66bd9b0e5"
      },
      "execution_count": 18,
      "outputs": [
        {
          "output_type": "stream",
          "name": "stdout",
          "text": [
            "Enter a number: 10\n",
            "Sum is: 55\n"
          ]
        }
      ]
    },
    {
      "cell_type": "markdown",
      "source": [
        "**Q4. Write a program to display only those numbers from a list that satisfy the following conditions:**\n",
        "\n",
        "- **The number must be divisible by five**\n",
        "- **If the number is greater than 150, then skip it and move to the next number**\n",
        "- **If the number is greater than 500, then stop the loop**\n",
        "```Python\n",
        "Given:\n",
        "numbers = [12, 75, 150, 180, 145, 525, 50]\n",
        "```"
      ],
      "metadata": {
        "id": "9jAi8RyF1hTO"
      }
    },
    {
      "cell_type": "code",
      "source": [
        "numbers = [12, 75, 150, 180, 145, 525, 50]\n",
        "a = []\n",
        "\n",
        "for num in numbers:\n",
        "  if num>150:\n",
        "    if num>500:\n",
        "      break\n",
        "    continue\n",
        "  \n",
        "  if num%5==0:\n",
        "    a.append(num)\n",
        "\n",
        "print(a)"
      ],
      "metadata": {
        "colab": {
          "base_uri": "https://localhost:8080/"
        },
        "id": "mX5HmD-N0hrh",
        "outputId": "c2849e3f-9af7-41c9-c15f-b072e667e8fd"
      },
      "execution_count": 14,
      "outputs": [
        {
          "output_type": "stream",
          "name": "stdout",
          "text": [
            "[75, 150, 145]\n"
          ]
        }
      ]
    },
    {
      "cell_type": "markdown",
      "source": [
        "**Q5. Print the given list in reverse order.**\n",
        "```Python\n",
        "list1 = [10, 20, 30, 40, 50]\n",
        "```"
      ],
      "metadata": {
        "id": "zDVMLh9t5Kjy"
      }
    },
    {
      "cell_type": "code",
      "source": [
        "list1 = [10, 20, 30, 40, 50]\n",
        "\n",
        "print(list1[::-1])"
      ],
      "metadata": {
        "colab": {
          "base_uri": "https://localhost:8080/"
        },
        "id": "P-u2v37q45U5",
        "outputId": "413c9388-06b3-4fee-c2e2-1e469d87e6b6"
      },
      "execution_count": 17,
      "outputs": [
        {
          "output_type": "stream",
          "name": "stdout",
          "text": [
            "[50, 40, 30, 20, 10]\n"
          ]
        }
      ]
    }
  ]
}
