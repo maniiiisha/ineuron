{
 "cells": [
  {
   "attachments": {},
   "cell_type": "markdown",
   "metadata": {},
   "source": [
    "# **PYTHON ADVANCED ASSIGNMENT 7**"
   ]
  },
  {
   "attachments": {},
   "cell_type": "markdown",
   "metadata": {},
   "source": [
    "**Manisha Singh**"
   ]
  },
  {
   "attachments": {},
   "cell_type": "markdown",
   "metadata": {},
   "source": [
    "**Q1. What is the purpose of the try statement?**"
   ]
  },
  {
   "attachments": {},
   "cell_type": "markdown",
   "metadata": {},
   "source": [
    "In Python, the `try` statement is used to enclose a block of code that may raise an exception at runtime. The purpose of the `try` statement is to provide a mechanism for handling exceptions that may occur during program execution. The `try` statement is often used in conjunction with the `except` statement, which is used to catch and handle specific types of exceptions that may occur within the `try` block."
   ]
  },
  {
   "attachments": {},
   "cell_type": "markdown",
   "metadata": {},
   "source": [
    "**Q2. What are the two most popular try statement variations?**"
   ]
  },
  {
   "attachments": {},
   "cell_type": "markdown",
   "metadata": {},
   "source": [
    "In Python, the two most popular try statement variations are:\n",
    "\n",
    "1. `try-except` block: The `try-except` block is used to catch and handle exceptions that may occur within a block of code. This is the most common use case for the `try` statement in Python. The `try` block contains the code that may raise an exception, and the `except` block contains the code that should be executed if an exception occurs. The `except` block can be used to catch specific types of exceptions or to catch all exceptions using a generic `except` block.\n",
    "\n",
    "2. `try-finally` block: The `try-finally` block is used to specify cleanup code that should be executed regardless of whether or not an exception occurs. The `try` block contains the code that may raise an exception, and the `finally` block contains the code that should be executed regardless of whether or not an exception occurs. This can be useful for releasing resources or performing other cleanup tasks."
   ]
  },
  {
   "attachments": {},
   "cell_type": "markdown",
   "metadata": {},
   "source": [
    "**Q3. What is the purpose of the raise statement?**"
   ]
  },
  {
   "attachments": {},
   "cell_type": "markdown",
   "metadata": {},
   "source": [
    "The `raise` statement is used to raise an exception explicitly. The `raise` statement allows you to throw a custom exception or an exception that already exists in Python. The `raise` statement can be used in conjunction with the `try` statement to handle exceptions or to create custom exceptions that can be raised when certain conditions are met."
   ]
  },
  {
   "attachments": {},
   "cell_type": "markdown",
   "metadata": {},
   "source": [
    "**Q4. What does the assert statement do, and what other statement is it like?**"
   ]
  },
  {
   "attachments": {},
   "cell_type": "markdown",
   "metadata": {},
   "source": [
    "The `assert` statement is used to test a condition and trigger an exception if the condition is not met. The `assert` statement is typically used for debugging and testing purposes to ensure that certain conditions are true during program execution.\n",
    "\n",
    "The `assert` statement is similar to the `if` statement in Python, but with one key difference: the `assert` statement will raise an exception if the condition is not met, whereas the `if` statement will simply skip over the block of code if the condition is not met."
   ]
  },
  {
   "attachments": {},
   "cell_type": "markdown",
   "metadata": {},
   "source": [
    "**Q5. What is the purpose of the with/as argument, and what other statement is it like?**"
   ]
  },
  {
   "attachments": {},
   "cell_type": "markdown",
   "metadata": {},
   "source": [
    "The `with/as` statement simplifies use of file handling in python. When we use a with statement for file reading, there is no need for programmer to explicitly takecare of activities like resource deallocation and file closing by using file.close() method. `with` statement itself ensures proper acquisition and release of resources. This avoids triggering of exceptions if file closing is unknowingly forgotten in the code execution.\n",
    "\n",
    "The `with`/`as` statement is similar to the `try/finally` statement in Python, but with a more concise and readable syntax."
   ]
  }
 ],
 "metadata": {
  "language_info": {
   "name": "python"
  },
  "orig_nbformat": 4
 },
 "nbformat": 4,
 "nbformat_minor": 2
}
