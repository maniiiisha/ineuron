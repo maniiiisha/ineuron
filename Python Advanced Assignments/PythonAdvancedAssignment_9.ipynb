{
 "cells": [
  {
   "attachments": {},
   "cell_type": "markdown",
   "metadata": {},
   "source": [
    "# **PYTHON ADVANCED ASSIGNMENT 9**"
   ]
  },
  {
   "attachments": {},
   "cell_type": "markdown",
   "metadata": {},
   "source": [
    "**Manisha Singh**"
   ]
  },
  {
   "attachments": {},
   "cell_type": "markdown",
   "metadata": {},
   "source": [
    "**Q1. In Python 3.X, what are the names and functions of string object types?**"
   ]
  },
  {
   "attachments": {},
   "cell_type": "markdown",
   "metadata": {},
   "source": [
    "Here are some common functions and methods that can be used with string objects:\n",
    "\n",
    "`len(str)`: Returns the length of the string.\n",
    "\n",
    "`str.upper()`: Returns a copy of the string in uppercase.\n",
    "\n",
    "`str.lower()`: Returns a copy of the string in lowercase.\n",
    "\n",
    "`str.capitalize()`: Returns a copy of the string with the first letter capitalized.\n",
    "\n",
    "`str.strip()`: Returns a copy of the string with leading and trailing whitespace removed.\n",
    "\n",
    "`str.split(sep=None, maxsplit=-1)`: Returns a list of the words in the string, using sep as the delimiter. If sep is not specified or is None, whitespace is used as the delimiter. If maxsplit is specified, at most maxsplit splits are done.\n",
    "\n",
    "`str.join(iterable)`: Joins the elements of the iterable into a string, with str as the separator.\n",
    "\n",
    "`str.replace(old, new[, count])`: Returns a copy of the string with all occurrences of old replaced with new. If count is specified, only the first count occurrences are replaced.\n",
    "\n",
    "`str.find(sub[, start[, end]])`: Returns the lowest index in the string where substring sub is found. Returns -1 if sub is not found.\n",
    "\n",
    "`str.startswith(prefix[, start[, end]])`: Returns True if the string starts with prefix; otherwise, returns False.\n",
    "\n",
    "`str.endswith(suffix[, start[, end]])`: Returns True if the string ends with suffix; otherwise, returns False.\n"
   ]
  },
  {
   "attachments": {},
   "cell_type": "markdown",
   "metadata": {},
   "source": [
    "**Q2. How do the string forms in Python 3.X vary in terms of operations?**"
   ]
  },
  {
   "attachments": {},
   "cell_type": "markdown",
   "metadata": {},
   "source": [
    "In Python3, default format of strings is unicode whereas in Python2 we need to explicitly mention unicode value using `u`."
   ]
  },
  {
   "attachments": {},
   "cell_type": "markdown",
   "metadata": {},
   "source": [
    "**Q3. In Python 3.X, how do you put non-ASCII Unicode characters in a string?**"
   ]
  },
  {
   "attachments": {},
   "cell_type": "markdown",
   "metadata": {},
   "source": [
    "In Python 3.x, `unidecode()` method from unidecode library can be used to put non-ASCII unicode characters in a string."
   ]
  },
  {
   "attachments": {},
   "cell_type": "markdown",
   "metadata": {},
   "source": [
    "**Q4. In Python 3.X, what are the key differences between text-mode and binary-mode files?**"
   ]
  },
  {
   "attachments": {},
   "cell_type": "markdown",
   "metadata": {},
   "source": [
    "In Python 3.X, the key differences between text-mode and binary-mode files are: Text-mode files handles data as strings of Unicode characters, while binary-mode files handle data as a sequence of bytes."
   ]
  },
  {
   "attachments": {},
   "cell_type": "markdown",
   "metadata": {},
   "source": [
    "**Q5. How can you interpret a Unicode text file containing text encoded in a different encoding than your platform's default?**"
   ]
  },
  {
   "attachments": {},
   "cell_type": "markdown",
   "metadata": {},
   "source": [
    "Use of `encode()` and `decode()` method can be used to interpret a Unicode text file containing text encoded in a different encoding than your platform's default, by default encoding parameter is UTF-8."
   ]
  },
  {
   "attachments": {},
   "cell_type": "markdown",
   "metadata": {},
   "source": [
    "**Q6. What is the best way to make a Unicode text file in a particular encoding format?**"
   ]
  },
  {
   "attachments": {},
   "cell_type": "markdown",
   "metadata": {},
   "source": [
    "Use `str.encode()` and `file.write()` to make a Unicode text file in a particular encoding format, default encoding format is UTF-18."
   ]
  },
  {
   "attachments": {},
   "cell_type": "markdown",
   "metadata": {},
   "source": [
    "**Q7. What qualifies ASCII text as a form of Unicode text?**"
   ]
  },
  {
   "attachments": {},
   "cell_type": "markdown",
   "metadata": {},
   "source": [
    "Unicode represents most written languages in the world. ASCII has its equivalent in Unicode. The difference between ASCII and Unicode is that ASCII represents lowercase letters (a-z), uppercase letters (A-Z), digits (0–9) and symbols such as punctuation marks while Unicode represents letters of English, Arabic, Greek etc. mathematical symbols, historical scripts, emoji covering a wide range of characters than ASCII."
   ]
  },
  {
   "attachments": {},
   "cell_type": "markdown",
   "metadata": {},
   "source": [
    "**Q8. How much of an effect does the change in string types in Python 3.X have on your code?**"
   ]
  },
  {
   "attachments": {},
   "cell_type": "markdown",
   "metadata": {},
   "source": [
    "Python 3 stores strings as Unicode by default whereas Python2 requires you to mark a string with a u if you want to store it as Unicode. Unicode strings are more versatile than ASCII strings, which are the Python 3.X default, as they can store letters from foreign languages as well as emoji and the standard Roman letters and numerals."
   ]
  }
 ],
 "metadata": {
  "language_info": {
   "name": "python"
  },
  "orig_nbformat": 4
 },
 "nbformat": 4,
 "nbformat_minor": 2
}
