{
 "cells": [
  {
   "attachments": {},
   "cell_type": "markdown",
   "metadata": {},
   "source": [
    "# **PYTHON ADVANCED ASSIGNMENT 15**"
   ]
  },
  {
   "attachments": {},
   "cell_type": "markdown",
   "metadata": {},
   "source": [
    "**Manisha Singh**"
   ]
  },
  {
   "attachments": {},
   "cell_type": "markdown",
   "metadata": {},
   "source": [
    "**Q1. What are the new features added in Python 3.8 version?**"
   ]
  },
  {
   "attachments": {},
   "cell_type": "markdown",
   "metadata": {},
   "source": [
    "Python 3.8 introduced several new features and improvements. Here are some of the notable additions in Python 3.8:\n",
    "\n",
    "a. Assignment Expressions (the Walrus operator): This feature allows you to assign values to variables as part of an expression. It is denoted by the := operator. For example, you can use it to assign a value to a variable within a loop condition.\n",
    "\n",
    "b. Positional-only parameters: Functions can now define parameters that can only be passed by position and not by keyword. This feature helps improve the clarity and maintainability of function signatures.\n",
    "\n",
    "c. The f-strings now support the = specifier: You can now use the equal sign (=) inside f-strings to indicate that the value should be formatted with a specific repr() representation.\n",
    "\n",
    "d. The math module now supports more functions: The math module introduced several new functions, including `math.prod()` to calculate the product of an iterable, `math.isqrt()` to calculate the integer square root, and `math.gcd()` to calculate the greatest common divisor.\n",
    "\n",
    "e. Improved performance with the `zoneinfo` module: The `zoneinfo` module provides support for working with time zones. In Python 3.8, the module received performance improvements, making it faster and more efficient.\n",
    "\n",
    "f. Syntax warning: A new syntax warning was added for the use of '=' to assign a lambda function, which can lead to subtle bugs. The recommended way is to use the 'lambda' keyword.\n",
    "\n",
    "g. Other improvements: Python 3.8 included several other enhancements, such as improved debugging with traceback changes, the ability to use the 'continue' statement in a finally block, the `statistics.mode()` function to calculate the mode of a set of numbers, and the `os.pidfd_open()` function for better process management on certain platforms"
   ]
  },
  {
   "attachments": {},
   "cell_type": "markdown",
   "metadata": {},
   "source": [
    "**Q2. What is monkey patching in Python?**"
   ]
  },
  {
   "attachments": {},
   "cell_type": "markdown",
   "metadata": {},
   "source": [
    "In Python, the term monkey patch refers to making dynamic (or run-time) modifications to a class or module. In Python, we can actually change the behavior of code at run-time"
   ]
  },
  {
   "attachments": {},
   "cell_type": "markdown",
   "metadata": {},
   "source": [
    "**Q3. What is the difference between a shallow copy and deep copy?**"
   ]
  },
  {
   "attachments": {},
   "cell_type": "markdown",
   "metadata": {},
   "source": [
    "When an object is copied using copy(), it is called shallow copy as changes made in copied object will also make corresponding changes in original object, because both the objects will be referencing same address location.\n",
    "\n",
    "When an object is copied using deepcopy(), it is called deep copy as changes made in copied object will not make corresponding changes in original object, because both the objects will not be referencing same address location."
   ]
  },
  {
   "attachments": {},
   "cell_type": "markdown",
   "metadata": {},
   "source": [
    "**Q4. What is the maximum possible length of an identifier?**"
   ]
  },
  {
   "attachments": {},
   "cell_type": "markdown",
   "metadata": {},
   "source": [
    "In Python, the highest possible length of an identifier is 79 characters."
   ]
  },
  {
   "attachments": {},
   "cell_type": "markdown",
   "metadata": {},
   "source": [
    "**Q5. What is generator comprehension?**"
   ]
  },
  {
   "attachments": {},
   "cell_type": "markdown",
   "metadata": {},
   "source": [
    "A generator comprehension is a single-line specification for defining a generator in Python."
   ]
  }
 ],
 "metadata": {
  "language_info": {
   "name": "python"
  },
  "orig_nbformat": 4
 },
 "nbformat": 4,
 "nbformat_minor": 2
}
