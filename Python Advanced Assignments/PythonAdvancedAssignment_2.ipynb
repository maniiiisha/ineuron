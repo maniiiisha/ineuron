{
 "cells": [
  {
   "attachments": {},
   "cell_type": "markdown",
   "metadata": {},
   "source": [
    "# **PYTHON ADVANCED ASSIGNMENT 2**"
   ]
  },
  {
   "attachments": {},
   "cell_type": "markdown",
   "metadata": {},
   "source": [
    "**Manisha Singh**"
   ]
  },
  {
   "attachments": {},
   "cell_type": "markdown",
   "metadata": {},
   "source": [
    "**Q1. What is the relationship between classes and modules?**"
   ]
  },
  {
   "attachments": {},
   "cell_type": "markdown",
   "metadata": {},
   "source": [
    "Classes in python are templates for creating objects. They contain variables and functions which define the class objects. At the same time, modules are python programs that can be imported into another python program. Importing a module enables the usage of the module’s functions and variables into another program."
   ]
  },
  {
   "attachments": {},
   "cell_type": "markdown",
   "metadata": {},
   "source": [
    "**Q2. How do you make instances and classes?**"
   ]
  },
  {
   "attachments": {},
   "cell_type": "markdown",
   "metadata": {},
   "source": [
    "To create instances and classes in Python, you need to follow these steps:\n",
    "\n",
    "* Define the class: Use the \"class\" keyword followed by the class name and a colon to define the class.\n",
    "\n",
    "* Define the class methods: Define the class methods by defining functions inside the class block. You can use the \"self\" parameter to refer to the instance of the class.\n",
    "\n",
    "* Define the class attributes: Define the class attributes inside the class block. Class attributes are shared by all instances of the class.\n",
    "\n",
    "* Create an instance: To create an instance of the class, call the class constructor by using the class name followed by parentheses. This will create a new instance of the class."
   ]
  },
  {
   "attachments": {},
   "cell_type": "markdown",
   "metadata": {},
   "source": [
    "**Q3. Where and how should be class attributes created?**"
   ]
  },
  {
   "attachments": {},
   "cell_type": "markdown",
   "metadata": {},
   "source": [
    "Class attributes should be created inside the class block, but outside of any method definitions. They are defined directly under the class name and are shared by all instances of the class."
   ]
  },
  {
   "attachments": {},
   "cell_type": "markdown",
   "metadata": {},
   "source": [
    "**Q4. Where and how are instance attributes created?**"
   ]
  },
  {
   "attachments": {},
   "cell_type": "markdown",
   "metadata": {},
   "source": [
    "Instance attributes are created inside the class constructor method, also known as \"init\". They are defined using the \"self\" parameter to refer to the instance of the class and the dot notation to assign a value to the attribute."
   ]
  },
  {
   "attachments": {},
   "cell_type": "markdown",
   "metadata": {},
   "source": [
    "**Q5. What does the term \"self\" in a Python class mean?**"
   ]
  },
  {
   "attachments": {},
   "cell_type": "markdown",
   "metadata": {},
   "source": [
    "The self word in Python refers to an instance of a class, it is not a keyword and can be replaced by any other name. Instance methods inside a class have to use self as first argument. It helps the methods to track of and manipulate the class state."
   ]
  },
  {
   "attachments": {},
   "cell_type": "markdown",
   "metadata": {},
   "source": [
    "**Q6. How does a Python class handle operator overloading?**"
   ]
  },
  {
   "attachments": {},
   "cell_type": "markdown",
   "metadata": {},
   "source": [
    "In Python, classes can overload operators by implementing special methods that define the behavior of the operator for instances of the class. These special methods have names starting and ending with double underscores, such as \"add\" for the addition operator \"+\". When an operator is used on an instance of a class, Python checks if the class has implemented the corresponding special method. If it has, Python calls the special method and returns the result."
   ]
  },
  {
   "attachments": {},
   "cell_type": "markdown",
   "metadata": {},
   "source": [
    "**Q7. When do you consider allowing operator overloading of your classes?**"
   ]
  },
  {
   "attachments": {},
   "cell_type": "markdown",
   "metadata": {},
   "source": [
    "Operator overloading can be useful when you want to give your custom class a behavior similar to built-in types like integers, floats, and strings. It can make your code more intuitive and easier to read, especially when working with mathematical or scientific concepts."
   ]
  },
  {
   "attachments": {},
   "cell_type": "markdown",
   "metadata": {},
   "source": [
    "**Q8. What is the most popular form of operator overloading?**"
   ]
  },
  {
   "attachments": {},
   "cell_type": "markdown",
   "metadata": {},
   "source": [
    "The most popular form of operator overloading in Python is probably the \"+\" operator for concatenating sequences, such as strings, lists, and tuples. By default, the \"+\" operator concatenates two sequences of the same type, but it can also be overloaded to work with custom classes that represent sequences."
   ]
  },
  {
   "attachments": {},
   "cell_type": "markdown",
   "metadata": {},
   "source": [
    "**Q9. What are the two most important concepts to grasp in order to comprehend Python OOP code?**"
   ]
  },
  {
   "attachments": {},
   "cell_type": "markdown",
   "metadata": {},
   "source": [
    "The two most important concepts to grasp in order to comprehend Python OOP code are classes and objects.\n",
    "\n",
    "Understanding how classes and objects work together is key to understanding Python OOP code. It's important to understand how to define classes and create instances of them, how to access and modify instance attributes, and how to call instance methods. Additionally, understanding inheritance and polymorphism can help you write more complex and reusable code."
   ]
  }
 ],
 "metadata": {
  "kernelspec": {
   "display_name": "Python 3",
   "language": "python",
   "name": "python3"
  },
  "language_info": {
   "name": "python",
   "version": "3.9.5"
  },
  "orig_nbformat": 4,
  "vscode": {
   "interpreter": {
    "hash": "1f28ccaed3b8b67c5baa16ecb763f64465046625536619bc420e057ae9fc3c6d"
   }
  }
 },
 "nbformat": 4,
 "nbformat_minor": 2
}
