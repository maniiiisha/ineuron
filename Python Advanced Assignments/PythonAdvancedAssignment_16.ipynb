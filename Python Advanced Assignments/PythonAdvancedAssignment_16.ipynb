{
 "cells": [
  {
   "attachments": {},
   "cell_type": "markdown",
   "metadata": {},
   "source": [
    "# **PYTHON ADVANCED ASSIGNMENT 16**"
   ]
  },
  {
   "attachments": {},
   "cell_type": "markdown",
   "metadata": {},
   "source": [
    "**Manisha Singh**"
   ]
  },
  {
   "attachments": {},
   "cell_type": "markdown",
   "metadata": {},
   "source": [
    "**Q1. What is the benefit of regular expressions?**"
   ]
  },
  {
   "attachments": {},
   "cell_type": "markdown",
   "metadata": {},
   "source": [
    "Regular Expressions, also known as regex or regexp, are used to match strings of text such as particular characters, words, or patterns of characters. It means that we can match and extract any string pattern from the text with the help of regular expressions. It helps the programmers to Write less and cleaner code. It also avoids multiple use of if/else statements."
   ]
  },
  {
   "attachments": {},
   "cell_type": "markdown",
   "metadata": {},
   "source": [
    "**Q2. Describe the difference between the effects of \"(ab)c+\" and \"a(bc)+\". Which of these, if any, is the unqualified pattern \"abc+\"?**"
   ]
  },
  {
   "attachments": {},
   "cell_type": "markdown",
   "metadata": {},
   "source": [
    "Both `(ab)c+` and `a(bc)+` are valid patterns. The difference between both these patterns is in `(ab)c+` ab is group whereas in `a(bc)+` bc is a group."
   ]
  },
  {
   "attachments": {},
   "cell_type": "markdown",
   "metadata": {},
   "source": [
    "**Q3. How much do you need to use the following sentence while using regular expressions?**\n",
    "\n",
    "**`import re`**"
   ]
  },
  {
   "attachments": {},
   "cell_type": "markdown",
   "metadata": {},
   "source": [
    "The `import re` statement always has to be imported before using regular expressions."
   ]
  },
  {
   "attachments": {},
   "cell_type": "markdown",
   "metadata": {},
   "source": [
    "**Q4. Which characters have special significance in square brackets when expressing a range, and under what circumstances?**"
   ]
  },
  {
   "attachments": {},
   "cell_type": "markdown",
   "metadata": {},
   "source": [
    "The characters `.`, `*`, `?`, `^`, or, `()`, have a special significane when used with square brackets. They need not to be explicitly escaped by `\\` as in case of pattern texts in a raw string."
   ]
  },
  {
   "attachments": {},
   "cell_type": "markdown",
   "metadata": {},
   "source": [
    "**Q5. How does compiling a regular-expression object benefit you?**"
   ]
  },
  {
   "attachments": {},
   "cell_type": "markdown",
   "metadata": {},
   "source": [
    "Compiling a regular expression object in Python offers several benefits like improved performance, reusability, readability and maintainability, and lags and options."
   ]
  },
  {
   "attachments": {},
   "cell_type": "markdown",
   "metadata": {},
   "source": [
    "**Q6. What are some examples of how to use the match object returned by re.match and re.search?**"
   ]
  },
  {
   "cell_type": "code",
   "execution_count": 1,
   "metadata": {},
   "outputs": [
    {
     "name": "stdout",
     "output_type": "stream",
     "text": [
      "<re.Match object; span=(66, 72), match='string'>\n",
      "None\n",
      "<re.Match object; span=(0, 6), match='string'>\n",
      "<re.Match object; span=(0, 6), match='string'>\n"
     ]
    }
   ],
   "source": [
    "import re\n",
    "substr ='string' \n",
    "str1 ='We are learning regex with geeksforgeeks regex is very useful for string matching. It is fast too.' \n",
    "str2 ='string We are learning regex with geeksforgeeks regex is very useful for string matching. It is fast too.'\n",
    "\n",
    "print(re.search(substr, str1, re.IGNORECASE))\n",
    "print(re.match(substr, str1, re.IGNORECASE))\n",
    "\n",
    "print(re.search(substr, str2, re.IGNORECASE))\n",
    "print(re.match(substr, str2, re.IGNORECASE))"
   ]
  },
  {
   "attachments": {},
   "cell_type": "markdown",
   "metadata": {},
   "source": [
    "**Q7. What is the difference between using a vertical bar (|) as an alteration and using square brackets as a character set?**"
   ]
  },
  {
   "attachments": {},
   "cell_type": "markdown",
   "metadata": {},
   "source": [
    "When `|` is used then patterns searches for or option i.e., `<pattern_1> | <pattern_2>` means it searches as `<pattern_1> or <pattern_2>` in the searched string. The first occurrance of matched string will be returned as the match object. Using Character set in square brackets searches for all the character set in the square bracket and if match is found, it returns it."
   ]
  },
  {
   "attachments": {},
   "cell_type": "markdown",
   "metadata": {},
   "source": [
    "**Q8. In regular-expression search patterns, why is it necessary to use the raw-string indicator (r)? In replacement strings?**"
   ]
  },
  {
   "attachments": {},
   "cell_type": "markdown",
   "metadata": {},
   "source": [
    "Raw Strings are used in the regular-expression search patterns, so that blackslashes do not have to be escaped."
   ]
  }
 ],
 "metadata": {
  "kernelspec": {
   "display_name": "Python 3",
   "language": "python",
   "name": "python3"
  },
  "language_info": {
   "codemirror_mode": {
    "name": "ipython",
    "version": 3
   },
   "file_extension": ".py",
   "mimetype": "text/x-python",
   "name": "python",
   "nbconvert_exporter": "python",
   "pygments_lexer": "ipython3",
   "version": "3.9.5"
  },
  "orig_nbformat": 4
 },
 "nbformat": 4,
 "nbformat_minor": 2
}
