{
 "cells": [
  {
   "attachments": {},
   "cell_type": "markdown",
   "metadata": {},
   "source": [
    "# **PYTHON ADVANCED ASSIGNMENT 4**"
   ]
  },
  {
   "attachments": {},
   "cell_type": "markdown",
   "metadata": {},
   "source": [
    "**Manisha Singh**"
   ]
  },
  {
   "attachments": {},
   "cell_type": "markdown",
   "metadata": {},
   "source": [
    "**Q1. Which two operator overloading methods can you use in your classes to support iteration?**"
   ]
  },
  {
   "attachments": {},
   "cell_type": "markdown",
   "metadata": {},
   "source": [
    "`__iter__` and `__next__` are the operator overloading methods in python that support iteration and are collectively called iterator protocol."
   ]
  },
  {
   "attachments": {},
   "cell_type": "markdown",
   "metadata": {},
   "source": [
    "**Q2. In what contexts do the two operator overloading methods manage printing?**"
   ]
  },
  {
   "attachments": {},
   "cell_type": "markdown",
   "metadata": {},
   "source": [
    "`__str__` and `__repr__` are two operator overloading methods that manage printing.\n",
    "\n",
    "* The difference between both these operators is that, the goal of `__repr__` is to be unambiguous and `__str__` is to be readable.\n",
    "\n",
    "* Whenever we are printing any object reference internally `__str__` method will be called by default.\n",
    "\n",
    "* The main purpose of `__str__` is for readability. It prints the informal string representation of an object, one that is useful for printing the object. it may not be possible to convert result string to original object.\n",
    "\n",
    "* `__repr__` is used to print official string representation of an object, so it includes all information and development."
   ]
  },
  {
   "attachments": {},
   "cell_type": "markdown",
   "metadata": {},
   "source": [
    "**Q3. In a class, how do you intercept slice operations?**"
   ]
  },
  {
   "attachments": {},
   "cell_type": "markdown",
   "metadata": {},
   "source": [
    "In a class, use of slice() in `__getitem__` method is used for intercept slice operation. This slice method is provided with start integer number, stop integer number and step integer number."
   ]
  },
  {
   "attachments": {},
   "cell_type": "markdown",
   "metadata": {},
   "source": [
    "**Q4. In a class, how do you capture in-place addition?**"
   ]
  },
  {
   "attachments": {},
   "cell_type": "markdown",
   "metadata": {},
   "source": [
    "Python provides the operator 'x += y' to add two objects in-place by calculating the sum 'x+y' and assigning the result to the first operands variable name 'x'. You can set up the in-place addition behavior for your own class by overriding the magic “dunder” method `__iadd__`(self, other) in your class definition."
   ]
  },
  {
   "attachments": {},
   "cell_type": "markdown",
   "metadata": {},
   "source": [
    "**Q5. When is it appropriate to use operator overloading?**"
   ]
  },
  {
   "attachments": {},
   "cell_type": "markdown",
   "metadata": {},
   "source": [
    "Operator overloading is used when we want to use an operator other than its normal operation to have different meaning according to the context required in user defined function."
   ]
  }
 ],
 "metadata": {
  "language_info": {
   "name": "python"
  },
  "orig_nbformat": 4
 },
 "nbformat": 4,
 "nbformat_minor": 2
}
