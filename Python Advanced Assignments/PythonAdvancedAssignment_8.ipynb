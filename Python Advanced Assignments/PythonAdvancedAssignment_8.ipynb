{
 "cells": [
  {
   "attachments": {},
   "cell_type": "markdown",
   "metadata": {},
   "source": [
    "# **PYTHON ADVANCED ASSIGNMENT 8**"
   ]
  },
  {
   "attachments": {},
   "cell_type": "markdown",
   "metadata": {},
   "source": [
    "**Manisha Singh**"
   ]
  },
  {
   "attachments": {},
   "cell_type": "markdown",
   "metadata": {},
   "source": [
    "**Q1. What are the two latest user-defined exception constraints in Python 3.X?**"
   ]
  },
  {
   "attachments": {},
   "cell_type": "markdown",
   "metadata": {},
   "source": [
    "`raise` and `assert` are the two latest user-defined exception constraints in Python 3.X"
   ]
  },
  {
   "attachments": {},
   "cell_type": "markdown",
   "metadata": {},
   "source": [
    "**Q2. How are class-based exceptions that have been raised matched to handlers?**"
   ]
  },
  {
   "attachments": {},
   "cell_type": "markdown",
   "metadata": {},
   "source": [
    "In Python, when an exception is raised, the interpreter searches for an appropriate exception handler to handle the exception.\n",
    "\n",
    "When a class-based exception is raised, the interpreter looks for a handler that can catch that specific exception class or one of its superclasses. This search for an appropriate handler is performed by walking up the call stack until a matching exception handler is found. If no matching handler is found, the interpreter terminates the program and prints a stack trace.\n",
    "\n",
    "In order to handle a specific class-based exception, we can use a try-except block, where the \"except\" clause specifies the class of the exception you want to catch."
   ]
  },
  {
   "attachments": {},
   "cell_type": "markdown",
   "metadata": {},
   "source": [
    "**Q3. Describe two methods for attaching context information to exception artefacts.**"
   ]
  },
  {
   "attachments": {},
   "cell_type": "markdown",
   "metadata": {},
   "source": [
    "When an exception is raised in Python, it is important to provide context information about what caused the exception. This information can be attached to the exception artefact in a variety of ways. Here are two common methods for attaching context information to exceptions in Python:\n",
    "\n",
    "1. Using the `args` attribute: One common way to attach context information to an exception is by using the `args` attribute of the exception object. The `args` attribute is a tuple that contains any arguments passed to the exception constructor. We can add context information to this tuple by including it as an argument when you create the exception object. \n",
    "\n",
    "2. Subclassing the exception: Another common way to attach context information to an exception is by creating a new exception class that subclasses the original exception class and adds additional attributes to store the context information."
   ]
  },
  {
   "attachments": {},
   "cell_type": "markdown",
   "metadata": {},
   "source": [
    "**Q4. Describe two methods for specifying the text of an exception object&#39;s error message.**"
   ]
  },
  {
   "attachments": {},
   "cell_type": "markdown",
   "metadata": {},
   "source": [
    "`raise` and `assert` are two methods for specifying the text of an exception object's error message. `raise` statement is used to trigger explicit exception, if certain condition is not as per requirement of programmer. It helps in triggering exception as per need of programmer and logic.\n",
    "\n",
    "There are few assertions that programmer always want to be True to avoid code failure. This type of requirment is fullfilled by `assert` statement. This statement takes a Boolean Condition output of which if True, further program executes. if output of assert statement is False it raises an `Assertion Error`."
   ]
  },
  {
   "attachments": {},
   "cell_type": "markdown",
   "metadata": {},
   "source": [
    "**Q5. Why do you no longer use string-based exceptions?**"
   ]
  },
  {
   "attachments": {},
   "cell_type": "markdown",
   "metadata": {},
   "source": [
    "There are several reasons for this:\n",
    "\n",
    "1. Type safety: In Python, exceptions are classes, and using strings instead of classes can lead to type safety issues. When using strings, there is no way to ensure that the exception being raised or caught is actually an exception type and not just a string with a similar name.\n",
    "\n",
    "2. Readability and maintainability: Using strings for exceptions can make the code less readable and harder to maintain. It is easier to understand what type of exception is being raised or caught when using a class-based approach, as the class name provides clear context.\n",
    "\n",
    "3. Compatibility: String-based exceptions are not compatible with the `raise ... from ...` syntax that was introduced in Python 3. This syntax allows you to chain exceptions together, which can be useful for debugging and error handling.\n",
    "\n",
    "Therefore, it is recommended to use class-based exceptions in modern versions of Python, which provide better type safety, readability, maintainability, and compatibility with other Python features."
   ]
  }
 ],
 "metadata": {
  "language_info": {
   "name": "python"
  },
  "orig_nbformat": 4
 },
 "nbformat": 4,
 "nbformat_minor": 2
}
