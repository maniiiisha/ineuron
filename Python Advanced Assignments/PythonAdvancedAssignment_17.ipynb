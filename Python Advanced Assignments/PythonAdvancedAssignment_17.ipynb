{
 "cells": [
  {
   "cell_type": "markdown",
   "metadata": {},
   "source": [
    "# **PYTHON ADVANCED ASSIGNMENT 17**"
   ]
  },
  {
   "cell_type": "markdown",
   "metadata": {},
   "source": [
    "**Manisha Singh**"
   ]
  },
  {
   "cell_type": "markdown",
   "metadata": {},
   "source": [
    "**Q1. Explain the difference between greedy and non-greedy syntax with visual terms in as few words as possible. What is the bare minimum effort required to transform a greedy pattern into a non-greedy one? What characters or characters can you introduce or change?**"
   ]
  },
  {
   "cell_type": "markdown",
   "metadata": {},
   "source": [
    "Greedy syntax matches the longest possible sequence that satisfies the pattern, while non-greedy syntax matches the shortest possible sequence that satisfies the pattern.\n",
    "\n",
    "To transform a greedy pattern into a non-greedy one, you can add a question mark (?) after the quantifier (*, +, or ?). This makes the pattern non-greedy.\n",
    "\n",
    "For example, the greedy pattern \".\" matches the entire string, while the non-greedy pattern \".?\" matches the shortest possible sequence of characters."
   ]
  },
  {
   "cell_type": "markdown",
   "metadata": {},
   "source": [
    "**Q2. When exactly does greedy versus non-greedy make a difference?  What if you're looking for a non-greedy match but the only one available is greedy?**"
   ]
  },
  {
   "cell_type": "markdown",
   "metadata": {},
   "source": [
    "Greedy versus non-greedy syntax makes a difference when a regular expression pattern has multiple possible matches in a string. In such cases, the greedy syntax matches the longest possible substring that satisfies the pattern, while the non-greedy syntax matches the shortest possible substring that satisfies the pattern.\n",
    "\n",
    "If you're looking for a non-greedy match but the only one available is greedy, you can modify the pattern to make it non-greedy by adding a question mark after the quantifier. However, this may not always be possible or desirable depending on the specific requirements of the pattern. In some cases, it may be necessary to use additional regular expressions or other methods to extract the desired substring."
   ]
  },
  {
   "cell_type": "markdown",
   "metadata": {},
   "source": [
    "**Q3. In a simple match of a string, which looks only for one match and does not do any replacement, is the use of a nontagged group likely to make any practical difference?**"
   ]
  },
  {
   "cell_type": "markdown",
   "metadata": {},
   "source": [
    "In a simple match of a string that looks for only one match and does not do any replacement, the use of a non-tagged group is not likely to make any practical difference. Non-tagged groups, also known as non-capturing groups, are used to group parts of a regular expression pattern together without capturing them as a separate group."
   ]
  },
  {
   "cell_type": "markdown",
   "metadata": {},
   "source": [
    "**Q4. Describe a scenario in which using a nontagged category would have a significant impact on the program's outcomes.**"
   ]
  },
  {
   "cell_type": "markdown",
   "metadata": {},
   "source": [
    "Non-tagged categories can be useful in a variety of scenarios where you want to match a specific set of characters that are not part of a predefined category. For example matching phone numbers with hyphens or matching strings with special characters."
   ]
  },
  {
   "cell_type": "markdown",
   "metadata": {},
   "source": [
    "**Q5. Unlike a normal regex pattern, a look-ahead condition does not consume the characters it examines. Describe a situation in which this could make a difference in the results of your programme.**"
   ]
  },
  {
   "cell_type": "markdown",
   "metadata": {},
   "source": [
    "Look ahead conditions do not consume the character they examine, this can make a difference in the results in the situations like matching overlapping patterns or validating inputs such as passwords."
   ]
  },
  {
   "cell_type": "markdown",
   "metadata": {},
   "source": [
    "**Q6. In standard expressions, what is the difference between positive look-ahead and negative look-ahead?**"
   ]
  },
  {
   "cell_type": "markdown",
   "metadata": {},
   "source": [
    "A positive look-ahead (?=...) condition matches the search pattern only if it is followed by the specified pattern. A negative look-ahead (?!...) condition, on the other hand, matches the search pattern only if it is not followed by the specified pattern."
   ]
  },
  {
   "cell_type": "markdown",
   "metadata": {},
   "source": [
    "**Q7. What is the benefit of referring to groups by name rather than by number in a standard expression?**"
   ]
  },
  {
   "cell_type": "markdown",
   "metadata": {},
   "source": [
    "Referring to groups by name rather than by number in a regular expression has several benefits:\n",
    "\n",
    "a. Readability: Naming groups can make the regular expression more readable and easier to understand, especially for complex patterns with multiple groups.\n",
    "\n",
    "b. Self-documenting: By naming groups, the regular expression becomes self-documenting, making it easier for others (or your future self) to understand the intent of the pattern.\n",
    "\n",
    "c. Flexibility: If the order of the groups changes, named groups can still be referenced by name, whereas using group numbers would require updating the regular expression.\n",
    "\n",
    "d. Code reuse: Named groups can be referenced by name in the replacement string when doing string substitutions, making it easier to reuse the same regular expression in different contexts."
   ]
  },
  {
   "cell_type": "markdown",
   "metadata": {},
   "source": [
    "**Q8. Can you identify repeated items within a target string using named groups, as in \"The cow jumped over the moon\"?**"
   ]
  },
  {
   "cell_type": "markdown",
   "metadata": {},
   "source": [
    "Yes, we can use named groups to identify repeated items within a target string."
   ]
  },
  {
   "cell_type": "code",
   "execution_count": 1,
   "metadata": {},
   "outputs": [
    {
     "data": {
      "text/plain": [
       "['The', 'the']"
      ]
     },
     "execution_count": 1,
     "metadata": {},
     "output_type": "execute_result"
    }
   ],
   "source": [
    "import re\n",
    "text = \"The cow jumped over the moon\"\n",
    "pattern = re.compile(r'(?P<w1>The)',re.I)\n",
    "pattern.findall(text)"
   ]
  },
  {
   "cell_type": "markdown",
   "metadata": {},
   "source": [
    "**Q9. When parsing a string, what is at least one thing that the Scanner interface does for you that the re.findall feature does not?**"
   ]
  },
  {
   "cell_type": "markdown",
   "metadata": {},
   "source": [
    "re.findall() module is used to search for all occurrences that match a given pattern. In contrast, re.search() will only return the first occurrence that matches the specified pattern. re.findall() will iterate over all the lines of the file and will return all non-overlapping matches of pattern in a single step."
   ]
  },
  {
   "cell_type": "markdown",
   "metadata": {},
   "source": [
    "**Q10. Does a scanner object have to be named scanner?**"
   ]
  },
  {
   "cell_type": "markdown",
   "metadata": {},
   "source": [
    "No, it can have any name."
   ]
  }
 ],
 "metadata": {
  "kernelspec": {
   "display_name": "Python 3",
   "language": "python",
   "name": "python3"
  },
  "language_info": {
   "codemirror_mode": {
    "name": "ipython",
    "version": 3
   },
   "file_extension": ".py",
   "mimetype": "text/x-python",
   "name": "python",
   "nbconvert_exporter": "python",
   "pygments_lexer": "ipython3",
   "version": "3.9.5"
  },
  "orig_nbformat": 4
 },
 "nbformat": 4,
 "nbformat_minor": 2
}
