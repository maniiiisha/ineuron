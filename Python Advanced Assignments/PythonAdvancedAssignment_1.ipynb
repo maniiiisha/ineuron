{
 "cells": [
  {
   "attachments": {},
   "cell_type": "markdown",
   "metadata": {},
   "source": [
    "# **PYTHON ADVANCED ASSIGNMENT 1**"
   ]
  },
  {
   "attachments": {},
   "cell_type": "markdown",
   "metadata": {},
   "source": [
    "**Manisha Singh**"
   ]
  },
  {
   "attachments": {},
   "cell_type": "markdown",
   "metadata": {},
   "source": [
    "**Q1. What is the purpose of Python's OOP?**"
   ]
  },
  {
   "attachments": {},
   "cell_type": "markdown",
   "metadata": {},
   "source": [
    "* Object-Oriented Programming makes the program easy to understand as well as efficient.\n",
    "\n",
    "* Since the class is sharable, the code can be reused.\n",
    "\n",
    "* Data is safe and secure with data abstraction.\n",
    "\n",
    "* Polymorphism allows the same interface for different objects, so programmers can write efficient code.\n",
    "\n",
    "* Inherit feature allows programmer to inherit the methods from existing programs."
   ]
  },
  {
   "attachments": {},
   "cell_type": "markdown",
   "metadata": {},
   "source": [
    "**Q2. Where does an inheritance search look for an attribute?**"
   ]
  },
  {
   "attachments": {},
   "cell_type": "markdown",
   "metadata": {},
   "source": [
    "An inheritance search looks for an attribute first in the instance object, then in the class the instance was created from, then in all higher superclasses, progressing from left to right (by default). The search stops at the first place the attribute is found."
   ]
  },
  {
   "attachments": {},
   "cell_type": "markdown",
   "metadata": {},
   "source": [
    "**Q3. How do you distinguish between a class object and an instance object?**"
   ]
  },
  {
   "attachments": {},
   "cell_type": "markdown",
   "metadata": {},
   "source": [
    "Class is a detailed description, the definition, and the template of what an object will be. But it is not the object itself. It is a user-defined data type, that holds its own data members and member functions, which can be accessed and used by creating an instance of that class. It is the blueprint of any object.\n",
    "\n",
    "Object is an instance of a class. All data members and member functions of the class can be accessed with the help of objects."
   ]
  },
  {
   "attachments": {},
   "cell_type": "markdown",
   "metadata": {},
   "source": [
    "**Q4. What makes the first argument in a class’s method function special?**"
   ]
  },
  {
   "attachments": {},
   "cell_type": "markdown",
   "metadata": {},
   "source": [
    "The first argument in a class's method function is typically named \"self\", although it can be named anything as long as it is the first argument. This argument refers to the instance of the class on which the method is being called.\n",
    "\n",
    "The \"self\" parameter allows the method to access and manipulate the attributes and methods of the instance, which is necessary for the class to operate on its own data. Without this parameter, the method would not have access to the instance's attributes or methods and would be unable to modify them."
   ]
  },
  {
   "attachments": {},
   "cell_type": "markdown",
   "metadata": {},
   "source": [
    "**Q5. What is the purpose of the __init__ method?**"
   ]
  },
  {
   "attachments": {},
   "cell_type": "markdown",
   "metadata": {},
   "source": [
    "The __init__() method in Python is a special method that is called automatically when an object is created from a class. It is used to initialize the object's attributes and perform any other setup that is required before the object can be used.\n",
    "\n",
    "The __init__() method takes the self parameter, which refers to the object being created, and any other parameters that are required to initialize the object. The self parameter is used to access the object's attributes and methods."
   ]
  },
  {
   "attachments": {},
   "cell_type": "markdown",
   "metadata": {},
   "source": [
    "**Q6. What is the process for creating a class instance?**"
   ]
  },
  {
   "attachments": {},
   "cell_type": "markdown",
   "metadata": {},
   "source": [
    "To create a class instance in Python, you need to follow these steps:\n",
    "\n",
    "* Define the class: First, you need to define the class by using the \"class\" keyword followed by the class name and a colon.\n",
    "\n",
    "* Create an instance: To create an instance of the class, you need to call the class constructor by using the class name followed by parentheses. This will create a new instance of the class.\n",
    "\n",
    "* Initialize instance attributes: If the class has any instance attributes that need to be initialized, you can do so by using the dot notation to assign values to the instance attributes."
   ]
  },
  {
   "attachments": {},
   "cell_type": "markdown",
   "metadata": {},
   "source": [
    "**Q7. What is the process for creating a class?**"
   ]
  },
  {
   "attachments": {},
   "cell_type": "markdown",
   "metadata": {},
   "source": [
    "To create a class in Python, you need to follow these steps:\n",
    "\n",
    "* Use the \"class\" keyword followed by the class name and a colon to define the class.\n",
    "\n",
    "* Define the class methods: You can define the class methods by defining functions inside the class block. You can use the \"self\" parameter to refer to the instance of the class.\n",
    "\n",
    "* Define the class attributes: You can define the class attributes inside the class block. Class attributes are shared by all instances of the class."
   ]
  },
  {
   "attachments": {},
   "cell_type": "markdown",
   "metadata": {},
   "source": [
    "**Q8. How would you define the superclasses of a class?**"
   ]
  },
  {
   "attachments": {},
   "cell_type": "markdown",
   "metadata": {},
   "source": [
    "In Python, you can define the superclasses of a class by putting the names of the parent classes in parentheses after the class name in the class definition. This is known as class inheritance."
   ]
  }
 ],
 "metadata": {
  "kernelspec": {
   "display_name": "Python 3",
   "language": "python",
   "name": "python3"
  },
  "language_info": {
   "name": "python",
   "version": "3.9.5"
  },
  "orig_nbformat": 4,
  "vscode": {
   "interpreter": {
    "hash": "1f28ccaed3b8b67c5baa16ecb763f64465046625536619bc420e057ae9fc3c6d"
   }
  }
 },
 "nbformat": 4,
 "nbformat_minor": 2
}
