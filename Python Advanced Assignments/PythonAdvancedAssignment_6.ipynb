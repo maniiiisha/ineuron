{
 "cells": [
  {
   "attachments": {},
   "cell_type": "markdown",
   "metadata": {},
   "source": [
    "# **PYTHON ADVANCED ASSIGNMENT 6**"
   ]
  },
  {
   "attachments": {},
   "cell_type": "markdown",
   "metadata": {},
   "source": [
    "**Manisha Singh**"
   ]
  },
  {
   "attachments": {},
   "cell_type": "markdown",
   "metadata": {},
   "source": [
    "**Q1. Describe three applications for exception processing.**"
   ]
  },
  {
   "attachments": {},
   "cell_type": "markdown",
   "metadata": {},
   "source": [
    "In Python, exception processing is a way to handle and respond to unexpected or exceptional situations that can occur during program execution. Here are three common applications for exception processing in Python:\n",
    "\n",
    "1. Error handling in file I/O: When reading or writing files, errors can occur due to issues such as missing files, permission errors, or incorrect file formats. Using exception handling in these scenarios can help to gracefully handle errors and prevent the program from crashing. For example, you can use a try-except block to catch any file-related exceptions and handle them appropriately.\n",
    "\n",
    "2. Web scraping: Web scraping involves extracting data from websites, which can be prone to errors due to changes in website structure or network errors. Using exception handling in web scraping code can help to handle these errors and continue with the program execution. For example, you can use a try-except block to catch any network-related exceptions and retry the request after a delay.\n",
    "\n",
    "3. User input validation: In applications that accept user input, there is always the potential for incorrect or invalid input that can cause program errors. Using exception handling in these scenarios can help to validate user input and prevent program crashes. For example, you can use a try-except block to catch any input-related exceptions and prompt the user to enter valid input."
   ]
  },
  {
   "attachments": {},
   "cell_type": "markdown",
   "metadata": {},
   "source": [
    "**Q2. What happens if you don't do something extra to treat an exception?**"
   ]
  },
  {
   "attachments": {},
   "cell_type": "markdown",
   "metadata": {},
   "source": [
    "If an exception occurs in Python and you don't handle it using exception handling techniques, the program will terminate abruptly and display an error message indicating the cause of the exception. This error message can be difficult for users to understand and may not provide much information about the context or cause of the error.\n",
    "\n",
    "In addition, if the exception occurs during a critical operation or in the middle of a transaction, it could leave the program or system in an inconsistent state, which could cause further problems down the line.\n",
    "\n",
    "Therefore, it is important to always include exception handling in your Python code to ensure that errors are handled gracefully and that the program can continue to execute without crashing. Exception handling can also provide useful information about the cause of errors and help with debugging and troubleshooting."
   ]
  },
  {
   "attachments": {},
   "cell_type": "markdown",
   "metadata": {},
   "source": [
    "**Q3. What are your options for recovering from an exception in your script?**"
   ]
  },
  {
   "attachments": {},
   "cell_type": "markdown",
   "metadata": {},
   "source": [
    "When an exception occurs in a Python script, there are several options for recovering from the exception and continuing with the program execution. Here are some common techniques for recovering from exceptions:\n",
    "\n",
    "1. Using try-except blocks: You can use try-except blocks to catch specific exceptions and handle them gracefully. By wrapping the code that could potentially raise an exception in a try block, you can catch the exception in the corresponding except block and handle it appropriately. This can include logging the error, displaying a message to the user, or retrying the operation.\n",
    "\n",
    "2. Using try-finally blocks: You can use try-finally blocks to ensure that certain code is executed, regardless of whether an exception occurs or not. The code in the finally block will always execute, even if an exception is raised, which can be useful for performing cleanup operations.\n",
    "\n",
    "3. Raising custom exceptions: You can also define and raise your own exceptions to handle specific scenarios in your code. This can be useful for creating more descriptive error messages or for indicating that a certain condition has been met.\n",
    "\n",
    "4. Using context managers: Context managers, such as the with statement, can be used to automatically handle resource allocation and deallocation in a safe and predictable way. This can help to prevent resource leaks and ensure that your code is robust in the face of exceptions.\n",
    "\n",
    "5. Using the traceback module: The traceback module can be used to print detailed information about the call stack and the sequence of events that led to the exception. This can be useful for debugging and troubleshooting."
   ]
  },
  {
   "attachments": {},
   "cell_type": "markdown",
   "metadata": {},
   "source": [
    "**Q4. Describe two methods for triggering exceptions in your script.**"
   ]
  },
  {
   "attachments": {},
   "cell_type": "markdown",
   "metadata": {},
   "source": [
    "In Python, you can trigger exceptions in your script using different methods depending on the scenario. Here are two common ways to trigger exceptions:\n",
    "\n",
    "1. Using the raise statement: You can use the raise statement to explicitly raise an exception in your code. This can be useful when you want to indicate that a certain condition has been met and that the program should take a specific course of action. For example, you can raise a ValueError if an input parameter to a function is outside of a certain range, or you can raise a FileNotFoundError if a required file is missing.\n",
    "\n",
    "2. Using built-in functions and methods that raise exceptions: Many built-in functions and methods in Python raise exceptions when certain conditions are not met. For example, the open() function raises a FileNotFoundError if the specified file cannot be found, and the int() function raises a ValueError if the input string cannot be converted to an integer."
   ]
  },
  {
   "attachments": {},
   "cell_type": "markdown",
   "metadata": {},
   "source": [
    "**Q5. Identify two methods for specifying actions to be executed at termination time, regardless of whether or not an exception exists.**"
   ]
  },
  {
   "attachments": {},
   "cell_type": "markdown",
   "metadata": {},
   "source": [
    "`raise` and `assert` are two methods that can be used to trigger manual exceptions in your script.\n",
    "\n",
    "`raise` method triggers an exception if condition provided to it turns out to be True.\n",
    "\n",
    "`assert` will let the program to continue execution if condition provided to it turns out to be True else exception will be raised."
   ]
  }
 ],
 "metadata": {
  "language_info": {
   "name": "python"
  },
  "orig_nbformat": 4
 },
 "nbformat": 4,
 "nbformat_minor": 2
}
