{
 "cells": [
  {
   "cell_type": "markdown",
   "id": "b29f8a7f",
   "metadata": {},
   "source": [
    "# Assignment 2"
   ]
  },
  {
   "cell_type": "markdown",
   "id": "2794615e",
   "metadata": {},
   "source": [
    "### Manisha Singh"
   ]
  },
  {
   "cell_type": "markdown",
   "id": "84412b5c",
   "metadata": {},
   "source": [
    "Q1. What is indentation error? Why indentation is important? Give one simple example?"
   ]
  },
  {
   "cell_type": "markdown",
   "id": "186d1a04",
   "metadata": {},
   "source": [
    "The indentation error can occur when the spaces or tabs are not placed properly. It is very important not only because of it being a good coding practise, but it keeps the code simpler and understandable, makes the debugging easier and gives proper visibility to every line of the code.\n",
    "\n",
    "E.g., \n",
    "if  True:\n",
    "    a = 6\n",
    "        b = 5\n",
    "        \n",
    "If we add indentation where it doesn't belong (here before b=5), an IndentationError will be raised."
   ]
  },
  {
   "cell_type": "markdown",
   "id": "11209f8f",
   "metadata": {},
   "source": [
    "Q2. Correct the following code and write the comment where you made the correction?"
   ]
  },
  {
   "cell_type": "code",
   "execution_count": 21,
   "id": "6fa0ae12",
   "metadata": {},
   "outputs": [
    {
     "name": "stdout",
     "output_type": "stream",
     "text": [
      "Hey friend, is class started?: [0-False/1-True] 1\n",
      "Since class started...\n",
      "Lets concentrate\n"
     ]
    }
   ],
   "source": [
    "class_started = int(input(\"Hey friend, is class started?: [0-False/1-True] \")) # replaced bool with int\n",
    "\n",
    "if class_started:\n",
    "   print(\"Since class started...\")\n",
    "   print(\"Lets concentrate\")\n",
    "else:\n",
    "   print(\"Since class is not started...\")\n",
    "   print(\"let's revise\")"
   ]
  },
  {
   "cell_type": "markdown",
   "id": "bb526028",
   "metadata": {},
   "source": [
    "Q3. Use if else condition to verify that dataype of `input()` method in python is always string."
   ]
  },
  {
   "cell_type": "code",
   "execution_count": 16,
   "id": "0c494948",
   "metadata": {},
   "outputs": [
    {
     "name": "stdout",
     "output_type": "stream",
     "text": [
      "Enter a number: 34\n",
      "Num is a string.\n"
     ]
    }
   ],
   "source": [
    "num = input(\"Enter a number: \")\n",
    "\n",
    "if type(num)!=str:\n",
    "    print(\"Num is not string.\")\n",
    "else:\n",
    "    print(\"Num is a string.\")"
   ]
  },
  {
   "cell_type": "markdown",
   "id": "46ed6732",
   "metadata": {},
   "source": [
    "Q4. Take 3 variables and assign integer values to them. Find the largest variable, by only using the if and else conditions."
   ]
  },
  {
   "cell_type": "code",
   "execution_count": 19,
   "id": "b1f01f5f",
   "metadata": {},
   "outputs": [
    {
     "name": "stdout",
     "output_type": "stream",
     "text": [
      "num2 is the largest number.\n"
     ]
    }
   ],
   "source": [
    "num1 = 36\n",
    "num2 = 55\n",
    "num3 = 28\n",
    "\n",
    "if num1>=num2:\n",
    "    if num1>=num3:\n",
    "        print(\"num1 is the largest number.\")\n",
    "    else:\n",
    "        print(\"num3 is the largest number.\")\n",
    "        \n",
    "else:\n",
    "    if num2>=num3:\n",
    "        print(\"num2 is the largest number.\")\n",
    "    else:\n",
    "        print(\"num3 is the largest number.\")"
   ]
  },
  {
   "cell_type": "markdown",
   "id": "18de26f8",
   "metadata": {},
   "source": [
    "Q5. What would be the solution?\n",
    "1. True\n",
    "2. False"
   ]
  },
  {
   "cell_type": "code",
   "execution_count": 22,
   "id": "2a57cacd",
   "metadata": {},
   "outputs": [
    {
     "name": "stdout",
     "output_type": "stream",
     "text": [
      "False\n"
     ]
    }
   ],
   "source": [
    "a = 6\n",
    "b = 10\n",
    "print( not ( not a == 10 or not b == 10) )"
   ]
  },
  {
   "cell_type": "markdown",
   "id": "ecf27235",
   "metadata": {},
   "source": [
    "Q6. Find the answer as well as find out the reason behind the result?\n",
    "- case 1:"
   ]
  },
  {
   "cell_type": "code",
   "execution_count": 23,
   "id": "3bfcf52c",
   "metadata": {},
   "outputs": [
    {
     "name": "stdout",
     "output_type": "stream",
     "text": [
      "False\n"
     ]
    }
   ],
   "source": [
    "A = 5.0\n",
    "B = 10/2\n",
    "print(A is B)"
   ]
  },
  {
   "cell_type": "markdown",
   "id": "a32a4cd5",
   "metadata": {},
   "source": [
    "A is of float type and B returns the answer in int type. So A and B are different objects and that is the reason we get False."
   ]
  },
  {
   "cell_type": "markdown",
   "id": "dc81ad94",
   "metadata": {},
   "source": [
    "- case 2:"
   ]
  },
  {
   "cell_type": "code",
   "execution_count": 24,
   "id": "23cd2cda",
   "metadata": {},
   "outputs": [
    {
     "name": "stdout",
     "output_type": "stream",
     "text": [
      "False\n"
     ]
    }
   ],
   "source": [
    "A = 5.0\n",
    "B = int(10/2)\n",
    "print(A is B)"
   ]
  },
  {
   "cell_type": "markdown",
   "id": "fecd0c40",
   "metadata": {},
   "source": [
    "A is of float type and B returns the answer in int type. So A and B are different objects and that is the reason we get False."
   ]
  },
  {
   "cell_type": "markdown",
   "id": "f0e798d5",
   "metadata": {},
   "source": [
    "- case 3:"
   ]
  },
  {
   "cell_type": "code",
   "execution_count": 12,
   "id": "074e56c2",
   "metadata": {},
   "outputs": [
    {
     "name": "stdout",
     "output_type": "stream",
     "text": [
      "False\n"
     ]
    }
   ],
   "source": [
    "A = 5.0\n",
    "B = float(10/2)\n",
    "print(A is B)"
   ]
  },
  {
   "cell_type": "markdown",
   "id": "0f645a52",
   "metadata": {},
   "source": [
    "### Try to understand the following examples and answer the question based on it - \n",
    "    \n",
    "**Arithmatic Operators**\n",
    "\n",
    "|Operation|Meaning|\n",
    "|:-:|:-:|\n",
    "| **+** |addition|\n",
    "| **-** |subtraction|\n",
    "| **\\*** |multiplication|\n",
    "| **/** |true division|\n",
    "| **//** |integer division|\n",
    "| **%** |the modulo operator|\n",
    "\n",
    "\n",
    "Here `+`, `-`, `*`, `/` are regular arithmatic operators. Lets look at the `//` and `%` operators\n",
    "\n",
    "Usecase or examples - "
   ]
  },
  {
   "cell_type": "code",
   "execution_count": null,
   "id": "7e14ce73",
   "metadata": {},
   "outputs": [],
   "source": [
    "var_a = 5\n",
    "var_b = 25\n",
    "integer_division = var_b // var_a\n",
    "print(f\"integer division: {var_b}/{var_a}={integer_division}\")"
   ]
  },
  {
   "cell_type": "markdown",
   "id": "e45dc3db",
   "metadata": {},
   "source": [
    "OUTPUT: integer division: 25/5=5"
   ]
  },
  {
   "cell_type": "code",
   "execution_count": null,
   "id": "3b85bd2c",
   "metadata": {},
   "outputs": [],
   "source": [
    "var_a = 3\n",
    "var_b = 25\n",
    "integer_division = var_b // var_a\n",
    "print(f\"integer division: {var_b}/{var_a}={integer_division}\")"
   ]
  },
  {
   "cell_type": "markdown",
   "id": "bd3b5249",
   "metadata": {},
   "source": [
    "OUTPUT: integer division: 25/3=8"
   ]
  },
  {
   "cell_type": "code",
   "execution_count": null,
   "id": "df12ff62",
   "metadata": {},
   "outputs": [],
   "source": [
    "var_a = 5\n",
    "var_b = 25\n",
    "remainder = var_b % var_a\n",
    "print(f\"remainder: {var_b}/{var_a} is {remainder}\")"
   ]
  },
  {
   "cell_type": "markdown",
   "id": "78a082cb",
   "metadata": {},
   "source": [
    "OUTPUT: remainder: 25/5 is 0"
   ]
  },
  {
   "cell_type": "code",
   "execution_count": null,
   "id": "b81e7c18",
   "metadata": {},
   "outputs": [],
   "source": [
    "var_a = 3\n",
    "var_b = 25\n",
    "remainder = var_b % var_a\n",
    "print(f\"remainder: {var_b}/{var_a} is {remainder}\")"
   ]
  },
  {
   "cell_type": "markdown",
   "id": "720e97c1",
   "metadata": {},
   "source": [
    "OUTPUT: remainder: 25/3 is 1"
   ]
  },
  {
   "cell_type": "markdown",
   "id": "840c15f3",
   "metadata": {},
   "source": [
    "### Answer below questions on the above theory - \n",
    "\n",
    "Q7. Write a program that asks the user to enter a number. You should print out a message to the user, either “That number is divisible by either 3 or 5”, or “That number is not divisible by either 3 or 5”. Be sure to consider the data type of the input you are taking in from the user. Use a single if/else block to solve this problem.\n",
    "\n",
    "Q8. Take user input for length and width. Then calculate the area of rectangle. Also print as per length and width whether its a square of rectangle.\n",
    "\n",
    "Q9. Take two variable radius_1 and radius_2 and calculate the area of circle_1 and circle_2. Also print which circle has large area. If area is equal then print area is equal.\n",
    "\n",
    "Q10. Check whether a year is leap year or not. Use nested if...else to solve this problem. A leap year is exactly divisible by 4 except for century years (years ending with 00). The century year is a leap year only if it is perfectly divisible by 400."
   ]
  },
  {
   "cell_type": "code",
   "execution_count": 4,
   "id": "928fc73b",
   "metadata": {},
   "outputs": [
    {
     "name": "stdout",
     "output_type": "stream",
     "text": [
      "Enter a number: 4\n",
      "4 is not divisible by either 3 or 5\n"
     ]
    }
   ],
   "source": [
    "# Q7\n",
    "a = int(input(\"Enter a number: \"))\n",
    "\n",
    "if a%3==0 or a%5==0:\n",
    "    print(f\"{a} is divisible by either 3 or 5\")\n",
    "else:\n",
    "    print(f\"{a} is not divisible by either 3 or 5\")"
   ]
  },
  {
   "cell_type": "code",
   "execution_count": 6,
   "id": "05898ec2",
   "metadata": {},
   "outputs": [
    {
     "name": "stdout",
     "output_type": "stream",
     "text": [
      "Enter length: 4\n",
      "Enter width: 3\n",
      "Area =  12\n",
      "It is a rectangle.\n"
     ]
    }
   ],
   "source": [
    "# Q8\n",
    "length = int(input(\"Enter length: \"))\n",
    "width = int(input(\"Enter width: \"))\n",
    "\n",
    "print(\"Area = \", (length*width))\n",
    "\n",
    "if length==width:\n",
    "    print(\"It is a square.\")\n",
    "else:\n",
    "    print(\"It is a rectangle.\")"
   ]
  },
  {
   "cell_type": "code",
   "execution_count": 9,
   "id": "9b13987a",
   "metadata": {},
   "outputs": [
    {
     "name": "stdout",
     "output_type": "stream",
     "text": [
      "Enter radius1: 2\n",
      "Enter radius2: 2\n",
      "Area of circle1 and circle2 are equal.\n"
     ]
    }
   ],
   "source": [
    "# Q9\n",
    "radius_1 = int(input(\"Enter radius1: \"))\n",
    "radius_2 = int(input(\"Enter radius2: \"))\n",
    "\n",
    "aoc_1 = 3.14*radius_1*radius_1\n",
    "aoc_2 = 3.14*radius_2*radius_2\n",
    "\n",
    "if aoc_1 != aoc_2:\n",
    "    if aoc_1 > aoc_2:\n",
    "        print(\"Area of circle1 is greater.\")\n",
    "    else:\n",
    "        print(\"Area of circle2 is greater.\")\n",
    "\n",
    "else:\n",
    "    print(\"Area of circle1 and circle2 are equal.\")"
   ]
  },
  {
   "cell_type": "code",
   "execution_count": 11,
   "id": "1c649fb9",
   "metadata": {},
   "outputs": [
    {
     "name": "stdout",
     "output_type": "stream",
     "text": [
      "Enter a year: 2022\n",
      "Entered year is not a leap year.\n"
     ]
    }
   ],
   "source": [
    "# Q10\n",
    "year = int(input(\"Enter a year: \"))\n",
    "\n",
    "if year%4 == 0:\n",
    "    if year%100==0 and year%400!=0 :\n",
    "        print(\"Entered year is not a leap year.\")\n",
    "    else:\n",
    "        print(\"Entered year is a leap year.\")\n",
    "    \n",
    "else:\n",
    "    print(\"Entered year is not a leap year.\")"
   ]
  }
 ],
 "metadata": {
  "kernelspec": {
   "display_name": "Python 3 (ipykernel)",
   "language": "python",
   "name": "python3"
  },
  "language_info": {
   "codemirror_mode": {
    "name": "ipython",
    "version": 3
   },
   "file_extension": ".py",
   "mimetype": "text/x-python",
   "name": "python",
   "nbconvert_exporter": "python",
   "pygments_lexer": "ipython3",
   "version": "3.9.5"
  }
 },
 "nbformat": 4,
 "nbformat_minor": 5
}
