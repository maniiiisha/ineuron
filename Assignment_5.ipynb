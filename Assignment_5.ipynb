{
  "nbformat": 4,
  "nbformat_minor": 0,
  "metadata": {
    "colab": {
      "provenance": [],
      "collapsed_sections": []
    },
    "kernelspec": {
      "name": "python3",
      "display_name": "Python 3"
    },
    "language_info": {
      "name": "python"
    }
  },
  "cells": [
    {
      "cell_type": "markdown",
      "source": [
        "# **Assignment 5**\n",
        "**Manisha Singh**"
      ],
      "metadata": {
        "id": "TdyaoNbvz1Ke"
      }
    },
    {
      "cell_type": "markdown",
      "source": [
        "## List, Tuple and Sets"
      ],
      "metadata": {
        "id": "8tTUOVi90Ohd"
      }
    },
    {
      "cell_type": "markdown",
      "source": [
        "**Q1. On amazon website we have the following available items -**\n",
        "```Python\n",
        "amazon_website = [(\"watch\", 5000), (\"phone\", 10000), (\"laptop\", 50000), (\"shirt\", 1000)]\n",
        "```\n",
        "**Take the user input N no. of times and find out the total cost to be paid?**\n",
        "\n",
        "OR\n",
        "\n",
        "**You can ask the user quantity or the count of item?**\n",
        "**If the item is not present in the amazon website then print that item as out of stock and do add it to total.**\n",
        "\n",
        "HINT: while, for loop.. indexing"
      ],
      "metadata": {
        "id": "vaODvzpW0SJt"
      }
    },
    {
      "cell_type": "code",
      "execution_count": 2,
      "metadata": {
        "colab": {
          "base_uri": "https://localhost:8080/"
        },
        "id": "Zs2d4DctzsZO",
        "outputId": "cd8df6bf-7ea6-44e1-cc54-7fa5bee68b3c"
      },
      "outputs": [
        {
          "output_type": "stream",
          "name": "stdout",
          "text": [
            "How many items do you want to purchase? 2\n",
            "Enter the name of item you want to purchase: watch\n",
            "Enter the name of item you want to purchase: phone\n",
            "Amount to be be paid is Rs.15000\n"
          ]
        }
      ],
      "source": [
        "amazon_website = [(\"watch\", 5000), (\"phone\", 10000), (\"laptop\", 50000), (\"shirt\", 1000)]\n",
        "\n",
        "cartTotal = 0\n",
        "num = 0\n",
        "\n",
        "count = int(input(\"How many items do you want to purchase? \"))\n",
        "\n",
        "while num < count:\n",
        "    itemName = input(\"Enter the name of item you want to purchase: \")\n",
        "    \n",
        "    for i in amazon_website:\n",
        "        for j in i:\n",
        "            if itemName == j:\n",
        "                cartTotal=i[1] + cartTotal                   \n",
        "                num = num+1\n",
        "\n",
        "print(f\"Amount to be be paid is Rs.{cartTotal}\")"
      ]
    },
    {
      "cell_type": "markdown",
      "source": [
        "**Q2. What will be the output of the following code snippet?**\n",
        "```Python\n",
        "arr = [1, 2, 3, 4, 5, 6]\n",
        "for i in range(1, 6):\n",
        "    arr[i - 1] = arr[i]\n",
        "for i in range(0, 6): \n",
        "    print(arr[i], end = \" \")\n",
        "```"
      ],
      "metadata": {
        "id": "K--TpGamBpjl"
      }
    },
    {
      "cell_type": "code",
      "source": [
        "arr = [1, 2, 3, 4, 5, 6]\n",
        "\n",
        "for i in range(1, 6):\n",
        "    arr[i - 1] = arr[i]\n",
        "for i in range(0, 6): \n",
        "    print(arr[i], end = \" \")"
      ],
      "metadata": {
        "colab": {
          "base_uri": "https://localhost:8080/"
        },
        "id": "Er2Q2XaC4h9d",
        "outputId": "f0bc6667-49a6-4413-c381-78cebeab3dcc"
      },
      "execution_count": 3,
      "outputs": [
        {
          "output_type": "stream",
          "name": "stdout",
          "text": [
            "2 3 4 5 6 6 "
          ]
        }
      ]
    },
    {
      "cell_type": "markdown",
      "source": [
        "**Q3. Write a Python program to find the repeated items of a tuple.**"
      ],
      "metadata": {
        "id": "DY0vEeEICbJ7"
      }
    },
    {
      "cell_type": "code",
      "source": [
        "tup = (23, 45, 11, 87, 45, 33)\n",
        "\n",
        "for i in tup:\n",
        "  if tup.count(i) > 1:\n",
        "    print(i)"
      ],
      "metadata": {
        "colab": {
          "base_uri": "https://localhost:8080/"
        },
        "id": "wCpSLNdPB6C6",
        "outputId": "a52ea78b-a4f0-42e4-905b-8dccf835ffc3"
      },
      "execution_count": 4,
      "outputs": [
        {
          "output_type": "stream",
          "name": "stdout",
          "text": [
            "45\n",
            "45\n"
          ]
        }
      ]
    },
    {
      "cell_type": "markdown",
      "source": [
        "**Q4. Replace last value of tuples in a list with 500. Try using list comprehension.**\n",
        "\n",
        "**Example:**\n",
        "```Python\n",
        "Input -:\n",
        "[(10, 20, 40), (40, 50, 60), (70, 80, 90)]\n",
        "\n",
        "Output -:\n",
        "[(10, 20, 500), (40, 50, 500), (70, 80, 500)]\n",
        "```"
      ],
      "metadata": {
        "id": "mQ0toZp0N-qq"
      }
    },
    {
      "cell_type": "code",
      "source": [
        "a = [(10, 20, 40), (40, 50, 60), (70, 80, 90)]\n",
        "\n",
        "print([i[:-1] + (500,) for i in a])"
      ],
      "metadata": {
        "id": "L49aufF_C4wF",
        "colab": {
          "base_uri": "https://localhost:8080/"
        },
        "outputId": "c5325fd8-69bc-4cb9-f0c0-bb3ecf222fa1"
      },
      "execution_count": 5,
      "outputs": [
        {
          "output_type": "stream",
          "name": "stdout",
          "text": [
            "[(10, 20, 500), (40, 50, 500), (70, 80, 500)]\n"
          ]
        }
      ]
    }
  ]
}